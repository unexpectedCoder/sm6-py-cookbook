{
 "cells": [
  {
   "attachments": {},
   "cell_type": "markdown",
   "metadata": {},
   "source": [
    "# Основы построения графиков\n",
    "\n",
    "Для построения графиков в Python разработано целое множество инструментов (библиотек):\n",
    "[matplotlib][mpl], [plotly][plotly], [seaborn][seaborn] и др.\n",
    "\n",
    "Каждый из указанных инструментов разработан для решения определённых задач.\n",
    "Например, библиотека [matplotlib][mpl], разработанная в конце XX века в NASA, является универсальным инструментом построения графиков в окнах операционной системы:\n",
    "с её помощью можно строить самые разнообразные двухмерные и [трёхмерные графики][mpl3d]\n",
    "и даже создавать [анимированные визуализации][mpl_animation].\n",
    "\n",
    "Остальные библиотеки визуализации данных вдохновлены [matplotlib][mpl] и упрощают создание сложных и красивых графиков.\n",
    "Так, с помощью [plotly][plotly] строят графики, с которыми можно взаимодействовать в браузере, так как данная библиотека основана на JavaScript.\n",
    "Такой подход значительно упрощает и совершенствует обмен результатами обработки данных между различными учёными, инженерами и их группами.\n",
    "Инструмент [seaborn][seaborn] заточен под визуализацию статистических данных, поэтому нашёл широкое применение в науке о данных, машинном обучении и т.п.\n",
    "\n",
    "```{note}\n",
    "Всю необходимую информацию по наиболее распространённым способам визуализации данных\n",
    "вы можете найти в книге [\"Python для сложных задач\"][python4hard].\n",
    "```\n",
    "\n",
    "```{note}\n",
    "Исчерпывающим источником информации по различным python-библиотекам\n",
    "является их документация.\n",
    "```\n",
    "\n",
    "В данном разделе мы рассмотрим основы создания графика тремя инструментами:\n",
    "[matplotlib][mpl], [plotly][plotly] и [seaborn][seaborn].\n",
    "\n",
    "В качестве функции будем использовать кубическую параболу\n",
    "\n",
    "$$\n",
    "f(x) = x^3,\n",
    "$$\n",
    "\n",
    "которую изобразим в пределах $x \\in [-2, 2]$.\n",
    "\n",
    "[mpl]: https://matplotlib.org/\n",
    "[plotly]: https://plotly.com/python/\n",
    "[seaborn]: https://seaborn.pydata.org/\n",
    "[mpl3d]: https://matplotlib.org/stable/gallery/mplot3d/index.html\n",
    "[mpl_animation]: https://matplotlib.org/stable/gallery/animation/index.html\n",
    "[python4hard]: https://www.ozon.ru/product/python-dlya-slozhnyh-zadach-nauka-o-dannyh-i-mashinnoe-obuchenie-vander-plas-dzh-211433316/?sh=KZ1LwfQryQ"
   ]
  },
  {
   "attachments": {},
   "cell_type": "markdown",
   "metadata": {},
   "source": [
    "## Данные для визуализации"
   ]
  },
  {
   "attachments": {},
   "cell_type": "markdown",
   "metadata": {},
   "source": [
    "Прежде чем построить какой-либо график, что-либо визуализировать, и не важно каким конкретно инструментом это самое _что-либо_ нужно рассчитать или загрузить из базы данных. Мы будем рассчитывать. Опишем нашу функцию $f(x)$:"
   ]
  },
  {
   "cell_type": "code",
   "execution_count": 1,
   "metadata": {},
   "outputs": [],
   "source": [
    "def f_cubic(x):\n",
    "    return x**3"
   ]
  },
  {
   "attachments": {},
   "cell_type": "markdown",
   "metadata": {},
   "source": [
    "Теперь инициализируем [numpy](https://numpy.org/)-массив `x` из 101 значения в указанных выше пределах $x \\in [-2, 2]$:"
   ]
  },
  {
   "cell_type": "code",
   "execution_count": 2,
   "metadata": {},
   "outputs": [],
   "source": [
    "import numpy as np\n",
    "\n",
    "x = np.linspace(-2, 2, 101) # Разобьём интервал на 100 отрезков"
   ]
  },
  {
   "attachments": {},
   "cell_type": "markdown",
   "metadata": {},
   "source": [
    "Вызываем `f_cubic(...)` и получаем массив `y`:"
   ]
  },
  {
   "cell_type": "code",
   "execution_count": 3,
   "metadata": {},
   "outputs": [],
   "source": [
    "y = f_cubic(x)"
   ]
  },
  {
   "attachments": {},
   "cell_type": "markdown",
   "metadata": {},
   "source": [
    "Всё готово для построения графика."
   ]
  },
  {
   "attachments": {},
   "cell_type": "markdown",
   "metadata": {},
   "source": [
    "## matplotlib"
   ]
  },
  {
   "attachments": {},
   "cell_type": "markdown",
   "metadata": {},
   "source": [
    "Для начала импортируем соответствующий инструмент - модуль [pyplot](https://matplotlib.org/stable/tutorials/introductory/pyplot.html).\n",
    "Это принято делать так:"
   ]
  },
  {
   "cell_type": "code",
   "execution_count": 4,
   "metadata": {},
   "outputs": [],
   "source": [
    "import matplotlib.pyplot as plt"
   ]
  },
  {
   "attachments": {},
   "cell_type": "markdown",
   "metadata": {},
   "source": [
    "В пакете [pyplot][pyplot] реализованы классы и функции построения графиков в Matlab-стиле.\n",
    "\n",
    "[pyplot][pyplot] построен в парадигме объектно-ориентированного программирования, т.е. графики (их оси, метки, линии и т.д.) являются объектами, хранящими в себе всю необходимую информацию. При этом существуют два подхода к визуализации с помощью [pyplot][pyplot]:\n",
    "\n",
    "* стиль Matlab и\n",
    "* объектно-ориентированный стиль.\n",
    "\n",
    "### Стиль Matlab\n",
    "\n",
    "График строится без явного создания объектов модуля [pyplot][pyplot].\n",
    "\n",
    "[pyplot]: https://matplotlib.org/3.5.3/api/_as_gen/matplotlib.pyplot.html"
   ]
  },
  {
   "cell_type": "code",
   "execution_count": 5,
   "metadata": {},
   "outputs": [
    {
     "data": {
      "image/png": "[encoded data removed]",
      "text/plain": [
       "<Figure size 640x480 with 1 Axes>"
      ]
     },
     "metadata": {},
     "output_type": "display_data"
    }
   ],
   "source": [
    "plt.plot(x, y);\n",
    "# Оператор \";\" в данном случае нужен для того,\n",
    "# чтобы не выводилась техническая информация о созданном окне.\n",
    "# При запуске кода из консоли эта информация не будет выводиться,\n",
    "# в таком случае оператор \";\" ни на что не влияет."
   ]
  },
  {
   "attachments": {},
   "cell_type": "markdown",
   "metadata": {},
   "source": [
    "Только и всего!"
   ]
  },
  {
   "attachments": {},
   "cell_type": "markdown",
   "metadata": {},
   "source": [
    "### Объектно-ориентированный стиль\n",
    "\n",
    "В этом случае мы явно создаём фигуру (рисунок) типа `plt.figure` и ось типа `plt.axis`. Сделать это можно несколькими способами.\n",
    "Например, так:"
   ]
  },
  {
   "cell_type": "code",
   "execution_count": 6,
   "metadata": {},
   "outputs": [
    {
     "data": {
      "image/png": "[encoded data removed]",
      "text/plain": [
       "<Figure size 640x480 with 1 Axes>"
      ]
     },
     "metadata": {},
     "output_type": "display_data"
    }
   ],
   "source": [
    "fig = plt.figure()\n",
    "ax = fig.add_axes([.1, .1, .8, .8])\n",
    "# Список, переданный add_axes(...) в качестве аргумента,\n",
    "# описывает прямоугольник \"рабочего поля\" (оси plt.axis) -\n",
    "# то, что очерчено чёрными осями.\n",
    "# Первые два значения - координата левой нижней точки прямоугольника\n",
    "# в относительных (от 0 до 1) координатах окна;\n",
    "# вторые два значения - ширина и высота этого прямоугольника\n",
    "# в тех же координатах."
   ]
  },
  {
   "attachments": {},
   "cell_type": "markdown",
   "metadata": {},
   "source": [
    "Или с помощью функции `plt.subplots`, которая возвращает кортеж вида\n",
    "`(plt.figure, plt.axes)`:"
   ]
  },
  {
   "cell_type": "code",
   "execution_count": 7,
   "metadata": {},
   "outputs": [
    {
     "data": {
      "image/png": "[encoded data removed]",
      "text/plain": [
       "<Figure size 640x480 with 1 Axes>"
      ]
     },
     "metadata": {},
     "output_type": "display_data"
    }
   ],
   "source": [
    "fig, ax = plt.subplots()\n",
    "# Кортеж сразу распакован"
   ]
  },
  {
   "attachments": {},
   "cell_type": "markdown",
   "metadata": {},
   "source": [
    "```{attention} Одна (ax**i**s) или несколько (ax**e**s) осей\n",
    "axis - это ось, ед. число; axes - оси во множ. числе.\n",
    "\n",
    "В общем случае `plt.subplots` возвращает массив осей, но по умолчанию ось всего одна, поэтому возвращённый экземпляр в данном случае имеет тип `plt.axis` вместо `plt.axes`.\n",
    "```"
   ]
  },
  {
   "attachments": {},
   "cell_type": "markdown",
   "metadata": {},
   "source": [
    "Теперь у нас есть два объекта с именами `fig` (фигура, рисунок, окно типа `plt.figure`) и `ax` (ось типа `plt.axis`).\n",
    "В терминах [matplotlib](https://matplotlib.org/) `fig` - это окно, т.е. весь рисунок выше; `ax` - это область, ограниченная числовыми осями графика.\n",
    "\n",
    "Отрисовка происходит непосредственно через объект оси `ax`:"
   ]
  },
  {
   "cell_type": "code",
   "execution_count": 8,
   "metadata": {},
   "outputs": [
    {
     "data": {
      "image/png": "[encoded data removed]",
      "text/plain": [
       "<Figure size 640x480 with 1 Axes>"
      ]
     },
     "metadata": {},
     "output_type": "display_data"
    }
   ],
   "source": [
    "fig, ax = plt.subplots()\n",
    "ax.plot(x, y);"
   ]
  },
  {
   "attachments": {},
   "cell_type": "markdown",
   "metadata": {},
   "source": [
    "```{note}\n",
    "Может возникнуть вопрос. Зачем создавать объекты явно (2 или 3 строки кода) вместо того, чтобы использовать неявный метод (1 строка кода)?\n",
    "Дело в том, что явным методом возможно строить очень сложные графики, в т.ч. трёхмерные. Неявный метод для этого не подходит.\n",
    "```\n",
    "\n",
    "Вот таким образом строятся простые двумерные графики с помощью [matplotlib](https://matplotlib.org/)."
   ]
  },
  {
   "attachments": {},
   "cell_type": "markdown",
   "metadata": {},
   "source": [
    "## plotly\n",
    "\n",
    "Рассмотрим ту же задачу, используя [plotly](https://plotly.com/python/). Для начала импортируем пакет [express](https://plotly.com/python/plotly-express/):"
   ]
  },
  {
   "cell_type": "code",
   "execution_count": 9,
   "metadata": {},
   "outputs": [],
   "source": [
    "import plotly.express as px"
   ]
  },
  {
   "attachments": {},
   "cell_type": "markdown",
   "metadata": {},
   "source": [
    "Уже видно отличие от [matplotlib](https://matplotlib.org/) -\n",
    "[plotly][plotly] работает с размеченными данными (словарями), а не нативными массивами.\n",
    "Это объясняется тем, что [plotly][plotly] заточена на обработку больших многомерных данных, имеющих место в задачах аналитики, машинного обучения и т.п.\n",
    "\n",
    "[plotly]: https://plotly.com/python/\n",
    "\n",
    "Сформируем таблицу (словарь) `xy` из массивов `x` и `y`:"
   ]
  },
  {
   "cell_type": "code",
   "execution_count": 10,
   "metadata": {},
   "outputs": [],
   "source": [
    "xy = dict(x=x, y=y)"
   ]
  },
  {
   "attachments": {},
   "cell_type": "markdown",
   "metadata": {},
   "source": [
    "Строим график:"
   ]
  },
  {
   "cell_type": "code",
   "execution_count": 11,
   "metadata": {},
   "outputs": [
    {
     "data": {
      "application/vnd.plotly.v1+json": {
       "config": {
        "plotlyServerURL": "https://plot.ly"
       },
       "data": [
        {
         "hovertemplate": "x=%{x}<br>y=%{y}<extra></extra>",
         "legendgroup": "",
         "line": {
          "color": "#636efa",
          "dash": "solid"
         },
         "marker": {
          "symbol": "circle"
         },
         "mode": "lines",
         "name": "",
         "orientation": "v",
         "showlegend": false,
         "type": "scatter",
         "x": [
          -2,
          -1.96,
          -1.92,
          -1.88,
          -1.84,
          -1.8,
          -1.76,
          -1.72,
          -1.68,
          -1.6400000000000001,
          -1.6,
          -1.56,
          -1.52,
          -1.48,
          -1.44,
          -1.4,
          -1.3599999999999999,
          -1.3199999999999998,
          -1.28,
          -1.24,
          -1.2,
          -1.1600000000000001,
          -1.12,
          -1.08,
          -1.04,
          -1,
          -0.96,
          -0.9199999999999999,
          -0.8799999999999999,
          -0.8400000000000001,
          -0.8,
          -0.76,
          -0.72,
          -0.6799999999999999,
          -0.6399999999999999,
          -0.5999999999999999,
          -0.56,
          -0.52,
          -0.48,
          -0.43999999999999995,
          -0.3999999999999999,
          -0.3599999999999999,
          -0.32000000000000006,
          -0.28,
          -0.24,
          -0.19999999999999996,
          -0.15999999999999992,
          -0.11999999999999988,
          -0.08000000000000007,
          -0.040000000000000036,
          0,
          0.040000000000000036,
          0.08000000000000007,
          0.1200000000000001,
          0.16000000000000014,
          0.20000000000000018,
          0.2400000000000002,
          0.28000000000000025,
          0.31999999999999984,
          0.3599999999999999,
          0.3999999999999999,
          0.43999999999999995,
          0.48,
          0.52,
          0.56,
          0.6000000000000001,
          0.6400000000000001,
          0.6800000000000002,
          0.7200000000000002,
          0.7600000000000002,
          0.8000000000000003,
          0.8399999999999999,
          0.8799999999999999,
          0.9199999999999999,
          0.96,
          1,
          1.04,
          1.08,
          1.12,
          1.1600000000000001,
          1.2000000000000002,
          1.2400000000000002,
          1.2800000000000002,
          1.3200000000000003,
          1.3599999999999999,
          1.4,
          1.44,
          1.48,
          1.52,
          1.56,
          1.6,
          1.6400000000000001,
          1.6800000000000002,
          1.7200000000000002,
          1.7600000000000002,
          1.8000000000000003,
          1.8399999999999999,
          1.88,
          1.92,
          1.96,
          2
         ],
         "xaxis": "x",
         "y": [
          -8,
          -7.529535999999999,
          -7.077887999999999,
          -6.644671999999999,
          -6.229504,
          -5.832000000000001,
          -5.451776,
          -5.088448,
          -4.741631999999999,
          -4.410944000000001,
          -4.096000000000001,
          -3.7964160000000002,
          -3.5118080000000003,
          -3.241792,
          -2.9859839999999997,
          -2.7439999999999993,
          -2.5154559999999995,
          -2.2999679999999993,
          -2.0971520000000003,
          -1.9066239999999999,
          -1.7279999999999998,
          -1.5608960000000005,
          -1.4049280000000004,
          -1.2597120000000002,
          -1.124864,
          -1,
          -0.8847359999999999,
          -0.7786879999999998,
          -0.6814719999999997,
          -0.5927040000000001,
          -0.5120000000000001,
          -0.43897600000000003,
          -0.37324799999999997,
          -0.31443199999999993,
          -0.2621439999999999,
          -0.21599999999999986,
          -0.17561600000000005,
          -0.140608,
          -0.11059199999999998,
          -0.08518399999999997,
          -0.06399999999999996,
          -0.046655999999999954,
          -0.03276800000000002,
          -0.021952000000000006,
          -0.013823999999999998,
          -0.007999999999999995,
          -0.004095999999999994,
          -0.001727999999999995,
          -0.0005120000000000014,
          -0.00006400000000000017,
          0,
          0.00006400000000000017,
          0.0005120000000000014,
          0.0017280000000000047,
          0.004096000000000011,
          0.008000000000000021,
          0.013824000000000038,
          0.02195200000000006,
          0.03276799999999995,
          0.046655999999999954,
          0.06399999999999996,
          0.08518399999999997,
          0.11059199999999998,
          0.140608,
          0.17561600000000005,
          0.2160000000000001,
          0.26214400000000015,
          0.3144320000000002,
          0.3732480000000003,
          0.4389760000000004,
          0.5120000000000006,
          0.5927039999999997,
          0.6814719999999997,
          0.7786879999999998,
          0.8847359999999999,
          1,
          1.124864,
          1.2597120000000002,
          1.4049280000000004,
          1.5608960000000005,
          1.7280000000000009,
          1.906624000000001,
          2.0971520000000012,
          2.2999680000000016,
          2.5154559999999995,
          2.7439999999999993,
          2.9859839999999997,
          3.241792,
          3.5118080000000003,
          3.7964160000000002,
          4.096000000000001,
          4.410944000000001,
          4.741632000000001,
          5.088448000000001,
          5.451776000000002,
          5.8320000000000025,
          6.229503999999999,
          6.644671999999999,
          7.077887999999999,
          7.529535999999999,
          8
         ],
         "yaxis": "y"
        }
       ],
       "layout": {
        "legend": {
         "tracegroupgap": 0
        },
        "margin": {
         "t": 60
        },
        "template": {
         "data": {
          "bar": [
           {
            "error_x": {
             "color": "#2a3f5f"
            },
            "error_y": {
             "color": "#2a3f5f"
            },
            "marker": {
             "line": {
              "color": "#E5ECF6",
              "width": 0.5
             },
             "pattern": {
              "fillmode": "overlay",
              "size": 10,
              "solidity": 0.2
             }
            },
            "type": "bar"
           }
          ],
          "barpolar": [
           {
            "marker": {
             "line": {
              "color": "#E5ECF6",
              "width": 0.5
             },
             "pattern": {
              "fillmode": "overlay",
              "size": 10,
              "solidity": 0.2
             }
            },
            "type": "barpolar"
           }
          ],
          "carpet": [
           {
            "aaxis": {
             "endlinecolor": "#2a3f5f",
             "gridcolor": "white",
             "linecolor": "white",
             "minorgridcolor": "white",
             "startlinecolor": "#2a3f5f"
            },
            "baxis": {
             "endlinecolor": "#2a3f5f",
             "gridcolor": "white",
             "linecolor": "white",
             "minorgridcolor": "white",
             "startlinecolor": "#2a3f5f"
            },
            "type": "carpet"
           }
          ],
          "choropleth": [
           {
            "colorbar": {
             "outlinewidth": 0,
             "ticks": ""
            },
            "type": "choropleth"
           }
          ],
          "contour": [
           {
            "colorbar": {
             "outlinewidth": 0,
             "ticks": ""
            },
            "colorscale": [
             [
              0,
              "#0d0887"
             ],
             [
              0.1111111111111111,
              "#46039f"
             ],
             [
              0.2222222222222222,
              "#7201a8"
             ],
             [
              0.3333333333333333,
              "#9c179e"
             ],
             [
              0.4444444444444444,
              "#bd3786"
             ],
             [
              0.5555555555555556,
              "#d8576b"
             ],
             [
              0.6666666666666666,
              "#ed7953"
             ],
             [
              0.7777777777777778,
              "#fb9f3a"
             ],
             [
              0.8888888888888888,
              "#fdca26"
             ],
             [
              1,
              "#f0f921"
             ]
            ],
            "type": "contour"
           }
          ],
          "contourcarpet": [
           {
            "colorbar": {
             "outlinewidth": 0,
             "ticks": ""
            },
            "type": "contourcarpet"
           }
          ],
          "heatmap": [
           {
            "colorbar": {
             "outlinewidth": 0,
             "ticks": ""
            },
            "colorscale": [
             [
              0,
              "#0d0887"
             ],
             [
              0.1111111111111111,
              "#46039f"
             ],
             [
              0.2222222222222222,
              "#7201a8"
             ],
             [
              0.3333333333333333,
              "#9c179e"
             ],
             [
              0.4444444444444444,
              "#bd3786"
             ],
             [
              0.5555555555555556,
              "#d8576b"
             ],
             [
              0.6666666666666666,
              "#ed7953"
             ],
             [
              0.7777777777777778,
              "#fb9f3a"
             ],
             [
              0.8888888888888888,
              "#fdca26"
             ],
             [
              1,
              "#f0f921"
             ]
            ],
            "type": "heatmap"
           }
          ],
          "heatmapgl": [
           {
            "colorbar": {
             "outlinewidth": 0,
             "ticks": ""
            },
            "colorscale": [
             [
              0,
              "#0d0887"
             ],
             [
              0.1111111111111111,
              "#46039f"
             ],
             [
              0.2222222222222222,
              "#7201a8"
             ],
             [
              0.3333333333333333,
              "#9c179e"
             ],
             [
              0.4444444444444444,
              "#bd3786"
             ],
             [
              0.5555555555555556,
              "#d8576b"
             ],
             [
              0.6666666666666666,
              "#ed7953"
             ],
             [
              0.7777777777777778,
              "#fb9f3a"
             ],
             [
              0.8888888888888888,
              "#fdca26"
             ],
             [
              1,
              "#f0f921"
             ]
            ],
            "type": "heatmapgl"
           }
          ],
          "histogram": [
           {
            "marker": {
             "pattern": {
              "fillmode": "overlay",
              "size": 10,
              "solidity": 0.2
             }
            },
            "type": "histogram"
           }
          ],
          "histogram2d": [
           {
            "colorbar": {
             "outlinewidth": 0,
             "ticks": ""
            },
            "colorscale": [
             [
              0,
              "#0d0887"
             ],
             [
              0.1111111111111111,
              "#46039f"
             ],
             [
              0.2222222222222222,
              "#7201a8"
             ],
             [
              0.3333333333333333,
              "#9c179e"
             ],
             [
              0.4444444444444444,
              "#bd3786"
             ],
             [
              0.5555555555555556,
              "#d8576b"
             ],
             [
              0.6666666666666666,
              "#ed7953"
             ],
             [
              0.7777777777777778,
              "#fb9f3a"
             ],
             [
              0.8888888888888888,
              "#fdca26"
             ],
             [
              1,
              "#f0f921"
             ]
            ],
            "type": "histogram2d"
           }
          ],
          "histogram2dcontour": [
           {
            "colorbar": {
             "outlinewidth": 0,
             "ticks": ""
            },
            "colorscale": [
             [
              0,
              "#0d0887"
             ],
             [
              0.1111111111111111,
              "#46039f"
             ],
             [
              0.2222222222222222,
              "#7201a8"
             ],
             [
              0.3333333333333333,
              "#9c179e"
             ],
             [
              0.4444444444444444,
              "#bd3786"
             ],
             [
              0.5555555555555556,
              "#d8576b"
             ],
             [
              0.6666666666666666,
              "#ed7953"
             ],
             [
              0.7777777777777778,
              "#fb9f3a"
             ],
             [
              0.8888888888888888,
              "#fdca26"
             ],
             [
              1,
              "#f0f921"
             ]
            ],
            "type": "histogram2dcontour"
           }
          ],
          "mesh3d": [
           {
            "colorbar": {
             "outlinewidth": 0,
             "ticks": ""
            },
            "type": "mesh3d"
           }
          ],
          "parcoords": [
           {
            "line": {
             "colorbar": {
              "outlinewidth": 0,
              "ticks": ""
             }
            },
            "type": "parcoords"
           }
          ],
          "pie": [
           {
            "automargin": true,
            "type": "pie"
           }
          ],
          "scatter": [
           {
            "fillpattern": {
             "fillmode": "overlay",
             "size": 10,
             "solidity": 0.2
            },
            "type": "scatter"
           }
          ],
          "scatter3d": [
           {
            "line": {
             "colorbar": {
              "outlinewidth": 0,
              "ticks": ""
             }
            },
            "marker": {
             "colorbar": {
              "outlinewidth": 0,
              "ticks": ""
             }
            },
            "type": "scatter3d"
           }
          ],
          "scattercarpet": [
           {
            "marker": {
             "colorbar": {
              "outlinewidth": 0,
              "ticks": ""
             }
            },
            "type": "scattercarpet"
           }
          ],
          "scattergeo": [
           {
            "marker": {
             "colorbar": {
              "outlinewidth": 0,
              "ticks": ""
             }
            },
            "type": "scattergeo"
           }
          ],
          "scattergl": [
           {
            "marker": {
             "colorbar": {
              "outlinewidth": 0,
              "ticks": ""
             }
            },
            "type": "scattergl"
           }
          ],
          "scattermapbox": [
           {
            "marker": {
             "colorbar": {
              "outlinewidth": 0,
              "ticks": ""
             }
            },
            "type": "scattermapbox"
           }
          ],
          "scatterpolar": [
           {
            "marker": {
             "colorbar": {
              "outlinewidth": 0,
              "ticks": ""
             }
            },
            "type": "scatterpolar"
           }
          ],
          "scatterpolargl": [
           {
            "marker": {
             "colorbar": {
              "outlinewidth": 0,
              "ticks": ""
             }
            },
            "type": "scatterpolargl"
           }
          ],
          "scatterternary": [
           {
            "marker": {
             "colorbar": {
              "outlinewidth": 0,
              "ticks": ""
             }
            },
            "type": "scatterternary"
           }
          ],
          "surface": [
           {
            "colorbar": {
             "outlinewidth": 0,
             "ticks": ""
            },
            "colorscale": [
             [
              0,
              "#0d0887"
             ],
             [
              0.1111111111111111,
              "#46039f"
             ],
             [
              0.2222222222222222,
              "#7201a8"
             ],
             [
              0.3333333333333333,
              "#9c179e"
             ],
             [
              0.4444444444444444,
              "#bd3786"
             ],
             [
              0.5555555555555556,
              "#d8576b"
             ],
             [
              0.6666666666666666,
              "#ed7953"
             ],
             [
              0.7777777777777778,
              "#fb9f3a"
             ],
             [
              0.8888888888888888,
              "#fdca26"
             ],
             [
              1,
              "#f0f921"
             ]
            ],
            "type": "surface"
           }
          ],
          "table": [
           {
            "cells": {
             "fill": {
              "color": "#EBF0F8"
             },
             "line": {
              "color": "white"
             }
            },
            "header": {
             "fill": {
              "color": "#C8D4E3"
             },
             "line": {
              "color": "white"
             }
            },
            "type": "table"
           }
          ]
         },
         "layout": {
          "annotationdefaults": {
           "arrowcolor": "#2a3f5f",
           "arrowhead": 0,
           "arrowwidth": 1
          },
          "autotypenumbers": "strict",
          "coloraxis": {
           "colorbar": {
            "outlinewidth": 0,
            "ticks": ""
           }
          },
          "colorscale": {
           "diverging": [
            [
             0,
             "#8e0152"
            ],
            [
             0.1,
             "#c51b7d"
            ],
            [
             0.2,
             "#de77ae"
            ],
            [
             0.3,
             "#f1b6da"
            ],
            [
             0.4,
             "#fde0ef"
            ],
            [
             0.5,
             "#f7f7f7"
            ],
            [
             0.6,
             "#e6f5d0"
            ],
            [
             0.7,
             "#b8e186"
            ],
            [
             0.8,
             "#7fbc41"
            ],
            [
             0.9,
             "#4d9221"
            ],
            [
             1,
             "#276419"
            ]
           ],
           "sequential": [
            [
             0,
             "#0d0887"
            ],
            [
             0.1111111111111111,
             "#46039f"
            ],
            [
             0.2222222222222222,
             "#7201a8"
            ],
            [
             0.3333333333333333,
             "#9c179e"
            ],
            [
             0.4444444444444444,
             "#bd3786"
            ],
            [
             0.5555555555555556,
             "#d8576b"
            ],
            [
             0.6666666666666666,
             "#ed7953"
            ],
            [
             0.7777777777777778,
             "#fb9f3a"
            ],
            [
             0.8888888888888888,
             "#fdca26"
            ],
            [
             1,
             "#f0f921"
            ]
           ],
           "sequentialminus": [
            [
             0,
             "#0d0887"
            ],
            [
             0.1111111111111111,
             "#46039f"
            ],
            [
             0.2222222222222222,
             "#7201a8"
            ],
            [
             0.3333333333333333,
             "#9c179e"
            ],
            [
             0.4444444444444444,
             "#bd3786"
            ],
            [
             0.5555555555555556,
             "#d8576b"
            ],
            [
             0.6666666666666666,
             "#ed7953"
            ],
            [
             0.7777777777777778,
             "#fb9f3a"
            ],
            [
             0.8888888888888888,
             "#fdca26"
            ],
            [
             1,
             "#f0f921"
            ]
           ]
          },
          "colorway": [
           "#636efa",
           "#EF553B",
           "#00cc96",
           "#ab63fa",
           "#FFA15A",
           "#19d3f3",
           "#FF6692",
           "#B6E880",
           "#FF97FF",
           "#FECB52"
          ],
          "font": {
           "color": "#2a3f5f"
          },
          "geo": {
           "bgcolor": "white",
           "lakecolor": "white",
           "landcolor": "#E5ECF6",
           "showlakes": true,
           "showland": true,
           "subunitcolor": "white"
          },
          "hoverlabel": {
           "align": "left"
          },
          "hovermode": "closest",
          "mapbox": {
           "style": "light"
          },
          "paper_bgcolor": "white",
          "plot_bgcolor": "#E5ECF6",
          "polar": {
           "angularaxis": {
            "gridcolor": "white",
            "linecolor": "white",
            "ticks": ""
           },
           "bgcolor": "#E5ECF6",
           "radialaxis": {
            "gridcolor": "white",
            "linecolor": "white",
            "ticks": ""
           }
          },
          "scene": {
           "xaxis": {
            "backgroundcolor": "#E5ECF6",
            "gridcolor": "white",
            "gridwidth": 2,
            "linecolor": "white",
            "showbackground": true,
            "ticks": "",
            "zerolinecolor": "white"
           },
           "yaxis": {
            "backgroundcolor": "#E5ECF6",
            "gridcolor": "white",
            "gridwidth": 2,
            "linecolor": "white",
            "showbackground": true,
            "ticks": "",
            "zerolinecolor": "white"
           },
           "zaxis": {
            "backgroundcolor": "#E5ECF6",
            "gridcolor": "white",
            "gridwidth": 2,
            "linecolor": "white",
            "showbackground": true,
            "ticks": "",
            "zerolinecolor": "white"
           }
          },
          "shapedefaults": {
           "line": {
            "color": "#2a3f5f"
           }
          },
          "ternary": {
           "aaxis": {
            "gridcolor": "white",
            "linecolor": "white",
            "ticks": ""
           },
           "baxis": {
            "gridcolor": "white",
            "linecolor": "white",
            "ticks": ""
           },
           "bgcolor": "#E5ECF6",
           "caxis": {
            "gridcolor": "white",
            "linecolor": "white",
            "ticks": ""
           }
          },
          "title": {
           "x": 0.05
          },
          "xaxis": {
           "automargin": true,
           "gridcolor": "white",
           "linecolor": "white",
           "ticks": "",
           "title": {
            "standoff": 15
           },
           "zerolinecolor": "white",
           "zerolinewidth": 2
          },
          "yaxis": {
           "automargin": true,
           "gridcolor": "white",
           "linecolor": "white",
           "ticks": "",
           "title": {
            "standoff": 15
           },
           "zerolinecolor": "white",
           "zerolinewidth": 2
          }
         }
        },
        "xaxis": {
         "anchor": "y",
         "domain": [
          0,
          1
         ],
         "title": {
          "text": "x"
         }
        },
        "yaxis": {
         "anchor": "x",
         "domain": [
          0,
          1
         ],
         "title": {
          "text": "y"
         }
        }
       }
      }
     },
     "metadata": {},
     "output_type": "display_data"
    }
   ],
   "source": [
    "fig = px.line(xy, x=\"x\", y=\"y\")\n",
    "fig.show()"
   ]
  },
  {
   "attachments": {},
   "cell_type": "markdown",
   "metadata": {},
   "source": [
    "Так же бросается в глаза отличное от [matplotlib](https://matplotlib.org/) поведение по умолчанию: оси подписаны, отображается сетка и пр.\n",
    "Основной особенностью является то, что график [plotly](https://plotly.com/python/) по умолчанию интерактивный даже в браузере."
   ]
  },
  {
   "attachments": {},
   "cell_type": "markdown",
   "metadata": {},
   "source": [
    "## seaborn\n",
    "\n",
    "Как отмечено выше, [seaborn](https://seaborn.pydata.org/) предназначена для визуализации статистических данных, поэтому, как и [plotly](https://plotly.com/python/), работает с размеченными данными вместо \"чистых\" массивов.\n",
    "\n",
    "Импортировать данную библиотеку принято так:"
   ]
  },
  {
   "cell_type": "code",
   "execution_count": 12,
   "metadata": {},
   "outputs": [],
   "source": [
    "import seaborn as sns"
   ]
  },
  {
   "attachments": {},
   "cell_type": "markdown",
   "metadata": {},
   "source": [
    "Построить линейный график можно так:"
   ]
  },
  {
   "cell_type": "code",
   "execution_count": 13,
   "metadata": {},
   "outputs": [
    {
     "data": {
      "text/plain": [
       "<seaborn.axisgrid.FacetGrid at 0x7fae1f1a2350>"
      ]
     },
     "execution_count": 13,
     "metadata": {},
     "output_type": "execute_result"
    },
    {
     "data": {
      "image/png": "[encoded data removed]",
      "text/plain": [
       "<Figure size 500x500 with 1 Axes>"
      ]
     },
     "metadata": {},
     "output_type": "display_data"
    }
   ],
   "source": [
    "sns.relplot(\n",
    "    xy, x=\"x\", y=\"y\", kind=\"line\"   # \"kind\" как раз и отвечает за соединение точек линией\n",
    ")"
   ]
  },
  {
   "attachments": {},
   "cell_type": "markdown",
   "metadata": {},
   "source": [
    "Так же заметны серьёзные отличия поведения по умолчанию от двух предыдущих инструментов.\n",
    "Полученный график, как и [matplotlib](https://matplotlib.org/), по умолчанию не является интерактивным в браузере."
   ]
  },
  {
   "attachments": {},
   "cell_type": "markdown",
   "metadata": {},
   "source": [
    "На этом рассмотрение основ построения графиков в Python закончено.\n",
    "Подробности вы можете найти в официальной документации на библиотеки.\n",
    "\n",
    "В других частях пособия приведены некоторые наиболее часто используемые особенности рассмотренных библиотек."
   ]
  }
 ],
 "metadata": {
  "kernelspec": {
   "display_name": ".venv",
   "language": "python",
   "name": "python3"
  },
  "language_info": {
   "codemirror_mode": {
    "name": "ipython",
    "version": 3
   },
   "file_extension": ".py",
   "mimetype": "text/x-python",
   "name": "python",
   "nbconvert_exporter": "python",
   "pygments_lexer": "ipython3",
   "version": "3.10.6"
  },
  "orig_nbformat": 4
 },
 "nbformat": 4,
 "nbformat_minor": 2
}
