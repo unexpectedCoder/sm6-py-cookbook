{
 "cells": [
  {
   "cell_type": "markdown",
   "metadata": {},
   "source": [
    "# Использование генераторов псевдослучайных чисел\n",
    "\n",
    "Начнём рассмотрение вопроса с помощью стандартного модуля [`random`](https://docs.python.org/3/library/random.html).\n",
    "Абсолютно всю информацию о нём вы найдёте в официальной документации."
   ]
  },
  {
   "cell_type": "markdown",
   "metadata": {},
   "source": [
    "## Основы\n",
    "\n",
    "Импортируем модуль:"
   ]
  },
  {
   "cell_type": "code",
   "execution_count": 1,
   "metadata": {},
   "outputs": [],
   "source": [
    "import random as rand"
   ]
  },
  {
   "cell_type": "markdown",
   "metadata": {},
   "source": [
    "Сгенерируем 5 псевдослучайных чисел (ПСЧ):"
   ]
  },
  {
   "cell_type": "code",
   "execution_count": 2,
   "metadata": {},
   "outputs": [
    {
     "name": "stdout",
     "output_type": "stream",
     "text": [
      "0.6303693184458115\n",
      "0.6452507189338954\n",
      "0.4469935061688656\n",
      "0.34406253582438884\n",
      "0.4680908154895286\n"
     ]
    }
   ],
   "source": [
    "for _ in range(5):\n",
    "    print(rand.random())"
   ]
  },
  {
   "cell_type": "markdown",
   "metadata": {},
   "source": [
    "Функция `random()` генерирует ПСЧ, распределённое равномерно на полуотрезке [0, 1).\n",
    "\n",
    "```{note}\n",
    "Запустив этот код несколько раз, вы заметите, что каждый раз получаете различный результат.\n",
    "Ниже приведён тот же код, однако результат отличается.\n",
    "```"
   ]
  },
  {
   "cell_type": "code",
   "execution_count": 3,
   "metadata": {},
   "outputs": [
    {
     "name": "stdout",
     "output_type": "stream",
     "text": [
      "0.5434594321830499\n",
      "0.47074026414922443\n",
      "0.1000773179197263\n",
      "0.30575432236180045\n",
      "0.028153889143550548\n"
     ]
    }
   ],
   "source": [
    "for _ in range(5):\n",
    "    print(rand.random())"
   ]
  },
  {
   "cell_type": "markdown",
   "metadata": {},
   "source": [
    "### Состояние генератора\n",
    "\n",
    "На самом деле в предыдущем примере мы вызвали не _функцию_ `random()`, а _метод_ `random()` _экземпляра_ класса `Random`.\n",
    "Конкретный экземпляр класса `Random` имеет определённое _состояние_, которое по умолчанию случайно, но может определяется параметром `seed` (на русский часто переводится как \"затравка\") или методом `setstate(...)` в любой момент работы программы.\n",
    "\n",
    "Повторим предыдущий пример, задав определённое значение `seed`:"
   ]
  },
  {
   "cell_type": "code",
   "execution_count": 4,
   "metadata": {},
   "outputs": [
    {
     "name": "stdout",
     "output_type": "stream",
     "text": [
      "0.7020746348844183\n",
      "0.6233161107388304\n",
      "0.12425768533206094\n",
      "0.29613478392527026\n",
      "0.5273751569843022\n"
     ]
    }
   ],
   "source": [
    "# Затравка может быть любым целым числом.\n",
    "# Рекомендуют назначать его очень большим числом,\n",
    "# чтобы уменьшить вероятность совпадения затравок,\n",
    "# назначенных разными людьми\n",
    "rand.seed(1700077)\n",
    "for _ in range(5):\n",
    "    print(rand.random())"
   ]
  },
  {
   "cell_type": "markdown",
   "metadata": {},
   "source": [
    "И ещё раз выполним этот же код:"
   ]
  },
  {
   "cell_type": "code",
   "execution_count": 5,
   "metadata": {},
   "outputs": [
    {
     "name": "stdout",
     "output_type": "stream",
     "text": [
      "0.7020746348844183\n",
      "0.6233161107388304\n",
      "0.12425768533206094\n",
      "0.29613478392527026\n",
      "0.5273751569843022\n"
     ]
    }
   ],
   "source": [
    "rand.seed(1700077)\n",
    "for _ in range(5):\n",
    "    print(rand.random())"
   ]
  },
  {
   "cell_type": "markdown",
   "metadata": {},
   "source": [
    "Сколько бы раз мы не запустили код, мы будем получать одну и ту же последовательность значений.\n",
    "Таким образом наглядно показано свойство обеспечения воспроизводимости результатов ГПСЧ.\n",
    "\n",
    "Изменим затравку - получим другой результат:"
   ]
  },
  {
   "cell_type": "code",
   "execution_count": 6,
   "metadata": {},
   "outputs": [
    {
     "name": "stdout",
     "output_type": "stream",
     "text": [
      "0.22933408950153078\n",
      "0.44559617334521107\n",
      "0.36859824937216046\n",
      "0.269835098321503\n",
      "0.3361436466700177\n"
     ]
    }
   ],
   "source": [
    "rand.seed(777)\n",
    "for _ in range(5):\n",
    "    print(rand.random())"
   ]
  },
  {
   "cell_type": "markdown",
   "metadata": {},
   "source": [
    "Но теперь этот результат всё так же от запуска к запуску будет повторяться:"
   ]
  },
  {
   "cell_type": "code",
   "execution_count": 7,
   "metadata": {},
   "outputs": [
    {
     "name": "stdout",
     "output_type": "stream",
     "text": [
      "0.22933408950153078\n",
      "0.44559617334521107\n",
      "0.36859824937216046\n",
      "0.269835098321503\n",
      "0.3361436466700177\n"
     ]
    }
   ],
   "source": [
    "rand.seed(777)\n",
    "for _ in range(5):\n",
    "    print(rand.random())"
   ]
  },
  {
   "cell_type": "markdown",
   "metadata": {},
   "source": [
    "Рассмотрим пример, показывающий неудобство использования метода `seed()` напрямую.\n",
    "\n",
    "Пусть есть две функции, использующие внутри себя ГПСЧ, причём получают ПСЧ, распределённое по одинаковым законам.\n",
    "Пусть, например, функция `f()` генерирует ПСЧ, используя `random()`.\n",
    "То же делает и функция `g()`:"
   ]
  },
  {
   "cell_type": "code",
   "execution_count": 8,
   "metadata": {},
   "outputs": [],
   "source": [
    "def f():\n",
    "    return rand.random()\n",
    "\n",
    "def g():\n",
    "    return rand.random()"
   ]
  },
  {
   "cell_type": "markdown",
   "metadata": {},
   "source": [
    "Вызовем последовательно эти функции:"
   ]
  },
  {
   "cell_type": "code",
   "execution_count": 9,
   "metadata": {},
   "outputs": [
    {
     "name": "stdout",
     "output_type": "stream",
     "text": [
      "0.7523163560031157 0.9226950812763804\n"
     ]
    }
   ],
   "source": [
    "print(f(), g())"
   ]
  },
  {
   "cell_type": "markdown",
   "metadata": {},
   "source": [
    "При каждом запуске получаем разные результаты.\n",
    "Но попробуем реализовать возможность воспроизведения результатов.\n",
    "Для этого вызовем `seed(...)` в глобальной области видимости:"
   ]
  },
  {
   "cell_type": "code",
   "execution_count": 10,
   "metadata": {},
   "outputs": [
    {
     "name": "stdout",
     "output_type": "stream",
     "text": [
      "0.45611964897696833 0.9033231539802643\n"
     ]
    }
   ],
   "source": [
    "rand.seed(666)\n",
    "print(f(), g())"
   ]
  },
  {
   "cell_type": "markdown",
   "metadata": {},
   "source": [
    "Мы добились своего - результат от запуска к запуску не меняется.\n",
    "Заметим ещё одно, а именно то, что результат не изменится, если мы поменяем местами вызовы функций:"
   ]
  },
  {
   "cell_type": "code",
   "execution_count": 11,
   "metadata": {},
   "outputs": [
    {
     "name": "stdout",
     "output_type": "stream",
     "text": [
      "0.45611964897696833 0.9033231539802643\n"
     ]
    }
   ],
   "source": [
    "rand.seed(666)\n",
    "print(g(), f())"
   ]
  },
  {
   "cell_type": "markdown",
   "metadata": {},
   "source": [
    "```{note}\n",
    "Заметьте, в каждой ячейке мы должны вызвать `seed(...)`, чтобы каждый раз переустанавливать ГПСЧ в начальное состояние.\n",
    "В противном случае будут генерироваться новые случайные числа, которые тем не менее всё так же воспроизводимы.\n",
    "Иными словами, если после вызова `seed(...)` мы сгенерировали $m$ чисел, то при повторном запуске для генерации $n$ чисел, $n > m$, будут сгенерированы те же самые $m$ чисел, плюс $n - m$ новых чисел.\n",
    "```\n",
    "\n",
    "Убедимся в этом так.\n",
    "Опишем функцию генерации заданного количества ПСЧ:"
   ]
  },
  {
   "cell_type": "code",
   "execution_count": 12,
   "metadata": {},
   "outputs": [],
   "source": [
    "def gen_randoms(n):\n",
    "    return [\n",
    "        rand.random() for _ in range(n)\n",
    "    ]"
   ]
  },
  {
   "cell_type": "markdown",
   "metadata": {},
   "source": [
    "И вызовем её для генерации сначала трёх, а затем двух чисел:"
   ]
  },
  {
   "cell_type": "code",
   "execution_count": 13,
   "metadata": {},
   "outputs": [
    {
     "name": "stdout",
     "output_type": "stream",
     "text": [
      "[0.3829219244542088, 0.9718620884907823, 0.8438174232038365]\n",
      "[0.32028063842069, 0.5710257361341048]\n"
     ]
    }
   ],
   "source": [
    "rand.seed(2023)\n",
    "# Три случайных числа\n",
    "print(gen_randoms(3))\n",
    "# плюс два новых случайных числа\n",
    "print(gen_randoms(2))"
   ]
  },
  {
   "cell_type": "markdown",
   "metadata": {},
   "source": [
    "А теперь сбросим ГПСЧ в то же самое начальное состояние и сгенерируем сразу пять чисел.\n",
    "В результате должна получиться та же самая последовательность ПСЧ:"
   ]
  },
  {
   "cell_type": "code",
   "execution_count": 14,
   "metadata": {},
   "outputs": [
    {
     "name": "stdout",
     "output_type": "stream",
     "text": [
      "[0.3829219244542088, 0.9718620884907823, 0.8438174232038365, 0.32028063842069, 0.5710257361341048]\n"
     ]
    }
   ],
   "source": [
    "rand.seed(2023)\n",
    "print(gen_randoms(5))"
   ]
  },
  {
   "cell_type": "markdown",
   "metadata": {},
   "source": [
    "Как видите, результат полностью предсказуем."
   ]
  },
  {
   "cell_type": "markdown",
   "metadata": {},
   "source": [
    "```{note}\n",
    "Параметр `seed(...)` является глобальным.\n",
    "В программах, состоящих из нескольких модулей, это может стать проблемой.\n",
    "```\n",
    "\n",
    "В реальных программах со множеством модулей и большим объёмом кода рассмотренный подход имеет некоторые недостатки.\n",
    "В ряде задач, например, может потребоваться ГПСЧ, способный корректно работать в условиях параллельных вычислений.\n",
    "В условиях модульности программы может быть удобнее передавать между функциями и объектами экземпляры генератора.\n",
    "\n",
    "Существует удобный способ справиться с описанными проблемами - создание экземпляра ГПСЧ определённого типа и с заданным состоянием.\n",
    "Например, так:"
   ]
  },
  {
   "cell_type": "code",
   "execution_count": 15,
   "metadata": {},
   "outputs": [],
   "source": [
    "rg = rand.Random(2023)\n",
    "# Переданный параметр по сути своей есть seed"
   ]
  },
  {
   "cell_type": "markdown",
   "metadata": {},
   "source": [
    "Наш экзепляр ГПСЧ `rg` имеет все те же методы и возможности, что есть в модуле `random`, который мы использовали под псевдонимом `rand`.\n",
    "Перепишем нашу функцию `gen_randoms(...)` следующим образом:"
   ]
  },
  {
   "cell_type": "code",
   "execution_count": 16,
   "metadata": {},
   "outputs": [],
   "source": [
    "def gen_randoms(n, rg):\n",
    "    # Параметр rg - объект ГПСЧ\n",
    "    return [\n",
    "        rg.random() for _ in range(n)\n",
    "    ]"
   ]
  },
  {
   "cell_type": "markdown",
   "metadata": {},
   "source": [
    "Теперь, помимо количества генерируемых чисел, функция принимает на вход объект ГПСЧ `rg`.\n",
    "Сгенерируем пять чисел:"
   ]
  },
  {
   "cell_type": "code",
   "execution_count": 17,
   "metadata": {},
   "outputs": [
    {
     "name": "stdout",
     "output_type": "stream",
     "text": [
      "[0.3829219244542088, 0.9718620884907823, 0.8438174232038365, 0.32028063842069, 0.5710257361341048]\n"
     ]
    }
   ],
   "source": [
    "print(gen_randoms(5, rg))"
   ]
  },
  {
   "cell_type": "markdown",
   "metadata": {},
   "source": [
    "Как видите, результат тот же, что и раньше при `seed = 2023`."
   ]
  },
  {
   "cell_type": "markdown",
   "metadata": {},
   "source": [
    "### Визуализация распределений\n",
    "\n",
    "Для визуализации случайных чисел часто используется гистограмма.\n",
    "Подключим matplotlib, сформируем два массива ПСЧ для двух разных распределений и построим их гистограммы.\n",
    "При формировании массивов воспользуемся методами `normalvariate(...)` (нормальное распределение) и `uniform(...)` (равномерное распределение) нашего экземпляра ГПСЧ `rg`."
   ]
  },
  {
   "cell_type": "code",
   "execution_count": 18,
   "metadata": {},
   "outputs": [
    {
     "data": {
      "image/png": "[encoded data removed]",
      "text/plain": [
       "<Figure size 600x600 with 2 Axes>"
      ]
     },
     "metadata": {},
     "output_type": "display_data"
    }
   ],
   "source": [
    "import matplotlib.pyplot as plt\n",
    "\n",
    "# Сформируем массивы по 50 элементов\n",
    "N1 = 50\n",
    "norm1 = [\n",
    "    # mu - математическое ожидание\n",
    "    # sigma - среднее квадратическое отклонение\n",
    "    rg.normalvariate(mu=10, sigma=2)\n",
    "    for _ in range(N1)\n",
    "]\n",
    "uniform1 = [\n",
    "    rg.uniform(-1, 2)\n",
    "    for _ in range(N1)\n",
    "]\n",
    "\n",
    "fig, (ax1, ax2) = plt.subplots(\n",
    "    figsize=(6, 6), nrows=2\n",
    ")\n",
    "ax1.hist(norm1, bins=20)\n",
    "ax1.set_title(\"Нормальное распределение\")\n",
    "ax2.hist(uniform1, bins=20)\n",
    "ax2.set_title(\"Равномерное распределение\");"
   ]
  },
  {
   "cell_type": "markdown",
   "metadata": {},
   "source": [
    "Увеличим число точек в 20 раз:"
   ]
  },
  {
   "cell_type": "code",
   "execution_count": 19,
   "metadata": {},
   "outputs": [
    {
     "data": {
      "image/png": "[encoded data removed]",
      "text/plain": [
       "<Figure size 600x600 with 2 Axes>"
      ]
     },
     "metadata": {},
     "output_type": "display_data"
    }
   ],
   "source": [
    "N2 = N1 * 20\n",
    "norm2 = [\n",
    "    rg.normalvariate(mu=10, sigma=2)\n",
    "    for _ in range(N2)\n",
    "]\n",
    "uniform2 = [\n",
    "    rg.uniform(-1, 2)\n",
    "    for _ in range(N2)\n",
    "]\n",
    "\n",
    "fig, (ax1, ax2) = plt.subplots(\n",
    "    figsize=(6, 6), nrows=2\n",
    ")\n",
    "ax1.hist(norm2, bins=20)\n",
    "ax1.set_title(\"Нормальное распределение\")\n",
    "ax2.hist(uniform2, bins=20)\n",
    "ax2.set_title(\"Равномерное распределение\");"
   ]
  },
  {
   "cell_type": "markdown",
   "metadata": {},
   "source": [
    "Как видите, при увеличении количества ПСЧ гистограммы принимают всё более чёткие очертания конкретного распределения.\n",
    "\n",
    "Функциональность стандартного `random` уже достаточна для моделирования различных стохастических процессов.\n",
    "Однако в ряде случаев более удобно пользоваться `random`'ом из библиотеки NumPy."
   ]
  },
  {
   "cell_type": "markdown",
   "metadata": {},
   "source": [
    "## Использование NumPy\n",
    "\n",
    "Функционал `numpy.random` полностью аналогичен `random`'у стандартной библиотеки.\n",
    "Так как вся библиотека NumPy заточена под работу с массивами, методы `numpy.random` так же способны генерировать не одно число за раз, а сразу весь массив, матрицу или тензор заданного размера.\n",
    "И здесь также есть возможность пользоваться как неявно созданным экземпляром `Generator`, так и его явно созданным экземпляром.\n",
    "Создать генератор можно так:"
   ]
  },
  {
   "cell_type": "code",
   "execution_count": 20,
   "metadata": {},
   "outputs": [],
   "source": [
    "import numpy.random as nprand\n",
    "\n",
    "# Генератор по умолчанию с состоянием по затравке\n",
    "rg = nprand.default_rng(seed=1234567)"
   ]
  },
  {
   "cell_type": "markdown",
   "metadata": {},
   "source": [
    "Сразу сгенерируем два массива чисел, распределённых по нормальному и экспоненциальному законам:"
   ]
  },
  {
   "cell_type": "code",
   "execution_count": 28,
   "metadata": {},
   "outputs": [
    {
     "data": {
      "image/png": "[encoded data removed]",
      "text/plain": [
       "<Figure size 600x800 with 2 Axes>"
      ]
     },
     "metadata": {},
     "output_type": "display_data"
    }
   ],
   "source": [
    "fig, (ax1, ax2) = plt.subplots(nrows=2, figsize=(6, 8))\n",
    "# density=True создаёт гистограмму плотности,\n",
    "# по смыслу соответствующую функции плотности вероятности\n",
    "# - нормальное\n",
    "ax1.hist(\n",
    "    rg.normal(loc=10, scale=2, size=10_000),\n",
    "    bins=20,\n",
    "    density=True\n",
    ")\n",
    "ax1.set(xlabel=\"$x$\", ylabel=r\"$p_{\\mathrm{norm}}(x)$\");\n",
    "# - экспоненциальное\n",
    "ax2.hist(\n",
    "    rg.exponential(scale=3, size=10_000),\n",
    "    bins=20,\n",
    "    density=True\n",
    ")\n",
    "ax2.set(xlabel=\"$x$\", ylabel=r\"$p_{\\exp}(x)$\");"
   ]
  },
  {
   "cell_type": "markdown",
   "metadata": {},
   "source": [
    "Мы сразу создали массив из 10000 элементов, указав параметр `size=10000`.\n",
    "Если `size` не указать, то будет возвращено одно число.\n",
    "\n",
    "```{note}\n",
    "Названия некоторых методов отличаются от тех же функций в стандартном `random`'ме.\n",
    "Отличаются и имена параметров функций.\n",
    "В данном случае параметры `loc` и `scale` аналогичны `mu` и `sigma` (математическое ожидание и стандартное отклонение).\n",
    "```"
   ]
  },
  {
   "cell_type": "code",
   "execution_count": 22,
   "metadata": {},
   "outputs": [
    {
     "data": {
      "image/png": "[encoded data removed]",
      "text/plain": [
       "<Figure size 640x480 with 2 Axes>"
      ]
     },
     "metadata": {},
     "output_type": "display_data"
    }
   ],
   "source": [
    "fig, ax = plt.subplots()\n",
    "x = rg.normal(10, 5, 10_000)\n",
    "# Пусть y коррелирует с x\n",
    "y = rg.normal(3, 2, 10_000) + x/3\n",
    "img = ax.hist2d(x, y, bins=50, cmap=\"Greys\", density=True)[-1]\n",
    "fig.colorbar(img, ax=ax, label=\"$p(x, y)$\")\n",
    "ax.set(xlabel=\"$x$\", ylabel=\"$y$\");"
   ]
  },
  {
   "cell_type": "markdown",
   "metadata": {},
   "source": [
    "Случайную матрицу можно создать, передав в качестве `size` несколько значений:"
   ]
  },
  {
   "cell_type": "code",
   "execution_count": 23,
   "metadata": {},
   "outputs": [
    {
     "data": {
      "text/plain": [
       "array([[ 0.69846709,  0.90365082, -0.5550185 , -1.46088558],\n",
       "       [ 0.58470831, -0.52951617,  1.83950789, -1.22445878],\n",
       "       [ 0.25354375,  1.13745529, -0.44677438, -0.73421339]])"
      ]
     },
     "execution_count": 23,
     "metadata": {},
     "output_type": "execute_result"
    }
   ],
   "source": [
    "# По умолчанию loc=0 и scale=1\n",
    "rg.normal(size=(3, 4))"
   ]
  },
  {
   "cell_type": "markdown",
   "metadata": {},
   "source": [
    "Естественно, при одном и том же `seed` будет один и тот же результат и для чисел, и для массивов любой формы:"
   ]
  },
  {
   "cell_type": "code",
   "execution_count": 29,
   "metadata": {},
   "outputs": [
    {
     "data": {
      "text/plain": [
       "array([[0.02466916, 1.44229712, 0.96453594, 1.16304798],\n",
       "       [0.22589411, 2.33248878, 1.33913539, 0.17395315],\n",
       "       [0.73634616, 1.14181883, 1.27708772, 0.36814741]])"
      ]
     },
     "execution_count": 29,
     "metadata": {},
     "output_type": "execute_result"
    }
   ],
   "source": [
    "rg = nprand.default_rng(98765)\n",
    "rg.exponential(size=(3, 4))"
   ]
  },
  {
   "cell_type": "code",
   "execution_count": 30,
   "metadata": {},
   "outputs": [
    {
     "data": {
      "text/plain": [
       "array([[0.02466916, 1.44229712, 0.96453594, 1.16304798],\n",
       "       [0.22589411, 2.33248878, 1.33913539, 0.17395315],\n",
       "       [0.73634616, 1.14181883, 1.27708772, 0.36814741]])"
      ]
     },
     "execution_count": 30,
     "metadata": {},
     "output_type": "execute_result"
    }
   ],
   "source": [
    "rg = nprand.default_rng(98765)\n",
    "rg.exponential(size=(3, 4))"
   ]
  },
  {
   "cell_type": "markdown",
   "metadata": {},
   "source": [
    "Одним из преимуществ `numpy.random` является возможность использования ГПСЧ в параллельных процессах.\n",
    "Эта возможность обеспечивается за счёт [`SeedSequence`](https://numpy.org/doc/stable/reference/random/bit_generators/generated/numpy.random.SeedSequence.html#numpy.random.SeedSequence)."
   ]
  },
  {
   "cell_type": "markdown",
   "metadata": {},
   "source": [
    "## См. также\n",
    "\n",
    "1. [`SeedSequence`](https://numpy.org/doc/stable/reference/random/parallel.html) для применения ГПСЧ в параллельных вычислениях.\n",
    "2. Основы генерации ПСЧ можно найти в учебнике [\"Имитационное моделирование\"](https://bmstu.press/catalog/item/3020).\n",
    "3. Книга [\"Python для сложных задач\"](https://www.ozon.ru/product/python-dlya-slozhnyh-zadach-nauka-o-dannyh-i-mashinnoe-obuchenie-vander-plas-dzh-767959620/?sh=45JSWf1qvw).\n",
    "4. Под визуализацию статистических данных заточена библиотека [seaborn](https://seaborn.pydata.org/).\n",
    "5. Документация [`numpy.random`](https://numpy.org/doc/stable/reference/random/index.html).\n",
    "6. Генераторы NumPy основаны на низкоуровневых генераторах ПСЧ, которые называются [`Bit Generators`](https://numpy.org/doc/stable/reference/random/bit_generators/index.html).\n",
    "   В документации на них можно найти полный список конкретных генераторов.\n",
    "   Тогда вместо `nprand.default_rng(...)`, создающего по умолчанию битовый генератор PCG64, можно, например, создать ГПСЧ с битовым генератором SFC64: `nprand.Generator(nprand.SFC64())`.\n",
    "7. Документация стандартного [`random`](https://docs.python.org/3/library/random.html)."
   ]
  }
 ],
 "metadata": {
  "kernelspec": {
   "display_name": ".venv",
   "language": "python",
   "name": "python3"
  },
  "language_info": {
   "codemirror_mode": {
    "name": "ipython",
    "version": 3
   },
   "file_extension": ".py",
   "mimetype": "text/x-python",
   "name": "python",
   "nbconvert_exporter": "python",
   "pygments_lexer": "ipython3",
   "version": "3.10.12"
  },
  "orig_nbformat": 4
 },
 "nbformat": 4,
 "nbformat_minor": 2
}
