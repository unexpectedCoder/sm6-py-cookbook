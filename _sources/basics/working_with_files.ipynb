{
 "cells": [
  {
   "cell_type": "markdown",
   "metadata": {},
   "source": [
    "# Работаем с файлами\n",
    "\n",
    "В предыдущем разделе мы автоматизировали решение квадратного уравнения и написали интерфейс пользователя.\n",
    "Но что, если нам нужно решить десяток (и более) квадратных уравнений?\n",
    "В этом нам поможет файл с исходными данными.\n",
    "Да, сейчас задача предельно просто, и файл будет хранить по три коэффициента каждого уравнения.\n",
    "Но в реальных задачах исходные данные могут иметь сложную структуру и большой объём.\n",
    "Задавать их как через командную строку, так и через графический интерфейс бывает просто невозможно.\n",
    "\n",
    "Давайте разберёмся, какие инструменты имеются в Python для работы с различными файлами."
   ]
  },
  {
   "cell_type": "markdown",
   "metadata": {},
   "source": [
    "## Распространённые типы файлов\n",
    "\n",
    "Файлы бывают:\n",
    "\n",
    "* _бинарными_ — содержат биты (байты).\n",
    "  Открыв бинарный файл в текстовом редакторе, вы увидите что-то [такое](https://en.wikipedia.org/wiki/Binary_file#/media/File:Wikipedia_favicon_hexdump.svg).\n",
    "  Прочитать такой файл легко, но для получения хранимых данных нужно **знать** алгоритм их записи (хранимую структуру данных).\n",
    "  Соответственно, для каждого такого файла нужно написать собственный _парсер_, который переведёт данные из файла в данные программы.\n",
    "  В действительности любой файл является бинарным.\n",
    "  В Python вы вряд ли будете часто напрямую работать с байтами в файлах, поскольку существуют более удобные форматы;\n",
    "* _текстовыми_ — это бинарный файл, в котором байты _интерпретируются_ текстовым редактором как коды символов.\n",
    "  Какому конкретно символу отвечает последовательность байтов (и какова её длина) зависит от используемой _кодировки_ (ASCII, UTF-8 и т.д.);\n",
    "* _исполняемыми_ — бинарный файл, хранящий в себе машинный код программы.\n",
    "  Вызывая такой файл на исполнение, вы, тем самым, вызываете программу;\n",
    "* _графическими_ — бинарный файл, интерпретируемый как изображение;\n",
    "* _звуковыми_ — бинарный файл, интерпретируемый как последовательность звуковых частот;\n",
    "* _архивными_ и другими.\n",
    "\n",
    "При решении учебных задач вы будете сталкиваться в основном с текстовыми, графическими и архивными файлами.\n",
    "\n",
    "Часто встречающиеся в практике Python текстовые файлы: `txt`, `csv`, `yaml`, `json`.\n",
    "Есть также возможность чтения и записи данных в таблицы Excel.\n",
    "\n",
    "С графическими файлами вы столкнётесь при работе с библиотекой Matplotlib и ей подобными.\n",
    "Вы сможете сохранять различные графики в файлы `png`, `jpg`, `tiff` и другие.\n",
    "\n",
    "В архивные файлы вы сможете сохранять многомерные массивы NumPy (архивы `npz`).\n",
    "\n",
    "В этом разделе познакомимся с тем, как в Python работать с текстовыми файлами."
   ]
  },
  {
   "cell_type": "markdown",
   "metadata": {},
   "source": [
    "## Работа с текстовыми файлами\n",
    "\n",
    "Пусть у нас есть файл `some_text.txt` со следующим содержанием:\n",
    "\n",
    "```\n",
    "Hello, world, from text file!\n",
    "Numbers 1 2 3\n",
    "Another line\n",
    "Строка на русском хоба!\n",
    "そして日本語で？？\n",
    "```\n",
    "\n",
    "Прочитаем его!\n",
    "Для этого:\n",
    "\n",
    "1. Откроем файл:"
   ]
  },
  {
   "cell_type": "code",
   "execution_count": 141,
   "metadata": {},
   "outputs": [],
   "source": [
    "f = open(\"some_text.txt\")"
   ]
  },
  {
   "cell_type": "markdown",
   "metadata": {},
   "source": [
    "2. Прочитаем содержимое в переменную `content`:"
   ]
  },
  {
   "cell_type": "code",
   "execution_count": 142,
   "metadata": {},
   "outputs": [],
   "source": [
    "content = f.read()"
   ]
  },
  {
   "cell_type": "markdown",
   "metadata": {},
   "source": [
    "3. Закроем файл:"
   ]
  },
  {
   "cell_type": "code",
   "execution_count": 143,
   "metadata": {},
   "outputs": [],
   "source": [
    "f.close()"
   ]
  },
  {
   "cell_type": "markdown",
   "metadata": {},
   "source": [
    "4. Посмотрим, что мы прочитали из файла:"
   ]
  },
  {
   "cell_type": "code",
   "execution_count": 144,
   "metadata": {},
   "outputs": [
    {
     "name": "stdout",
     "output_type": "stream",
     "text": [
      "Hello, world, from text file!\n",
      "Numbers 1 2 3\n",
      "Another line\n",
      "Строка на русском хоба!\n",
      "そして日本語で？？\n"
     ]
    }
   ],
   "source": [
    "print(content)"
   ]
  },
  {
   "cell_type": "markdown",
   "metadata": {},
   "source": [
    "Вот так незамысловато!\n",
    "\n",
    "Но при работе с открытым файлом может случиться ошибка, из-за которой программа аварийно прекратит работу.\n",
    "При этом строка `f.close()` выполнена не будет, и файл останется открытым для операционной системы.\n",
    "Это нехорошо, поскольку может помешать корректной работе с этим файлом из той де или любой другой программы.\n",
    "Чтобы это избежать, используют [_менеджер контекста_](https://pythonworld.ru/osnovy/with-as-menedzhery-konteksta.html) `with`:"
   ]
  },
  {
   "cell_type": "code",
   "execution_count": 145,
   "metadata": {},
   "outputs": [
    {
     "name": "stdout",
     "output_type": "stream",
     "text": [
      "Hello, world, from text file!\n",
      "Numbers 1 2 3\n",
      "Another line\n",
      "Строка на русском хоба!\n",
      "そして日本語で？？\n"
     ]
    }
   ],
   "source": [
    "with open(\"some_text.txt\") as f:\n",
    "    content = f.read()\n",
    "print(content)"
   ]
  },
  {
   "cell_type": "markdown",
   "metadata": {},
   "source": [
    "Его польза заключается в том, что файл открыт лишь внутри тела `with`.\n",
    "При выходе из менеджера контекста, **в том числе аварийном**, файл будет автоматически закрыт.\n",
    "\n",
    "```{note}\n",
    "Если вы пока не можете понять, как устроен этот менеджер, не переживайте.\n",
    "Это значит лишь, что вам пока не хватает опыта программирования.\n",
    "```"
   ]
  },
  {
   "cell_type": "markdown",
   "metadata": {},
   "source": [
    "Функция `open` помимо имени файла (или пути к нему) принимает множество других параметров.\n",
    "Одним из важнейших является _режим работы с файлом_.\n",
    "Режим может быть следующим:\n",
    "\n",
    "* чтение `r`;\n",
    "* запись `w` (если файл существует, то он будет перезаписан; если не существует, то будет создан);\n",
    "* запись в конец файла `a` (если файл существует, то запись будет производиться в его конец;если файл не существует, то будет создан).\n",
    "\n",
    "Режимы можно смешивать, открывая файл, например, для чтения и записи в конец `ra`.\n",
    "\n",
    "```{note}\n",
    "Подробнее о режимах работы с файлами можете почитать [здесь](https://www.programiz.com/python-programming/methods/built-in/open).\n",
    "```\n",
    "\n",
    "В рассмотренном случае тот же результат мы получим, если откроем файл только для чтения:"
   ]
  },
  {
   "cell_type": "code",
   "execution_count": 146,
   "metadata": {},
   "outputs": [
    {
     "name": "stdout",
     "output_type": "stream",
     "text": [
      "Hello, world, from text file!\n",
      "Numbers 1 2 3\n",
      "Another line\n",
      "Строка на русском хоба!\n",
      "そして日本語で？？\n"
     ]
    }
   ],
   "source": [
    "with open(\"some_text.txt\", \"r\") as f:\n",
    "    print(f.read())"
   ]
  },
  {
   "cell_type": "markdown",
   "metadata": {},
   "source": [
    "Выше было отмечено, что текстовый (да и любой) файл является бинарным.\n",
    "Можем ли мы прочитать текстовый файл как бинарный?\n",
    "Конечно!\n",
    "Вот как:"
   ]
  },
  {
   "cell_type": "code",
   "execution_count": 147,
   "metadata": {},
   "outputs": [
    {
     "name": "stdout",
     "output_type": "stream",
     "text": [
      "b'Hello, world, from text file!\\nNumbers 1 2 3\\nAnother line\\n\\xd0\\xa1\\xd1\\x82\\xd1\\x80\\xd0\\xbe\\xd0\\xba\\xd0\\xb0 \\xd0\\xbd\\xd0\\xb0 \\xd1\\x80\\xd1\\x83\\xd1\\x81\\xd1\\x81\\xd0\\xba\\xd0\\xbe\\xd0\\xbc \\xd1\\x85\\xd0\\xbe\\xd0\\xb1\\xd0\\xb0!\\n\\xe3\\x81\\x9d\\xe3\\x81\\x97\\xe3\\x81\\xa6\\xe6\\x97\\xa5\\xe6\\x9c\\xac\\xe8\\xaa\\x9e\\xe3\\x81\\xa7\\xef\\xbc\\x9f\\xef\\xbc\\x9f'\n"
     ]
    }
   ],
   "source": [
    "with open(\"some_text.txt\", \"rb\") as f:\n",
    "    bin_content = f.read()\n",
    "print(bin_content)"
   ]
  },
  {
   "cell_type": "markdown",
   "metadata": {},
   "source": [
    "В функции `open` мы указали _режим работы с файлом_: `r` означает \"чтение\", `b` — \"бинарный режим\".\n",
    "Заметьте, что изменился результат.\n",
    "Теперь в переменной `bin_content` содержится [_байт-строка_](https://pythonworld.ru/tipy-dannyx-v-python/bajty-bytes-i-bytearray.html).\n",
    "\n",
    "Байт-строку мы можем создать и сам.\n",
    "Вот пример:"
   ]
  },
  {
   "cell_type": "code",
   "execution_count": 148,
   "metadata": {},
   "outputs": [],
   "source": [
    "byte_str = b\"\\xd0\\x91\\xd0\\xb0\\xd0\\xb9\\xd1\\x82\\xd1\\x8b!\""
   ]
  },
  {
   "cell_type": "markdown",
   "metadata": {},
   "source": [
    "Здесь `\\xd0`, например, есть (шестнадцатеричное) обозначение байта `D0`.\n",
    "Аналогично с остальными 9 байтами.\n",
    "\"И что?\" — спросите вы.\n",
    "А то, что мы можем интерпретировать эти байты, как нам вздумается.\n",
    "Предположим, что в `byte_str` на самом деле содержится какое-то слово, записанное в кодировке UTF-8.\n",
    "Тогда мы можем получить что-то привычное для нас, если _декодируем_ байт-строку, указав кодировку:"
   ]
  },
  {
   "cell_type": "code",
   "execution_count": 149,
   "metadata": {},
   "outputs": [
    {
     "data": {
      "text/plain": [
       "'Байты!'"
      ]
     },
     "execution_count": 149,
     "metadata": {},
     "output_type": "execute_result"
    }
   ],
   "source": [
    "byte_str.decode(\"utf-8\")"
   ]
  },
  {
   "cell_type": "markdown",
   "metadata": {},
   "source": [
    "Ого!\n",
    "Мы угадали!\n",
    "Оказывается так b\"\\xd0\\x91\\xd0\\xb0\\xd0\\xb9\\xd1\\x82\\xd1\\x8b!\" выглядит последовательность байтов, кодирующих фразу `Байты!`.\n",
    "И заметьте, что букв 5, а байтов 10, то есть каждый символ закодирован двумя байтами.\n",
    "Чтобы понять, почему это так, стоит знать о том, что [как кодируются символы](https://habr.com/ru/articles/478636/).\n",
    "\n",
    "Но ту же байт-строку `byte_str` мы можем декодировать и с другой кодировкой, например:"
   ]
  },
  {
   "cell_type": "code",
   "execution_count": 150,
   "metadata": {},
   "outputs": [
    {
     "data": {
      "text/plain": [
       "'Р‘Р°Р№С‚С‹!'"
      ]
     },
     "execution_count": 150,
     "metadata": {},
     "output_type": "execute_result"
    }
   ],
   "source": [
    "byte_str.decode(\"cp1251\")"
   ]
  },
  {
   "cell_type": "markdown",
   "metadata": {},
   "source": [
    "Получили \"кракозябры\"...\n",
    "Но получили же!\n",
    "Никакой ошибки не было, просто мы интерпретировали те же байты по-другому.\n",
    "\n",
    "Мы можем не только декодировать, но и _кодировать_ строки:"
   ]
  },
  {
   "cell_type": "code",
   "execution_count": 151,
   "metadata": {},
   "outputs": [
    {
     "data": {
      "text/plain": [
       "b'\\xd0\\x9f\\xd1\\x80\\xd0\\xb8\\xd0\\xb2\\xd0\\xb5\\xd1\\x82 \\xd0\\xb2\\xd1\\x81\\xd0\\xb5\\xd0\\xbc!'"
      ]
     },
     "execution_count": 151,
     "metadata": {},
     "output_type": "execute_result"
    }
   ],
   "source": [
    "\"Привет всем!\".encode(\"utf-8\")"
   ]
  },
  {
   "cell_type": "markdown",
   "metadata": {},
   "source": [
    "Короче говоря, вы уже можете с лёгкостью написать скрипт по переводу текста из одной известной кодировки в другую (но не делайте, ведь уже есть готовые инструменты в любом уважающем себя редакторе).\n",
    "\n",
    "К чему был разговор о кодировках?\n",
    "Функции `open` можно передать кодировку текстового файла, чтобы не получить белиберду (или чтобы получить):"
   ]
  },
  {
   "cell_type": "code",
   "execution_count": 152,
   "metadata": {},
   "outputs": [
    {
     "name": "stdout",
     "output_type": "stream",
     "text": [
      "Hello, world, from text file!\n",
      "Numbers 1 2 3\n",
      "Another line\n",
      "РЎС‚СЂРѕРєР° РЅР° СЂСѓСЃСЃРєРѕРј С…РѕР±Р°!\n",
      "гЃќгЃ—гЃ¦ж—Ґжњ¬иЄћгЃ§пјџпјџ\n"
     ]
    }
   ],
   "source": [
    "with open(\"some_text.txt\", \"r\", encoding=\"cp1251\") as f:\n",
    "    print(f.read())"
   ]
  },
  {
   "cell_type": "markdown",
   "metadata": {},
   "source": [
    "Мы нарочно открыли файл с указанием не той кодировки (его кодировка по умолчанию в моём редакторе UTF-8).\n",
    "И что мы видим?\n",
    "Английский текст прочитался как ни в чём не бывало.\n",
    "А вот русский и японский нет...\n",
    "Дело в том, что ряд кодировок (среди них CP1251 и UTF-8) совместимы с базовой кодировкой ASCII, поддерживающей только латиницу, цифры и основные знаки пунктуации.\n",
    "\n",
    "```{note}\n",
    "ASCII была разработана в США для англоязычных компьютерщиков на заре компьютерной эры.\n",
    "```\n",
    "\n",
    "Укажем правильную кодировку:"
   ]
  },
  {
   "cell_type": "code",
   "execution_count": 153,
   "metadata": {},
   "outputs": [
    {
     "name": "stdout",
     "output_type": "stream",
     "text": [
      "Hello, world, from text file!\n",
      "Numbers 1 2 3\n",
      "Another line\n",
      "Строка на русском хоба!\n",
      "そして日本語で？？\n"
     ]
    }
   ],
   "source": [
    "with open(\"some_text.txt\", \"r\", encoding=\"utf-8\") as f:\n",
    "    print(f.read())"
   ]
  },
  {
   "cell_type": "markdown",
   "metadata": {},
   "source": [
    "Вот теперь всё прочиталось верно.\n",
    "Сила UTF-8 как раз и заключается в поддержке огромного количества символов языков, фактически, всего мира.\n",
    "Платой за это является больший \"вес\" строки (число используемых байт).\n",
    "ASCII, к примеру, является однобайтовой кодировкой (один байт на один символ), но позволяет кодировать всего 256 символов."
   ]
  },
  {
   "cell_type": "markdown",
   "metadata": {},
   "source": [
    "## Улучшаем решатель квадратного уравнения\n",
    "\n",
    "Вспомним, как выглядит наш код на данный момент (без интерфейса):"
   ]
  },
  {
   "cell_type": "code",
   "execution_count": 154,
   "metadata": {},
   "outputs": [],
   "source": [
    "from argparse import ArgumentParser\n",
    "from cmath import sqrt as csqrt\n",
    "from math import sqrt\n",
    "\n",
    "\n",
    "def solve(a, b, c):\n",
    "    discriminant = b*b - 4*a*c\n",
    "    if discriminant >= 0:\n",
    "        return (\n",
    "            (-b - sqrt(discriminant)) / (2*a),\n",
    "            (-b + sqrt(discriminant)) / (2*a)\n",
    "        )\n",
    "    return (\n",
    "        (-b - csqrt(complex(discriminant))) / (2*a),\n",
    "        (-b + csqrt(complex(discriminant))) / (2*a)\n",
    "    )"
   ]
  },
  {
   "cell_type": "markdown",
   "metadata": {},
   "source": [
    "Нехитро.\n",
    "Пока не будем делать интерфейс пользователя.\n",
    "Начнём с добавления функции чтения коэффициентов из текстового файла:"
   ]
  },
  {
   "cell_type": "code",
   "execution_count": 155,
   "metadata": {},
   "outputs": [],
   "source": [
    "def from_file(path):\n",
    "    with open(path, \"r\") as f:\n",
    "        abc = f.read()\n",
    "        a, b, c = abc.split()\n",
    "        return float(a), float(b), float(c)"
   ]
  },
  {
   "cell_type": "markdown",
   "metadata": {},
   "source": [
    "Важно сказать, что эта функция крайне не хороша.\n",
    "В ней есть предположение о структуре данных в файле, а также нам приходится считывать текст, разбивать его (в предположении, что три числа разделены пробелами) и преобразовывать текст в `float`.\n",
    "Всё это чревато ошибками.\n",
    "Для примера, разделяйте числа в файле запятыми.\n",
    "Программа скажет вам \"пока\" и рухнет.\n",
    "\n",
    "Ну и запустим корректный пример:"
   ]
  },
  {
   "cell_type": "code",
   "execution_count": 156,
   "metadata": {},
   "outputs": [
    {
     "name": "stdout",
     "output_type": "stream",
     "text": [
      "x1 = -3.0\n",
      "x2 = 1.0\n"
     ]
    }
   ],
   "source": [
    "a, b, c = from_file(\"abc.txt\")\n",
    "x1, x2 = solve(a, b, c)\n",
    "print(\"x1 =\", x1)\n",
    "print(\"x2 =\", x2)"
   ]
  },
  {
   "cell_type": "markdown",
   "metadata": {},
   "source": [
    "Работает, но как отмечено выше — крайне ненадёжно.\n",
    "Текстовые файлы ввиду своей универсальности плохо подходят для использования в качестве файлов данных.\n",
    "Слишком много с ними возни, связанной с проверкой корректности, преобразованиями типов данных и прочим.\n",
    "Гораздо лучше подходят файлы JSON и YAML.\n",
    "Посмотрим на них."
   ]
  },
  {
   "cell_type": "markdown",
   "metadata": {},
   "source": [
    "### Данные из файла YAML\n",
    "\n",
    "[YAML](https://blog.skillfactory.ru/glossary/yaml/) — это специальный язык для структурированной записи информации, обладающий простым синтаксисом.\n",
    "\n",
    "Вот как с его помощью можно записать наши исходные данные в файле `abc.yml`:\n",
    "\n",
    "```yaml\n",
    "a: 1\n",
    "b: 2\n",
    "c: -3\n",
    "```\n",
    "\n",
    "Для работы с `yml`-файлами в стандартной библиотеке имеется пакет `yaml`:"
   ]
  },
  {
   "cell_type": "code",
   "execution_count": 157,
   "metadata": {},
   "outputs": [],
   "source": [
    "import yaml"
   ]
  },
  {
   "cell_type": "markdown",
   "metadata": {},
   "source": [
    "И теперь мы можем переписать функцию `from_file`:"
   ]
  },
  {
   "cell_type": "code",
   "execution_count": 158,
   "metadata": {},
   "outputs": [],
   "source": [
    "def from_file(path):\n",
    "    with open(path, \"r\") as f:\n",
    "        abc = yaml.safe_load(f)\n",
    "        return abc[\"a\"], abc[\"b\"], abc[\"c\"]"
   ]
  },
  {
   "cell_type": "markdown",
   "metadata": {},
   "source": [
    "Проверяем:"
   ]
  },
  {
   "cell_type": "code",
   "execution_count": 159,
   "metadata": {},
   "outputs": [
    {
     "name": "stdout",
     "output_type": "stream",
     "text": [
      "x1 = -3.0\n",
      "x2 = 1.0\n"
     ]
    }
   ],
   "source": [
    "a, b, c = from_file(\"abc.yml\")\n",
    "x1, x2 = solve(a, b, c)\n",
    "print(\"x1 =\", x1)\n",
    "print(\"x2 =\", x2)"
   ]
  },
  {
   "cell_type": "markdown",
   "metadata": {},
   "source": [
    "Теперь нам не нужно заботиться о структуре файла данных.\n",
    "Достаточно знать только, какие именно данные там хранятся.\n",
    "А узнать это легко, просто посмотрев глазами содержимое файла."
   ]
  },
  {
   "cell_type": "markdown",
   "metadata": {},
   "source": [
    "### Данные из файла JSON\n",
    "\n",
    "[JSON](https://skillbox.ru/media/code/json-chto-eto-za-format-i-kak-s-nim-rabotat/) — стандартный текстовый формат для хранения и передачи структурированных данных.\n",
    "Он основан на синтаксисе объекта в языке программирования JavaScript, но нисколько к нему не привязан.\n",
    "\n",
    "JSON сильно напоминает стандартные словари Python.\n",
    "\n",
    "Вок так мы можем записать наши коэффициенты в `json`-файле:\n",
    "\n",
    "```json\n",
    "{\n",
    "    \"a\": 1,\n",
    "    \"b\": -2,\n",
    "    \"c\": 3\n",
    "}\n",
    "```\n",
    "\n",
    "```{note}\n",
    "Коэффициенты отличаются от коэффициентов в файле YAML.\n",
    "```\n",
    "\n",
    "Для работы с JSON в стандартной библиотеке есть пакет `json`:"
   ]
  },
  {
   "cell_type": "code",
   "execution_count": 160,
   "metadata": {},
   "outputs": [],
   "source": [
    "import json"
   ]
  },
  {
   "cell_type": "markdown",
   "metadata": {},
   "source": [
    "В остальном код тот же:"
   ]
  },
  {
   "cell_type": "code",
   "execution_count": 161,
   "metadata": {},
   "outputs": [],
   "source": [
    "def from_file(path):\n",
    "    with open(path, \"r\") as f:\n",
    "        data = json.load(f)\n",
    "    return data[\"a\"], data[\"b\"], data[\"c\"]"
   ]
  },
  {
   "cell_type": "markdown",
   "metadata": {},
   "source": [
    "И работает аналогично:"
   ]
  },
  {
   "cell_type": "code",
   "execution_count": 162,
   "metadata": {},
   "outputs": [
    {
     "name": "stdout",
     "output_type": "stream",
     "text": [
      "x1 = (1-1.4142135623730951j)\n",
      "x2 = (1+1.4142135623730951j)\n"
     ]
    }
   ],
   "source": [
    "a, b, c = from_file(\"abc.json\")\n",
    "x1, x2 = solve(a, b, c)\n",
    "print(\"x1 =\", x1)\n",
    "print(\"x2 =\", x2)"
   ]
  },
  {
   "cell_type": "markdown",
   "metadata": {},
   "source": [
    "Давайте разделим функции чтения данных из файлов различных форматов: `from_yaml` для файлов YAML и `from_json` для файлов JSON.\n",
    "При этом эти функции будут вызываться из _функции верхнего уровня_ `from_file` в зависимости от расширения заданного файла.\n",
    "Выглядит это так:"
   ]
  },
  {
   "cell_type": "code",
   "execution_count": 163,
   "metadata": {},
   "outputs": [],
   "source": [
    "def from_file(path):\n",
    "    if path.endswith(\".yml\"):\n",
    "        return from_yaml(path)\n",
    "    if path.endswith(\".json\"):\n",
    "        return from_json(path)\n",
    "    # else - вызываем стандартное исключение (ошибку)\n",
    "    raise ValueError(\"unused file format\")\n",
    "\n",
    "\n",
    "def from_yaml(path):\n",
    "    with open(path, \"r\") as f:\n",
    "        data = yaml.safe_load(f)\n",
    "    return data[\"a\"], data[\"b\"], data[\"c\"]\n",
    "\n",
    "\n",
    "def from_json(path):\n",
    "    with open(path, \"r\") as f:\n",
    "        data = json.load(f)\n",
    "    return data[\"a\"], data[\"b\"], data[\"c\"]"
   ]
  },
  {
   "cell_type": "markdown",
   "metadata": {},
   "source": [
    "Теперь можно работать так:"
   ]
  },
  {
   "cell_type": "code",
   "execution_count": 164,
   "metadata": {},
   "outputs": [
    {
     "name": "stdout",
     "output_type": "stream",
     "text": [
      "Данные брались из JSON\n",
      "x1 = (1-1.4142135623730951j)\n",
      "x2 = (1+1.4142135623730951j)\n",
      "Данные брались из YAML\n",
      "x1 = -3.0\n",
      "x2 = 1.0\n"
     ]
    }
   ],
   "source": [
    "a, b, c = from_file(\"abc.json\")\n",
    "x1, x2 = solve(a, b, c)\n",
    "print(\"Данные брались из JSON\")\n",
    "print(\"x1 =\", x1)\n",
    "print(\"x2 =\", x2)\n",
    "\n",
    "a, b, c = from_file(\"abc.yml\")\n",
    "x1, x2 = solve(a, b, c)\n",
    "print(\"Данные брались из YAML\")\n",
    "print(\"x1 =\", x1)\n",
    "print(\"x2 =\", x2)"
   ]
  },
  {
   "cell_type": "markdown",
   "metadata": {},
   "source": [
    "Функция чтения файла данных вызывалась одна (`from_file`).\n",
    "И именно в ней реализовано поведение, зависящее от формата файла данных.\n",
    "Удобно, понятно и надёжно."
   ]
  },
  {
   "cell_type": "markdown",
   "metadata": {},
   "source": [
    "### О файлах CSV\n",
    "\n",
    "[CSV](https://blog.skillfactory.ru/glossary/csv-format/) — это текстовый формат для представления табличных данных.\n",
    "Строка таблицы соответствует строке текста, которая содержит поля, разделенные запятыми.\n",
    "Тип файлов предназначен для передачи объемных текстовых данных между различными программами и сервисами.\n",
    "\n",
    "```{note}\n",
    "Аббревиатура CSV расшифровывается как Comma Separated Values (значения, разделённые запятой).\n",
    "```\n",
    "\n",
    "В стандартной библиотеке найдётся пакет `csv` для работы и с такими файлами.\n",
    "Однако по сравнению с YAML и JSON в CSV по умолчанию все строки — это именно строки, то есть текст.\n",
    "И числа нужно преобразовывать в коде \"вручную\".\n",
    "Наверняка, есть решения этой проблемы.\n",
    "Поищите в интернете.\n",
    "Пока же отметим, что табличные данные не настолько универсальны, как формат YAML или JSON, с помощью которых можно описывать данные любой иерархии.\n",
    "\n",
    "В вычислительных программах довольно часто приходится сталкиваться с таблицами.\n",
    "Однако вместо того, чтобы использовать модуль `csv`, лучше рассмотреть библиотеку [Pandas](https://pandas.pydata.org/), реализующую, по сути, весь функционал Excel, но в Python.\n",
    "Pandas, среди прочего, может работать и с файлами CSV."
   ]
  },
  {
   "cell_type": "markdown",
   "metadata": {},
   "source": [
    "На данный момент полная программа выглядит так:"
   ]
  },
  {
   "cell_type": "markdown",
   "metadata": {},
   "source": [
    "```python\n",
    "import json\n",
    "import yaml\n",
    "from argparse import ArgumentParser\n",
    "from cmath import sqrt as csqrt\n",
    "from math import sqrt\n",
    "\n",
    "\n",
    "def solve(a, b, c):\n",
    "    discriminant = b*b - 4*a*c\n",
    "    if discriminant >= 0:\n",
    "        return (\n",
    "            (-b - sqrt(discriminant)) / (2*a),\n",
    "            (-b + sqrt(discriminant)) / (2*a)\n",
    "        )\n",
    "    return (\n",
    "        (-b - csqrt(complex(discriminant))) / (2*a),\n",
    "        (-b + csqrt(complex(discriminant))) / (2*a)\n",
    "    )\n",
    "\n",
    "\n",
    "def from_file(path):\n",
    "    if path.endswith(\".yml\"):\n",
    "        return from_yaml(path)\n",
    "    if path.endswith(\".json\"):\n",
    "        return from_json(path)\n",
    "    # else - вызываем стандартное исключение (ошибку)\n",
    "    raise ValueError(\"unused file format\")\n",
    "\n",
    "\n",
    "def from_yaml(path):\n",
    "    with open(path, \"r\") as f:\n",
    "        data = yaml.safe_load(f)\n",
    "    return data[\"a\"], data[\"b\"], data[\"c\"]\n",
    "\n",
    "\n",
    "def from_json(path):\n",
    "    with open(path, \"r\") as f:\n",
    "        data = json.load(f)\n",
    "    return data[\"a\"], data[\"b\"], data[\"c\"]\n",
    "\n",
    "\n",
    "if __name__ == \"__main__\":\n",
    "    a, b, c = from_file(\"abc.yml\")\n",
    "    x1, x2 = solve(a, b, c)\n",
    "    print(\"Данные брались из YAML\")\n",
    "    print(\"x1 =\", x1)\n",
    "    print(\"x2 =\", x2)\n",
    "\n",
    "    a, b, c = from_file(\"abc.json\")\n",
    "    x1, x2 = solve(a, b, c)\n",
    "    print(\"Данные брались из JSON\")\n",
    "    print(\"x1 =\", x1)\n",
    "    print(\"x2 =\", x2)\n",
    "```"
   ]
  },
  {
   "cell_type": "markdown",
   "metadata": {},
   "source": [
    "Осталось сделать пользовательский интерфейс, позволяющий вводить данные как через командную строку, так и через указание файла данных (YAML или JSON)."
   ]
  },
  {
   "cell_type": "markdown",
   "metadata": {},
   "source": [
    "### Интерфейс пользователя\n",
    "\n",
    "Пусть флаг `-l` или `--line` отвечает за задание коэффициентов через командную строку, а флаг `-f` или `--from-file` — за чтение данных из заданного файла.\n",
    "Тогда интерфейс можно описать так:"
   ]
  },
  {
   "cell_type": "markdown",
   "metadata": {},
   "source": [
    "```python\n",
    "if __name__ == \"__main__\":\n",
    "    parser = ArgumentParser(\n",
    "        \"solve_quadric_eq\",\n",
    "        description=\"Let you solve any quadric equation a*x^2 + b*x + c = 0\"\n",
    "    )\n",
    "    parser.add_argument(\n",
    "        \"-l\",\n",
    "        \"--line\",\n",
    "        dest=\"line\",\n",
    "        type=float,\n",
    "        nargs=\"?\",\n",
    "        help=\"Input coefficients using command line\"\n",
    "    )\n",
    "    parser.add_argument(\n",
    "        \"-a\",\n",
    "        type=float,\n",
    "        default=1,\n",
    "        help=\"The `a` coefficient (default 1)\"\n",
    "    )\n",
    "    parser.add_argument(\n",
    "        \"-b\",\n",
    "        type=float,\n",
    "        default=0,\n",
    "        help=\"The `b` coefficient (default 0)\"\n",
    "    )\n",
    "    parser.add_argument(\n",
    "        \"-c\",\n",
    "        type=float,\n",
    "        default=0,\n",
    "        help=\"The `c` coefficient (default 0)\"\n",
    "    )\n",
    "    parser.add_argument(\n",
    "        \"-f\",\n",
    "        \"--from-file\",\n",
    "        dest=\"file_path\",\n",
    "        help=\"Read coefficients from the data file (JSON or YAML)\"\n",
    "    )\n",
    "    \n",
    "    args = parser.parse_args()\n",
    "    if args.file_path is not None:\n",
    "        a, b, c = from_file(args.file_path)\n",
    "    elif \"line\" in args:\n",
    "        a = args.a\n",
    "        b = args.b\n",
    "        c = args.c\n",
    "    else:\n",
    "        raise ValueError(\"unknown command line format\")\n",
    "    x1, x2 = solve(a, b, c)\n",
    "    print(\"x1 =\", x1)\n",
    "    print(\"x2 =\", x2)\n",
    "```"
   ]
  },
  {
   "cell_type": "markdown",
   "metadata": {},
   "source": [
    "Таким образом, сделали следующий интерфейс:\n",
    "\n",
    "```bash\n",
    "$ ./solve_quadric_eq.py -h\n",
    "usage: solve_quadric_eq [-h] [-l [LINE]] [-a A] [-b B] [-c C] [-f FILE_PATH]\n",
    "\n",
    "Let you solve any quadric equation a*x^2 + b*x + c = 0\n",
    "\n",
    "options:\n",
    "  -h, --help            show this help message and exit\n",
    "  -l [LINE], --line [LINE]\n",
    "                        Input coefficients using command line\n",
    "  -a A                  The `a` coefficient (default 1)\n",
    "  -b B                  The `b` coefficient (default 0)\n",
    "  -c C                  The `c` coefficient (default 0)\n",
    "  -f FILE_PATH, --from-file FILE_PATH\n",
    "                        Read coefficients from the data file (JSON or YAML)\n",
    "```"
   ]
  },
  {
   "cell_type": "markdown",
   "metadata": {},
   "source": [
    "Теперь можно вызывать наш решатель и передавать ему данные из файла YAML или JSON:\n",
    "\n",
    "```bash\n",
    "$ ./solve_quadric_eq.py -f abc.yml \n",
    "x1 = -3.0\n",
    "x2 = 1.0\n",
    "$ ./solve_quadric_eq.py -f abc.json \n",
    "x1 = (1-1.4142135623730951j)\n",
    "x2 = (1+1.4142135623730951j)\n",
    "```"
   ]
  },
  {
   "cell_type": "markdown",
   "metadata": {},
   "source": [
    "Или через аргументы командной строки:\n",
    "\n",
    "```bash\n",
    "$ ./solve_quadric_eq.py -l -a 1 -b 2 -c -3\n",
    "x1 = -3.0\n",
    "x2 = 1.0\n",
    "$ ./solve_quadric_eq.py -l -a 1 -b -2 -c 3\n",
    "x1 = (1-1.4142135623730951j)\n",
    "x2 = (1+1.4142135623730951j)\n",
    "```"
   ]
  },
  {
   "cell_type": "markdown",
   "metadata": {},
   "source": [
    "Но файлы можно не только читать.\n",
    "В них можно и записывать информацию."
   ]
  },
  {
   "cell_type": "markdown",
   "metadata": {},
   "source": [
    "### Сохранение результата в файл\n",
    "\n",
    "Просто замените последние два вызова `print` на что-либо из следующего:\n",
    "\n",
    "* запись в простой текстовый файл:"
   ]
  },
  {
   "cell_type": "code",
   "execution_count": 165,
   "metadata": {},
   "outputs": [],
   "source": [
    "with open(\"roots.txt\", \"w\") as output:\n",
    "    output.write(f\"x1 = {x1}\\nx2 = {x2}\\n\")"
   ]
  },
  {
   "cell_type": "markdown",
   "metadata": {},
   "source": [
    "* сохранение в YAML файл:"
   ]
  },
  {
   "cell_type": "code",
   "execution_count": 170,
   "metadata": {},
   "outputs": [],
   "source": [
    "with open(\"roots.yml\", \"w\") as output:\n",
    "    yaml.safe_dump(\n",
    "        {\"x1\": x1, \"x2\": x2},\n",
    "        output,\n",
    "        allow_unicode=True\n",
    "    )"
   ]
  },
  {
   "cell_type": "markdown",
   "metadata": {},
   "source": [
    "* сохранение в файл JSON:"
   ]
  },
  {
   "cell_type": "code",
   "execution_count": 167,
   "metadata": {},
   "outputs": [],
   "source": [
    "with open(\"roots.json\", \"w\") as output:\n",
    "    json.dump(\n",
    "        {\"x1\": x1, \"x2\": x2},\n",
    "        output\n",
    "    )"
   ]
  },
  {
   "cell_type": "markdown",
   "metadata": {},
   "source": [
    "В результате вы получите файлы соответствующих форматов, в которых сохранены корни `x1` и `x2`."
   ]
  }
 ],
 "metadata": {
  "kernelspec": {
   "display_name": ".venv",
   "language": "python",
   "name": "python3"
  },
  "language_info": {
   "codemirror_mode": {
    "name": "ipython",
    "version": 3
   },
   "file_extension": ".py",
   "mimetype": "text/x-python",
   "name": "python",
   "nbconvert_exporter": "python",
   "pygments_lexer": "ipython3",
   "version": "3.10.12"
  }
 },
 "nbformat": 4,
 "nbformat_minor": 2
}
