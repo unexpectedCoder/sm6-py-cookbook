{
 "cells": [
  {
   "cell_type": "markdown",
   "metadata": {},
   "source": [
    "# Копирование, объединение и изменение массивов"
   ]
  },
  {
   "cell_type": "code",
   "execution_count": 1,
   "metadata": {},
   "outputs": [],
   "source": [
    "import numpy as np"
   ]
  },
  {
   "cell_type": "markdown",
   "metadata": {},
   "source": [
    "Для копирования массиво предназначен метод [`np.copy`](https://numpy.org/doc/stable/reference/generated/numpy.copy.html#numpy.copy).\n",
    "Когда его стоит применять?\n",
    "\n",
    "Если мы возьмём некоторый срез массива `a` и сохраним его в `b`, а затем выполним над `b` какую-нибудь изменяющую операцию (например, `+=`), то мы изменим и значения в исходном массиве `a`:"
   ]
  },
  {
   "cell_type": "code",
   "execution_count": 4,
   "metadata": {},
   "outputs": [
    {
     "name": "stdout",
     "output_type": "stream",
     "text": [
      "a = [2 3 3 4 5 6 7]\n",
      "b = [2 3]\n"
     ]
    }
   ],
   "source": [
    "a = np.arange(1, 8)\n",
    "# Просто ссылаемся на участок массива a\n",
    "b = a[:2]\n",
    "# Изменяем массив a путём изменения его участка,\n",
    "# на который ссылается b\n",
    "b += 1\n",
    "print(\"a =\", a)\n",
    "print(\"b =\", b)"
   ]
  },
  {
   "cell_type": "markdown",
   "metadata": {},
   "source": [
    "Часто это не то, чего мы хотим.\n",
    "Как правило, мы хотим взять срез как независимый массив и работать с ним также независимо.\n",
    "В этом и помогает метод `np.copy` (его имеет каждый экземпляр массива NumPy):"
   ]
  },
  {
   "cell_type": "code",
   "execution_count": 5,
   "metadata": {},
   "outputs": [
    {
     "name": "stdout",
     "output_type": "stream",
     "text": [
      "a = [1 2 3 4 5 6 7]\n",
      "b = [2 3]\n"
     ]
    }
   ],
   "source": [
    "a = np.arange(1, 8)\n",
    "# Копируем\n",
    "b = a[:2].copy()\n",
    "b += 1\n",
    "print(\"a =\", a)\n",
    "print(\"b =\", b)"
   ]
  },
  {
   "cell_type": "markdown",
   "metadata": {},
   "source": [
    "Как видите, массив `a` не изменился."
   ]
  },
  {
   "cell_type": "markdown",
   "metadata": {},
   "source": [
    "Для объединения нескольких массивов в один имеется несколько функций: [`np.vstack`](https://numpy.org/doc/stable/reference/generated/numpy.vstack.html#numpy.vstack), [`np.hstack`](https://numpy.org/doc/stable/reference/generated/numpy.hstack.html#numpy.hstack) и [`np.block`](https://numpy.org/doc/stable/reference/generated/numpy.block.html#numpy.block).\n",
    "Пример ниже иллюстрирует создание матрицы $4 \\times 4$ из четырёх матриц $2 \\times 2$ с помощью `np.block`:"
   ]
  },
  {
   "cell_type": "code",
   "execution_count": 6,
   "metadata": {},
   "outputs": [
    {
     "data": {
      "text/plain": [
       "array([[ 1.,  1.,  1.,  0.],\n",
       "       [ 1.,  1.,  0.,  1.],\n",
       "       [ 0.,  0., -3.,  0.],\n",
       "       [ 0.,  0.,  0., -4.]])"
      ]
     },
     "execution_count": 6,
     "metadata": {},
     "output_type": "execute_result"
    }
   ],
   "source": [
    "A = np.ones((2, 2))\n",
    "B = np.eye(2, 2)\n",
    "C = np.zeros((2, 2))\n",
    "D = np.diag((-3, -4))\n",
    "np.block([[A, B], [C, D]])"
   ]
  },
  {
   "cell_type": "markdown",
   "metadata": {},
   "source": [
    "Остальные методы объединения массивов имеют аналогичный синтаксис.\n",
    "Примеры их применения можно найти в их документации."
   ]
  },
  {
   "cell_type": "markdown",
   "metadata": {},
   "source": [
    "## См. также\n",
    "\n",
    "[Более подробная информация на официальном сайте NumPy](https://numpy.org/doc/stable/user/basics.creation.html)."
   ]
  }
 ],
 "metadata": {
  "kernelspec": {
   "display_name": ".venv",
   "language": "python",
   "name": "python3"
  },
  "language_info": {
   "codemirror_mode": {
    "name": "ipython",
    "version": 3
   },
   "file_extension": ".py",
   "mimetype": "text/x-python",
   "name": "python",
   "nbconvert_exporter": "python",
   "pygments_lexer": "ipython3",
   "version": "3.10.12"
  }
 },
 "nbformat": 4,
 "nbformat_minor": 2
}
