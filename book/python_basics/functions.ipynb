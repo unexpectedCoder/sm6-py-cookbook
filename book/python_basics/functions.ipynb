{
 "cells": [
  {
   "cell_type": "markdown",
   "metadata": {},
   "source": [
    "# Функции\n",
    "\n",
    "..."
   ]
  },
  {
   "cell_type": "markdown",
   "metadata": {},
   "source": [
    "## Простейшая функция"
   ]
  },
  {
   "cell_type": "code",
   "execution_count": 68,
   "metadata": {},
   "outputs": [
    {
     "name": "stdout",
     "output_type": "stream",
     "text": [
      "None\n"
     ]
    }
   ],
   "source": [
    "# Так\n",
    "def do_nothing():\n",
    "    pass\n",
    "\n",
    "# Вызываем и смотрим, что функция вернула\n",
    "print(do_nothing())"
   ]
  },
  {
   "cell_type": "code",
   "execution_count": 69,
   "metadata": {},
   "outputs": [
    {
     "name": "stdout",
     "output_type": "stream",
     "text": [
      "None\n"
     ]
    }
   ],
   "source": [
    "# Или так\n",
    "def do_nothing():\n",
    "    return\n",
    "\n",
    "# Вызываем и смотрим, что функция вернула\n",
    "print(do_nothing())"
   ]
  },
  {
   "cell_type": "markdown",
   "metadata": {},
   "source": [
    "## Передача аргументов в функцию"
   ]
  },
  {
   "cell_type": "code",
   "execution_count": 70,
   "metadata": {},
   "outputs": [
    {
     "data": {
      "text/plain": [
       "2"
      ]
     },
     "execution_count": 70,
     "metadata": {},
     "output_type": "execute_result"
    }
   ],
   "source": [
    "def sum_two_nums(a, b):\n",
    "    s = a + b\n",
    "    return s\n",
    "\n",
    "# Или так (лаконичнее)\n",
    "def sum_two_nums(a, b):\n",
    "    return a + b\n",
    "\n",
    "sum_two_nums(-3, 5)"
   ]
  },
  {
   "cell_type": "markdown",
   "metadata": {},
   "source": [
    "### Аргументы по умолчанию"
   ]
  },
  {
   "cell_type": "code",
   "execution_count": 71,
   "metadata": {},
   "outputs": [
    {
     "name": "stdout",
     "output_type": "stream",
     "text": [
      "list_example = [2, 3, 4]; deleted_item = 1\n",
      "list_example = [2, 3]; deleted_item = 4\n"
     ]
    }
   ],
   "source": [
    "def delete_list_item(some_list, index=0):\n",
    "    return some_list.pop(index)\n",
    "\n",
    "list_example = [1, 2, 3, 4]\n",
    "deleted_item = delete_list_item(list_example)\n",
    "print(f\"list_example = {list_example}; deleted_item = {deleted_item}\")\n",
    "deleted_item = delete_list_item(list_example, 2)\n",
    "print(f\"list_example = {list_example}; deleted_item = {deleted_item}\")"
   ]
  },
  {
   "cell_type": "markdown",
   "metadata": {},
   "source": [
    "### Неопределённое число аргументов (args)"
   ]
  },
  {
   "cell_type": "code",
   "execution_count": 72,
   "metadata": {},
   "outputs": [
    {
     "data": {
      "text/plain": [
       "[1, 2, 3, 4, 0, -7, -3, 11]"
      ]
     },
     "execution_count": 72,
     "metadata": {},
     "output_type": "execute_result"
    }
   ],
   "source": [
    "def unite_lists(*args):\n",
    "    result = []\n",
    "    for other_list in args:\n",
    "        result.extend(other_list)\n",
    "    return result\n",
    "\n",
    "list_0 = [1, 2]\n",
    "list_1 = [3, 4]\n",
    "list_2 = [0, -7]\n",
    "list_3 = [-3, 11]\n",
    "unite_lists(list_0, list_1, list_2, list_3)"
   ]
  },
  {
   "cell_type": "markdown",
   "metadata": {},
   "source": [
    "### Именованные аргументы (kwargs)"
   ]
  },
  {
   "cell_type": "code",
   "execution_count": 73,
   "metadata": {},
   "outputs": [],
   "source": [
    "def do_something(**kwargs):\n",
    "    pass"
   ]
  },
  {
   "cell_type": "code",
   "execution_count": 74,
   "metadata": {},
   "outputs": [
    {
     "data": {
      "image/png": "[encoded data removed]",
      "text/plain": [
       "<Figure size 640x480 with 1 Axes>"
      ]
     },
     "metadata": {},
     "output_type": "display_data"
    }
   ],
   "source": [
    "import matplotlib.pyplot as plt\n",
    "import numpy as np\n",
    "\n",
    "def plot_something(x, y, **plot_kw):\n",
    "    _, ax = plt.subplots()\n",
    "    ax.plot(x, y, **plot_kw)\n",
    "\n",
    "x = np.linspace(-2, 2, 200)\n",
    "y = x**3\n",
    "plot_something(x, y, color=\"red\", ls=\"--\", lw=3)"
   ]
  },
  {
   "cell_type": "code",
   "execution_count": 75,
   "metadata": {},
   "outputs": [
    {
     "name": "stdout",
     "output_type": "stream",
     "text": [
      "\u001b[31mAttribureError\u001b[0m\n"
     ]
    },
    {
     "data": {
      "image/png": "[encoded data removed]",
      "text/plain": [
       "<Figure size 640x480 with 1 Axes>"
      ]
     },
     "metadata": {},
     "output_type": "display_data"
    }
   ],
   "source": [
    "# Для вывода цветного текста\n",
    "from termcolor import cprint\n",
    "\n",
    "try:\n",
    "    plot_something(x, y, color=\"red\", grid=True)\n",
    "except AttributeError as ex:\n",
    "    cprint(\"AttribureError\", \"red\")"
   ]
  },
  {
   "cell_type": "markdown",
   "metadata": {},
   "source": [
    "## Функция, возвращающая функцию"
   ]
  },
  {
   "cell_type": "code",
   "execution_count": 76,
   "metadata": {},
   "outputs": [
    {
     "name": "stdout",
     "output_type": "stream",
     "text": [
      "f(2) = 4; f(4) = 16\n"
     ]
    }
   ],
   "source": [
    "def create_parabola_func(a, b, c):\n",
    "    def parabola_func(x):\n",
    "        return a * x**2 + b * x + c\n",
    "\n",
    "    return parabola_func\n",
    "\n",
    "parabola = create_parabola_func(1, 0, 0)\n",
    "print(f\"f(2) = {parabola(2)}; f(4) = {parabola(4)}\")"
   ]
  },
  {
   "cell_type": "markdown",
   "metadata": {},
   "source": [
    "## Анонимные функции (lambda-функции)"
   ]
  },
  {
   "cell_type": "code",
   "execution_count": 77,
   "metadata": {},
   "outputs": [
    {
     "data": {
      "text/plain": [
       "<function __main__.<lambda>(x)>"
      ]
     },
     "execution_count": 77,
     "metadata": {},
     "output_type": "execute_result"
    }
   ],
   "source": [
    "lambda x: x + 1"
   ]
  },
  {
   "cell_type": "code",
   "execution_count": 78,
   "metadata": {},
   "outputs": [
    {
     "data": {
      "text/plain": [
       "4"
      ]
     },
     "execution_count": 78,
     "metadata": {},
     "output_type": "execute_result"
    }
   ],
   "source": [
    "plus_one = lambda x: x + 1\n",
    "plus_one(3)"
   ]
  },
  {
   "cell_type": "code",
   "execution_count": 79,
   "metadata": {},
   "outputs": [
    {
     "name": "stdout",
     "output_type": "stream",
     "text": [
      "f(2) = 4; f(4) = 16\n"
     ]
    }
   ],
   "source": [
    "def create_parabola_func(a, b, c):\n",
    "    return lambda x: a * x**2 + b * x + c\n",
    "\n",
    "parabola = create_parabola_func(1, 0, 0)\n",
    "print(f\"f(2) = {parabola(2)}; f(4) = {parabola(4)}\")"
   ]
  },
  {
   "cell_type": "markdown",
   "metadata": {},
   "source": [
    "## Декораторы"
   ]
  },
  {
   "cell_type": "markdown",
   "metadata": {},
   "source": [
    "### Декорирование функций"
   ]
  },
  {
   "cell_type": "code",
   "execution_count": 83,
   "metadata": {},
   "outputs": [
    {
     "data": {
      "text/plain": [
       "6"
      ]
     },
     "execution_count": 83,
     "metadata": {},
     "output_type": "execute_result"
    }
   ],
   "source": [
    "def sum_of_list(some_list):\n",
    "    return sum(some_list)\n",
    "\n",
    "sum_of_list([1, 2, 3])"
   ]
  },
  {
   "cell_type": "code",
   "execution_count": 87,
   "metadata": {},
   "outputs": [
    {
     "name": "stdout",
     "output_type": "stream",
     "text": [
      "Начинаю суммировать по [1, 2, 3]...\n",
      "Готово! Сумма равна 6\n"
     ]
    }
   ],
   "source": [
    "# Описываем декоратор\n",
    "def verbose_sum(func):\n",
    "    def wrapper(x):\n",
    "        print(f\"Начинаю суммировать по {x}...\")\n",
    "        s = func(x)\n",
    "        print(f\"Готово! Сумма равна {s}\")\n",
    "    \n",
    "    return wrapper\n",
    "\n",
    "# Декорируем\n",
    "@verbose_sum\n",
    "def sum_of_list(some_list):\n",
    "    return sum(some_list)\n",
    "\n",
    "sum_of_list([1, 2, 3])"
   ]
  }
 ],
 "metadata": {
  "kernelspec": {
   "display_name": ".venv",
   "language": "python",
   "name": "python3"
  },
  "language_info": {
   "codemirror_mode": {
    "name": "ipython",
    "version": 3
   },
   "file_extension": ".py",
   "mimetype": "text/x-python",
   "name": "python",
   "nbconvert_exporter": "python",
   "pygments_lexer": "ipython3",
   "version": "3.10.12"
  }
 },
 "nbformat": 4,
 "nbformat_minor": 2
}
