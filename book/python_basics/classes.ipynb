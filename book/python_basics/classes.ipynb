{
 "cells": [
  {
   "cell_type": "markdown",
   "metadata": {},
   "source": [
    "# Классы\n",
    "\n",
    "..."
   ]
  },
  {
   "cell_type": "code",
   "execution_count": 3,
   "metadata": {},
   "outputs": [
    {
     "name": "stdout",
     "output_type": "stream",
     "text": [
      "z1 = 1 + 4i\n",
      "z2 = -3 + 8i\n",
      "z1 + z2 = -2 + 12i\n"
     ]
    }
   ],
   "source": [
    "class Complex:\n",
    "    def __init__(self,real, im):\n",
    "        self.real = real\n",
    "        self.im = im\n",
    "    \n",
    "    def __str__(self):\n",
    "        return f\"{self.real} + {self.im}i\"\n",
    "\n",
    "    def __add__(self, other):\n",
    "        r = self.real + other.real\n",
    "        i = self.im + other.im\n",
    "        return Complex(r, i)\n",
    "\n",
    "\n",
    "z1 = Complex(1, 4)\n",
    "print(f\"z1 = {z1}\")\n",
    "z2 = Complex(-3, 8)\n",
    "print(f\"z2 = {z2}\")\n",
    "print(f\"z1 + z2 = {z1 + z2}\")"
   ]
  }
 ],
 "metadata": {
  "kernelspec": {
   "display_name": ".venv",
   "language": "python",
   "name": "python3"
  },
  "language_info": {
   "codemirror_mode": {
    "name": "ipython",
    "version": 3
   },
   "file_extension": ".py",
   "mimetype": "text/x-python",
   "name": "python",
   "nbconvert_exporter": "python",
   "pygments_lexer": "ipython3",
   "version": "3.10.12"
  }
 },
 "nbformat": 4,
 "nbformat_minor": 2
}
