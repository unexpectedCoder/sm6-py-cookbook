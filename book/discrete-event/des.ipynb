{
 "cells": [
  {
   "cell_type": "markdown",
   "metadata": {},
   "source": [
    "# Дискретно-событийное моделирование\n",
    "\n",
    "Рассмотрим, как устроено дискретно-событийное моделирование (ДСМ) в Python в контексте библиотеки [SimPy](https://simpy.readthedocs.io/en/latest/index.html), реализующей **всё, что только может понадобиться для этого**.\n",
    "\n",
    "Начнём с простой и показательной задачки о движении абсолютно упругого шарика в ограниченном двумерном пространстве (коробке).\n",
    "Затем подробнее рассмотрим некоторые примеры из документации SimPy."
   ]
  },
  {
   "cell_type": "markdown",
   "metadata": {},
   "source": [
    "## Шарик в коробке\n",
    "\n",
    "Представьте прямоугольную коробку, внутри которой от стенки к стенке движется абсолютно упругий шарик.\n",
    "Когда он достигает границы области, то упруго от неё отскакивает.\n",
    "Пусть пространство будет ограничено прямоугольником шириной $w$ и высотой $h$.\n",
    "Шарик в начальный момент времени $t_0 = 0$ находится в случайной точке $(x_0, y_0)$ внутри прямоугольника и имеет случайную скорость $(v_x, v_y)$ постоянную по величине: $v = \\sqrt{v_x^2 + v_y^2} = \\mathrm{const}$.\n",
    "\n",
    "При абсолютно упругом ударе о вертикальные стенки отражается _x_-составляющая скорости $v_x' = -v_x$, при ударе о горизонтальные - _y_-составляющая: $v_y' = -v_y$.\n",
    "\n",
    "Мы хотим промоделировать движение шарика в коробке в течение заданного времени $T$.\n",
    "Как это сделать?"
   ]
  },
  {
   "cell_type": "markdown",
   "metadata": {},
   "source": [
    "Одно из решений, часто первым приходящим на ум, заключается в задании некоторого **постоянного** _малого_ шага по времени $\\Delta t$.\n",
    "Однако сразу возникает две проблемы:\n",
    "\n",
    "1. Как определить, какой шаг является _малым_, а какой - _большим_?\n",
    "2. Постоянная величина шага $\\Delta t$ приводит к проблеме _пересечения границ_, т.е. тело выходит за границы расчётной области и на деле ударяется не о стенку коробки, а о _что-то_, расположенное вне её.\n",
    "   Это кардинально меняет траекторию тела, по сути нарушая задачу.\n",
    "\n",
    "Шаг по времени в данной задачи зависит от размеров прямоугольника и скорости тела.\n",
    "Чем меньше область и больше скорость, тем меньше должен быть шаг $\\Delta t$.\n",
    "Скажем, при скорости 1 м/с и шаге по времени 0.1 с шарик выйдет за границу не более, чем на $1 \\cdot 0.5 = 0.1$ м.\n",
    "Если размеры прямоугольника составляют десятки и более метров, то погрешность в 0.1 м не велика.\n",
    "Однако тогда понадобится очень большое число промежуточных шагов, при которых никаких _событий_ (столкновений) в системе не происходит.\n",
    "**Компьютер тратит время впустую** (и мы вместе с ним).\n",
    "Более того, ошибка в расчёте столкновений всё же присутствует, сколь малой бы она ни была.\n",
    "Если за время моделирования шарик столкнётся со стенками 10 раз - мы получим одну величину ошибки $\\varepsilon_1$ в определении конечного положения тела.\n",
    "Если же столкновений будет 100000, то ошибка $\\varepsilon_2$ конечного положения будет много больше ошибки $\\varepsilon_1$.\n",
    "Следовательно, при итеративном подходе **ошибка накапливается**.\n",
    "Ошибка накапливается также ввиду конечной точности чисел с плавающей точкой в компьютере.\n",
    "\n",
    "Рассмотренный подход называется _итеративным_.\n",
    "Каждая итерация представляет из себя следующую последовательность действий:\n",
    "\n",
    "* $x_{i+1} = x_i + v_{x\\, i+1} \\Delta t_i$;\n",
    "* $y_{i+1} = y_i + v_{y\\, i+1} \\Delta t_i$;\n",
    "* $t_{i+1} = t_i + \\Delta t_i$;\n",
    "* проверка пересечения границ.\n",
    "  Если границы пересечены, то меняется знак соответствующей проекции скорости.\n",
    "  Например, при столкновении с правой или левой стенкой $v_{x\\, i+1} = -v_{xi}$.\n",
    "  Если столкновения нет, то проекции не изменяются: $v_{x\\, i+1} = v_{xi}$ и $v_{y\\, i+1} = v_{yi}$;\n",
    "* итерации повторяются, пока $t_i < T$.\n",
    "\n",
    "Проверка пересечения границ заключается в проверке условий\n",
    "$x \\notin (x_\\mathrm{lb}; x_\\mathrm{rb})$ и\n",
    "$y \\notin (y_\\mathrm{bb}; y_\\mathrm{tb})$,\n",
    "где\n",
    "$x_\\mathrm{lb}$ и $x_\\mathrm{rb}$ - прямые левой и правой границ соответственно;\n",
    "$y_\\mathrm{bb}$ и $y_\\mathrm{tb}$ - прямые нижней и верхней границ соответственно."
   ]
  },
  {
   "cell_type": "markdown",
   "metadata": {},
   "source": [
    "Если не спешить и обдумать задачу более основательно, то можно заметить, что по известной и постоянной скорости, начальному положению тела и при известных размерах пространства несложно _рассчитать_ промежуток времени $\\Delta t_i$, через который тело столкнётся с одной из границ.\n",
    "Действительно, если в момент времени $t_i$ проекции скорости тела $v_{xi} > 0$ и $v_{yi} > 0$, то шарик движется в направлении правой и верхней стенок.\n",
    "Остаётся определить, которая из них будет достигнута быстрее.\n",
    "Если координата шарика в момент времени $t_i$ есть $(x_i, y_i)$, то с правой границей он столкнётся через время $\\Delta t_{\\mathrm{rb} i} = (x_\\mathrm{rb} - x_i) / v_{xi}$, а с верхней - через $\\Delta t_{\\mathrm{tb} i} = (y_\\mathrm{tb} - y_i) / v_{yi}$.\n",
    "И тогда $t_{i+1} = t_i + \\min(\\Delta t_{\\mathrm{rb} i}, \\Delta t_{\\mathrm{tb} i})$.\n",
    "Аналогично рассчитывается время столкновения с любой границей в зависимости от комбинации знаков проекций скорости тела.\n",
    "\n",
    "```{note}\n",
    "Если какая-либо из проекций равна нулю, то достаточно рассмотреть лишь одну границу, в направлении которой движется тело.\n",
    "```\n",
    "\n",
    "Таким образом, мы можем рассчитать момент времени $t_{i+1} = t_{i} + \\Delta t_i$ наступления $(i+1)$-го _события_ \"столкновение со стенкой\".\n",
    "Зная $\\Delta t_i$, мы можем **точно рассчитать** точку столкновения с границей: $x_{i+1} = x_i + v_{xi} \\Delta t_i$ и $y_{i+1} = y_i + v_{yi}\\Delta t_i$, после чего изменить знак соответствующей проекции скорости: либо $v_{x\\, i+1} = -v_{xi}$, либо $v_{y\\, i+1} = -v_{yi}$.\n",
    "После этого рассчитывается время до следующего столкновения и т.д.\n",
    "\n",
    "При этом нам **не нужно**\n",
    "\n",
    "* думать о выборе шага по времени, зависящего от нескольких параметров (в реальных задачах таких параметров может быть гораздо больше, чем в рассматриваемой задаче);\n",
    "* впустую тратить расчётное время компьютера - он считает лишь моменты, в которых меняется _состояние системы_ (в данном случае, когда при столкновении меняется знак у одной из проекций скорости);\n",
    "* знать сколько раз за время моделирования шарик столкнётся со стенками.\n",
    "\n",
    "При применении ДСМ также **не накапливается ошибка** численного расчёта.\n",
    "Получается траектория движения шарика, совпадающая с теоретической.\n",
    "\n",
    "```{important}\n",
    "Состояние системы изменяется при наступлении какого-либо события.\n",
    "Между событиями состояние остаётся постоянным.\n",
    "Это одно из основных положений ДСМ.\n",
    "```"
   ]
  },
  {
   "cell_type": "markdown",
   "metadata": {},
   "source": [
    "Реализуем сначала итеративный подход.\n",
    "Получим траекторию тела, которую затем сравним с траекторией, полученной с применением ДСМ."
   ]
  },
  {
   "cell_type": "markdown",
   "metadata": {},
   "source": [
    "### Итеративный подход\n",
    "\n",
    "Напишем функцию итеративного решения задачи о шарике в коробке.\n",
    "Назовём её `iterative_solver`.\n",
    "Чтобы было легче воспринимать код, разобьём его на более мелкие составные части (функции).\n",
    "\n",
    "Начнём с реализации вспомогательной функции определения столкновений с границами.\n",
    "Условия столкновения, как отмечено выше, следующие:\n",
    "\n",
    "$$\n",
    "x_i \\notin (x_\\mathrm{lb}; x_\\mathrm{rb}), \\quad\n",
    "y_i \\notin (y_\\mathrm{bb}; y_\\mathrm{tb}).\n",
    "$$"
   ]
  },
  {
   "cell_type": "code",
   "execution_count": 19,
   "metadata": {},
   "outputs": [],
   "source": [
    "def collision(bounds, p):\n",
    "    \"\"\"Условие столкновения шара с границами коробки.\n",
    "\n",
    "    * `bounds` - кортеж вида `(x_lb, x_rb, y_bb, y_tb)`,\n",
    "      хранящий координаты левой, правой, нижней и верхней границ\n",
    "      прямоугольной области.\n",
    "    * `p` - текущая координата `(x, y)` шара.\n",
    "    \n",
    "    Возвращает кортеж из двух значений, определяющих, нужно ли\n",
    "    инвертировать соответствующую проекцию скорости.\n",
    "    \"\"\"\n",
    "    x_lb, x_rb, y_bb, y_tb = bounds\n",
    "    x, y = p\n",
    "    # Знак элемента signs показывает, нужно ли инвертировать\n",
    "    # соответствующую проекцию скорости\n",
    "    flag = False    # Было ли столкновение\n",
    "    signs = [1, 1]\n",
    "    if not x_lb < x < x_rb:\n",
    "        # Столкновение с одной из вертикальных стен,\n",
    "        # значит, нужно инвертировать v_x\n",
    "        signs[0] = -1\n",
    "        flag = True\n",
    "    if not y_bb < y < y_tb:\n",
    "        # Столкновение с одной из горизонтальных стен,\n",
    "        # значит, нужно инвертировать v_y\n",
    "        signs[1] = -1\n",
    "        flag = True\n",
    "    return flag, signs"
   ]
  },
  {
   "cell_type": "markdown",
   "metadata": {},
   "source": [
    "```{warning}\n",
    "Функция `collision` имеет один эффект, влияющий на траекторию шара, который мы не предусмотрели.\n",
    "Получится ли у вас его определить?\n",
    "```"
   ]
  },
  {
   "cell_type": "markdown",
   "metadata": {},
   "source": [
    "Теперь сама функция итеративного решателя:"
   ]
  },
  {
   "cell_type": "code",
   "execution_count": 20,
   "metadata": {},
   "outputs": [],
   "source": [
    "import numpy as np\n",
    "\n",
    "def iterative_solver(bounds, p, v, t_until, t_step):\n",
    "    \"\"\"Итеративный решатель задачи о шарике в коробке.\n",
    "    \n",
    "    * `bounds` - кортеж из 4 чисел вида `(x_lb, x_rb, y_bb, y_tb)`,\n",
    "      описывающий левую, правую, нижнюю и верхнюю границы\n",
    "      прямоугольной области.\n",
    "    * `p` - начальная координата шара `(x, y)`.\n",
    "    * `v` - кортеж `(v_x, v_y)` со значениями проекций вектора\n",
    "       начальной скорости шара.\n",
    "    * `t_until` - время моделирования.\n",
    "    * `t_step` - постоянный шаг по времени.\n",
    "    \"\"\"\n",
    "    # Распакуем аргументы-кортежи в соответствующие переменные\n",
    "    x, y = p\n",
    "    v_x, v_y = v\n",
    "    # Инициализируем \"часы\"\n",
    "    t = 0\n",
    "    # и массив траекторных точек\n",
    "    # (именно эти три переменные формируют траекторию)\n",
    "    traj = [(t, x, y)]\n",
    "    # Выполняем итерации:\n",
    "    while t <= t_until:\n",
    "        # 1. Обновляем координаты и время\n",
    "        x += v_x * t_step\n",
    "        y += v_y * t_step\n",
    "        t += t_step\n",
    "        # 2. Проверяем условие столкновения\n",
    "        flag, (svx, svy) = collision(bounds, (x, y))\n",
    "        # 3. Инвертируем проекции скорости\n",
    "        #    (если svx и svy отрицательны)\n",
    "        if flag:\n",
    "            # Просто чтобы не расходавать память\n",
    "            # на точки между столкновениями\n",
    "            traj.append((t, x, y))\n",
    "            v_x *= svx\n",
    "            v_y *= svy\n",
    "    # В завершение добавим последнюю точку траектории\n",
    "    traj.append((t, x, y))\n",
    "    # Возвращаем полученную траекторию\n",
    "    # в виде массива NumPy\n",
    "    return np.array(traj)"
   ]
  },
  {
   "cell_type": "markdown",
   "metadata": {},
   "source": [
    "Напишем удобную для многоразового использования функцию визуализации траектории `plot_traj`:"
   ]
  },
  {
   "cell_type": "code",
   "execution_count": 21,
   "metadata": {},
   "outputs": [],
   "source": [
    "import matplotlib.pyplot as plt\n",
    "\n",
    "def plot_traj(traj, figax=None, **kw):\n",
    "    \"\"\"Строит траекторию тела.\"\"\"\n",
    "    if figax is None:\n",
    "        fig, ax = plt.subplots()\n",
    "    else:\n",
    "        fig, ax = figax\n",
    "    # Линии траектории\n",
    "    ax.plot(traj[:, 1], traj[:, 2], **kw)\n",
    "    # Начальная и конечная точки\n",
    "    ax.plot(traj[0, 1], traj[0, 2],\n",
    "            ls=\"\", marker=\"o\", c=\"purple\")\n",
    "    ax.plot(traj[-1, 1], traj[-1, 2],\n",
    "            ls=\"\", marker=\"x\", c=\"purple\")\n",
    "    return fig, ax"
   ]
  },
  {
   "cell_type": "markdown",
   "metadata": {},
   "source": [
    "Посмотрим, что получилось.\n",
    "Пусть условия задачи таковы:\n",
    "\n",
    "* $x_\\mathrm{lb} = 0$, $x_\\mathrm{rb} = 1$, $y_\\mathrm{bb} = 0$ и $y_\\mathrm{tb} = 1$ м;\n",
    "* $x_0 = 0.67$ и $y_0 = 0.33$ м;\n",
    "* $v_{x0} = 0.3$ и $v_{y0} = 0.1$ м/с;\n",
    "* шаг по времени $\\Delta t = 0.5$ с;\n",
    "* время моделирования $T = 60$ с."
   ]
  },
  {
   "cell_type": "code",
   "execution_count": 22,
   "metadata": {},
   "outputs": [],
   "source": [
    "# Условия задачи\n",
    "bounds = 0, 1, 0, 1\n",
    "xy = 0.67, 0.33\n",
    "v = 0.3, 0.1\n",
    "dt = 0.5\n",
    "t_until = 60"
   ]
  },
  {
   "cell_type": "markdown",
   "metadata": {},
   "source": [
    "Моделируем и строим траекторию:"
   ]
  },
  {
   "cell_type": "code",
   "execution_count": 23,
   "metadata": {},
   "outputs": [
    {
     "data": {
      "image/png": "[encoded data removed]",
      "text/plain": [
       "<Figure size 640x480 with 1 Axes>"
      ]
     },
     "metadata": {},
     "output_type": "display_data"
    }
   ],
   "source": [
    "traj = iterative_solver(bounds, xy, v, t_until, dt)\n",
    "_, ax = plot_traj(traj)\n",
    "ax.axvline(bounds[0], color=\"k\")\n",
    "ax.axvline(bounds[1], color=\"k\")\n",
    "ax.axhline(bounds[2], color=\"k\")\n",
    "ax.axhline(bounds[3], color=\"k\")\n",
    "ax.set(xlabel=\"$x$, м\", ylabel=\"$y$, м\", aspect=\"equal\");"
   ]
  },
  {
   "cell_type": "markdown",
   "metadata": {},
   "source": [
    "Число столкновений:"
   ]
  },
  {
   "cell_type": "code",
   "execution_count": 24,
   "metadata": {},
   "outputs": [
    {
     "name": "stdout",
     "output_type": "stream",
     "text": [
      "Число столкновений: 21\n"
     ]
    }
   ],
   "source": [
    "print(\"Число столкновений:\", traj.shape[0] - 1)\n",
    "# Не учитывая последнюю (свободную) точку"
   ]
  },
  {
   "cell_type": "markdown",
   "metadata": {},
   "source": [
    "```{note}\n",
    "Кстати, о непредусмотренном эффекте функции `collision`.\n",
    "Этот эффект виден на получившемся графике.\n",
    "```"
   ]
  },
  {
   "cell_type": "markdown",
   "metadata": {},
   "source": [
    "Если уменьшить шаг по времени в 5 раз, то получим следующую картину:"
   ]
  },
  {
   "cell_type": "code",
   "execution_count": 25,
   "metadata": {},
   "outputs": [
    {
     "data": {
      "image/png": "[encoded data removed]",
      "text/plain": [
       "<Figure size 640x480 with 1 Axes>"
      ]
     },
     "metadata": {},
     "output_type": "display_data"
    }
   ],
   "source": [
    "traj_iterative = iterative_solver(\n",
    "    bounds, xy, v, t_until, t_step=dt/5\n",
    ")\n",
    "_, ax = plot_traj(traj_iterative)\n",
    "ax.axvline(bounds[0], color=\"k\")\n",
    "ax.axvline(bounds[1], color=\"k\")\n",
    "ax.axhline(bounds[2], color=\"k\")\n",
    "ax.axhline(bounds[3], color=\"k\")\n",
    "ax.set(xlabel=\"$x$, м\", ylabel=\"$y$, м\", aspect=\"equal\");"
   ]
  },
  {
   "cell_type": "code",
   "execution_count": 26,
   "metadata": {},
   "outputs": [
    {
     "name": "stdout",
     "output_type": "stream",
     "text": [
      "Число столкновений: 25\n"
     ]
    }
   ],
   "source": [
    "print(\"Число столкновений:\", traj_iterative.shape[0] - 1)"
   ]
  },
  {
   "cell_type": "markdown",
   "metadata": {},
   "source": [
    "Сравнив два рисунка, можно заметить, что хоть уменьшение шага и привело к более точной траектории тела, но пересечение границ всё равно присутствует.\n",
    "Также при различном временном шаге получены разные значения числа столкновений - 21 и 25 соответственно.\n",
    "\n",
    "```{note}\n",
    "Заметьте, что столкновение с горизонтальными границами происходит _почти_ на них.\n",
    "На самом деле при данном масштабе не видно, что выход за границу по вертикальной оси составляет 0.03 м.\n",
    "Можно и так подобрать параметры задачи (шаг по времени, скорость и начальную координату шара), что столкновение будет происходить точно на границах.\n",
    "Но это будет либо совпадением, либо подгонкой параметров, которую бывает невозможно произвести в сложных задачах.\n",
    "```\n",
    "\n",
    "Настало время решить эту задачу правильно."
   ]
  },
  {
   "cell_type": "markdown",
   "metadata": {},
   "source": [
    "### Дискретно-событийный подход\n",
    "\n",
    "Как отмечено выше, при дискретно-событийном подходе мы должны рассчитать момент наступления события.\n",
    "Для этой цели опишем функцию `calc_delay`, которая по заданным границам, скорости $(v_{xi}, v_{yi})$ и положению тела $(x_i, y_i)$ рассчитает, через какое время $\\Delta t_i$ наступит следующее событие:"
   ]
  },
  {
   "cell_type": "code",
   "execution_count": 27,
   "metadata": {},
   "outputs": [],
   "source": [
    "def calc_delay(bounds, v, p):\n",
    "    \"\"\"Рассчитать задержку времени перед следующим событием\n",
    "    при заданных границах `bounds = (x_lb, x_rb, y_bb, y_tb)`,\n",
    "    скорости шара `v = (v_x, v_y)` и координате его последнего\n",
    "    столкновения `p = (x, y)`.\"\"\"\n",
    "    # Распакуем аргументы для удобства\n",
    "    x_lb, x_rb, y_bb, y_tb = bounds\n",
    "    x, y = p\n",
    "    vx, vy = v\n",
    "    # Вычисляем время (задержку)\n",
    "    dtx, dty = 0., 0.\n",
    "    # - в направлении оси Ox\n",
    "    if vx > 0:\n",
    "        dtx = (x_rb - x) / vx\n",
    "    elif vx < 0:\n",
    "        dtx = (x_lb - x) / vx\n",
    "    # - в направление оси Oy\n",
    "    if vy > 0:\n",
    "        dty = (y_tb - y) / vy\n",
    "    elif vy < 0:\n",
    "        dty = (y_bb - y) / vy\n",
    "    # Определение, какую проекцию скорости инвертировать\n",
    "    signs = [1, 1]\n",
    "    signs[np.argmin((dtx, dty))] = -1\n",
    "    return min(dtx, dty), signs"
   ]
  },
  {
   "cell_type": "markdown",
   "metadata": {},
   "source": [
    "Реализуем решатель `de_solver`:"
   ]
  },
  {
   "cell_type": "code",
   "execution_count": 28,
   "metadata": {},
   "outputs": [],
   "source": [
    "import simpy as sim\n",
    "\n",
    "def de_solver(bounds, p, v, t_until):\n",
    "    p, v = np.array(p), np.array(v)\n",
    "    env = sim.Environment()\n",
    "    traj = [(env.now, *p)]\n",
    "    env.process(loop(env, bounds, p, v, traj))\n",
    "    env.run(t_until)\n",
    "    p += v * (t_until - traj[-1][0])\n",
    "    traj.append((env.now, *p))\n",
    "    return np.array(traj)\n",
    "\n",
    "def loop(env, bounds, p, v, traj):\n",
    "    while True:\n",
    "        dt, signs = calc_delay(bounds, v, p)\n",
    "        yield env.timeout(dt)\n",
    "        p += v * dt\n",
    "        traj.append((env.now, *p))\n",
    "        v *= signs"
   ]
  },
  {
   "cell_type": "markdown",
   "metadata": {},
   "source": [
    "Промоделируем при тех же исходных параметрах:"
   ]
  },
  {
   "cell_type": "code",
   "execution_count": 29,
   "metadata": {},
   "outputs": [
    {
     "name": "stdout",
     "output_type": "stream",
     "text": [
      "Число столкновений: 25\n"
     ]
    },
    {
     "data": {
      "image/png": "[encoded data removed]",
      "text/plain": [
       "<Figure size 640x480 with 1 Axes>"
      ]
     },
     "metadata": {},
     "output_type": "display_data"
    }
   ],
   "source": [
    "# Заметьте, мы уже не задаём шаг по времени\n",
    "traj_des = de_solver(bounds, xy, v, t_until)\n",
    "_, ax = plot_traj(traj_des)\n",
    "ax.axvline(bounds[0], color=\"k\")\n",
    "ax.axvline(bounds[1], color=\"k\")\n",
    "ax.axhline(bounds[2], color=\"k\")\n",
    "ax.axhline(bounds[3], color=\"k\")\n",
    "ax.set(xlabel=\"$x$, м\", ylabel=\"$y$, м\", aspect=\"equal\");\n",
    "print(\"Число столкновений:\", traj_des.shape[0] - 1)"
   ]
  },
  {
   "cell_type": "markdown",
   "metadata": {},
   "source": [
    "Получили точное решение, которое заметно отличается от всех решений, полученных ранее - шарик оказался в том же самом месте, из которого начал своё движение."
   ]
  },
  {
   "cell_type": "markdown",
   "metadata": {},
   "source": [
    "Итак, приведём полученные результаты на одном графике:"
   ]
  },
  {
   "cell_type": "code",
   "execution_count": 30,
   "metadata": {},
   "outputs": [
    {
     "data": {
      "image/png": "[encoded data removed]",
      "text/plain": [
       "<Figure size 640x480 with 1 Axes>"
      ]
     },
     "metadata": {},
     "output_type": "display_data"
    }
   ],
   "source": [
    "fig, ax = plot_traj(traj_iterative, label=\"Итеративный метод\")\n",
    "plot_traj(traj_des, (fig, ax), label=\"ДСМ\")\n",
    "ax.legend()\n",
    "\n",
    "ax.axvline(bounds[0], color=\"k\")\n",
    "ax.axvline(bounds[1], color=\"k\")\n",
    "ax.axhline(bounds[2], color=\"k\")\n",
    "ax.axhline(bounds[3], color=\"k\")\n",
    "ax.set(xlabel=\"$x$, м\", ylabel=\"$y$, м\", aspect=\"equal\");"
   ]
  },
  {
   "cell_type": "markdown",
   "metadata": {},
   "source": [
    "Из полученного графика также отчётливо видно, как по мере увеличения числа событий, увеличивается ошибка итеративного метода.\n",
    "С течением времени полученная с его помощью траектория всё сильнее и сильнее отклоняется от теоретической (оранжевой)."
   ]
  },
  {
   "cell_type": "markdown",
   "metadata": {},
   "source": [
    "Изменим начальные условия и посмотрим на результат:"
   ]
  },
  {
   "cell_type": "code",
   "execution_count": 31,
   "metadata": {},
   "outputs": [
    {
     "name": "stdout",
     "output_type": "stream",
     "text": [
      "Число столкновений: 11\n"
     ]
    },
    {
     "data": {
      "image/png": "[encoded data removed]",
      "text/plain": [
       "<Figure size 640x480 with 1 Axes>"
      ]
     },
     "metadata": {},
     "output_type": "display_data"
    }
   ],
   "source": [
    "# Немного другие условия задачи\n",
    "bounds = 0, 2, 0, 1\n",
    "xy = 0.6, 0.2\n",
    "v = 0.3, -0.1\n",
    "t_until = 40    # ...равно периоду движения\n",
    "\n",
    "traj = de_solver(bounds, xy, v, t_until)\n",
    "\n",
    "# Показываем\n",
    "_, ax = plot_traj(traj)\n",
    "ax.axvline(bounds[0], color=\"k\")\n",
    "ax.axvline(bounds[1], color=\"k\")\n",
    "ax.axhline(bounds[2], color=\"k\")\n",
    "ax.axhline(bounds[3], color=\"k\")\n",
    "ax.set(xlabel=\"$x$, м\", ylabel=\"$y$, м\", aspect=\"equal\");\n",
    "print(\"Число столкновений:\", traj.shape[0] - 1)"
   ]
  },
  {
   "cell_type": "markdown",
   "metadata": {},
   "source": [
    "```{note}\n",
    "Интересно подумать, почему получается периодическое движение и как рассчитать его период?\n",
    "```"
   ]
  },
  {
   "cell_type": "markdown",
   "metadata": {},
   "source": [
    "## Примеры использования SimPy\n",
    "\n",
    "В данном разделе рассмотрены некоторые примеры из [официальной документации](https://simpy.readthedocs.io/en/latest/examples/index.html) SimPy с целью чуть лучше раскрыть принципы работы с данной библиотекой.\n",
    "\n",
    "Прежде необходимо подключить SimPy:\n",
    "\n",
    "```{code}\n",
    "import simpy as sim\n",
    "```"
   ]
  },
  {
   "cell_type": "markdown",
   "metadata": {},
   "source": [
    "### Разочарование клиента в банке\n",
    "\n",
    "Данный [пример](https://simpy.readthedocs.io/en/latest/examples/bank_renege.html) раскрывает такие возможности SimPy, как _ресурсы_ и _условные события_.\n",
    "\n",
    "Задача следующая.\n",
    "Есть банк, в который приходят клиенты.\n",
    "У банка есть несколько окон для обслуживания клиентов.\n",
    "Поток клиентов случаен.\n",
    "Каждый клиент имеет определённое терпение, которое может закончиться, и клиент в результате просто уйдёт из банка.\n",
    "Если же его очередь подойдёт быстрее, чем закончится терпение, то он подойдёт к окну и займёт его на некоторое время.\n",
    "Остальные клиенты всё так же продолжат ждать своей очереди, насколько хватит терпения.\n",
    "\n",
    "Нам точно понадобится рандом:"
   ]
  },
  {
   "cell_type": "code",
   "execution_count": 32,
   "metadata": {},
   "outputs": [],
   "source": [
    "import random as rand"
   ]
  },
  {
   "cell_type": "markdown",
   "metadata": {},
   "source": [
    "Также задаём основные параметры модели:"
   ]
  },
  {
   "cell_type": "code",
   "execution_count": 33,
   "metadata": {},
   "outputs": [],
   "source": [
    "RANDOM_SEED = 42\n",
    "NEW_CUSTOMERS = 5  # Общее число посетителей\n",
    "INTERVAL_CUSTOMERS = 10.0  # Среднее время появления нового посетителя\n",
    "MIN_PATIENCE = 1  # Минимальное\n",
    "MAX_PATIENCE = 3  # и максимальное время ожидания клиента"
   ]
  },
  {
   "cell_type": "markdown",
   "metadata": {},
   "source": [
    "Определим клиента как _функцию-процесс_ (в терминах SimPy) `customer`.\n",
    "По сути своей, это обычная генераторная функция."
   ]
  },
  {
   "cell_type": "code",
   "execution_count": 34,
   "metadata": {},
   "outputs": [],
   "source": [
    "def customer(env, name, counter, time_in_bank):\n",
    "    \"\"\"Посетитель приходит, обслуживается и уходит.\"\"\"\n",
    "    arrive = env.now\n",
    "    print(f\"{arrive:7.4f} {name}: Я пришёл!\")\n",
    "    # Клиент \"запрашивает\" обслуживание, т.е. ресурс в терминах SimPy.\n",
    "    # counter - это сотрудник банка (окно обслуживания).\n",
    "    with counter.request() as req:\n",
    "        # Каково же терпение!\n",
    "        patience = rand.uniform(MIN_PATIENCE, MAX_PATIENCE)\n",
    "        # Ожидание своей очереди, пока хватает терпения.\n",
    "        # Это и есть условное событие: либо пришла очередь,\n",
    "        # либо кончилось терпение. Оператор ИЛИ в yield-выражении\n",
    "        # обозначается вертикальной чертой \"|\", как побитовое ИЛИ.\n",
    "        results = yield req | env.timeout(patience)\n",
    "        # Отмечаем, сколько клиент прождал\n",
    "        wait = env.now - arrive\n",
    "        # В results у нас список НАСТУПИВШИХ событий.\n",
    "        # В данном случае могло наступить всего одно событие:\n",
    "        # либо req, либо истекло время ожидания (timeout).\n",
    "        if req in results:\n",
    "            # Освободился ресурс (окно) - настала очередь клиента\n",
    "            print(f\"{env.now:7.4f} {name}: Прождал {wait:6.3f}\")\n",
    "            # Теперь клиент на случайное время занимает окно.\n",
    "            # Всё это время ресурс req занят и не доступен\n",
    "            # другим посетителям.\n",
    "            tib = rand.expovariate(1.0 / time_in_bank)\n",
    "            yield env.timeout(tib)\n",
    "            print(f\"{env.now:7.4f} {name}: Довольный ухожу\")\n",
    "        else:\n",
    "            # Кончилось терпение!\n",
    "            print(f\"{env.now:7.4f} {name}: УХОЖУ после ожидания {wait:6.3f}!\")"
   ]
  },
  {
   "cell_type": "markdown",
   "metadata": {},
   "source": [
    "Теперь опишем генераторную функцию, ответственную за возникновение новых посетителей.\n",
    "Назовём её `source`.\n",
    "Она будет _процессом_ в терминах SimPy."
   ]
  },
  {
   "cell_type": "code",
   "execution_count": 35,
   "metadata": {},
   "outputs": [],
   "source": [
    "def source(env, number, interval, counter):\n",
    "    \"\"\"Случайным образом генерирует посетителей.\"\"\"\n",
    "    for i in range(number):\n",
    "        c = customer(\n",
    "            env,\n",
    "            f\"Посетитель с талончиком {i+1}\",\n",
    "            counter,\n",
    "            time_in_bank=12.0\n",
    "        )\n",
    "        env.process(c)\n",
    "        # Через сколько этот клиент нагрянет в банк?\n",
    "        t = rand.expovariate(1.0 / interval)\n",
    "        # Генерируем событие \"Новый посетитель\"\n",
    "        yield env.timeout(t)"
   ]
  },
  {
   "cell_type": "markdown",
   "metadata": {},
   "source": [
    "Теперь можно и моделировать:"
   ]
  },
  {
   "cell_type": "code",
   "execution_count": 36,
   "metadata": {},
   "outputs": [
    {
     "name": "stdout",
     "output_type": "stream",
     "text": [
      "Банковская идилия\n",
      " 0.0000 Посетитель с талончиком 1: Я пришёл!\n",
      " 0.0000 Посетитель с талончиком 1: Прождал  0.000\n",
      " 3.8595 Посетитель с талончиком 1: Довольный ухожу\n",
      "10.2006 Посетитель с талончиком 2: Я пришёл!\n",
      "10.2006 Посетитель с талончиком 2: Прождал  0.000\n",
      "12.7265 Посетитель с талончиком 3: Я пришёл!\n",
      "13.9003 Посетитель с талончиком 3: УХОЖУ после ожидания  1.174!\n",
      "23.7507 Посетитель с талончиком 2: Довольный ухожу\n",
      "34.9993 Посетитель с талончиком 4: Я пришёл!\n",
      "34.9993 Посетитель с талончиком 4: Прождал  0.000\n",
      "37.9599 Посетитель с талончиком 4: Довольный ухожу\n",
      "40.4798 Посетитель с талончиком 5: Я пришёл!\n",
      "40.4798 Посетитель с талончиком 5: Прождал  0.000\n",
      "43.1401 Посетитель с талончиком 5: Довольный ухожу\n"
     ]
    }
   ],
   "source": [
    "# Настраиваем и запускаем симуляцию\n",
    "print(\"Банковская идилия\")\n",
    "rand.seed(RANDOM_SEED)\n",
    "env = sim.Environment()\n",
    "# Запускаем процессы и прогонку (run) модели.\n",
    "# - Окно обслуживания у нас всего одно и оно является ресурсом\n",
    "#   в терминах SimPy.\n",
    "counter = sim.Resource(env, capacity=1)\n",
    "# - Инициализируем процесс появления клиентов, который, в свою очередь,\n",
    "#   генерирует посетителя, запускает его как процесс, а потом ждёт,\n",
    "#   прежде чем сгенерировать нового клиента.\n",
    "env.process(source(env, NEW_CUSTOMERS, INTERVAL_CUSTOMERS, counter))\n",
    "# - Так как всего будет NEW_CUSTOMERS посетителей, то симуляция\n",
    "#   сама собой завершится, когда уйдёт последний клиент.\n",
    "#   Поэтому нет нужды указывать run время моделирования until.\n",
    "env.run()"
   ]
  },
  {
   "cell_type": "markdown",
   "metadata": {},
   "source": [
    "Вот и результат.\n",
    "Не повезло лишь третьему талончику...\n",
    "Ну и банку тоже! Вдруг именно этим клиентом был Илон Маск?\n",
    "\n",
    "```{note}\n",
    "Кстати, сравните полученный результат с результатом официального примера.\n",
    "Абсолютно точное совпадение!\n",
    "Всё из-за того, что использовалась одна и та же затравка `SEED` для генератора псевдослучайных чисел.\n",
    "Ну и сам генератор был тем же самым - из стандартной библиотеки random.\n",
    "```\n",
    "\n",
    "Как видите, довольно просто и быстро можно смоделировать вполне реальную задачу [теории массового обслуживания](https://ru.wikipedia.org/wiki/Теория_массового_обслуживания).\n",
    "Ведь никто не мешает учесть здесь финансовую сторону вопроса и прийти к оптимизационной задачи по типу: \"Сколько нужно обслуживающих окон, чтобы минимизировать потерю клиентов, т.е. максимизировать прибыль?\n",
    "Сколько нужно окон утром во вторник и вечером пятницы?\n",
    "Как при этом минимизировать затраты на новых сотрудников, но не ухудшить обслуживание?\n",
    "Поставить автоматы самообслуживания?\n",
    "Сколько их нужно?\n",
    "Когда и сколько денег в них загружать?\"\n",
    "Ну вы поняли..."
   ]
  },
  {
   "cell_type": "markdown",
   "metadata": {},
   "source": [
    "```{important}\n",
    "Создаётся впечатление, будто процессы `source` и `customer` выполняются параллельно.\n",
    "На самом деле это _не совсем_ так.\n",
    "\n",
    "С точки зрения операционной системы _поток выполнения_ нашей программы один, т.е. программа не \"выполняется на нескольких ядрах\".\n",
    "Иными словами, параллелизма _на аппаратном уровне_ здесь нет.\n",
    "\n",
    "Но есть параллелизм на уровне программы.\n",
    "Генераторы лежат в основе [асинхронного программирования](https://ru.wikipedia.org/wiki/Асинхронное_программирование), при котором отдельные части программы могут работать асинхронно, т.е. не ожидать завершения друг друга.\n",
    "Подробнее основы асинхронного программирования изложены [здесь](https://proglib.io/p/asynchrony?ysclid=lmjk2v8cxv779630081).\n",
    "\n",
    "У нас может быть **любое** количество запущенных процессов, но каждый процесс - это генератор.\n",
    "А генератор ничего не делает, пока к нему не будет применена стандартная функция `next`.\n",
    "Эту функцию среды `env` начинает применяет к генераторам наш объект, когда мы запускаем симуляцию методом `run`.\n",
    "\n",
    "К какому именно генератору из всего множества имеющихся применить `next`?\n",
    "Среда `env` определяет это, исходя из своего _журнала событий_, который она непрерывно ведёт.\n",
    "Например, когда мы написали внутри процесса `source` выражение `yield env.timeout(t)`, то объект `env` \"под капотом\" добавил в журнал событие типа [`Timeout`](https://simpy.readthedocs.io/en/latest/api_reference/simpy.events.html#simpy.events.Timeout), которое произойдёт во время `env.now + t`.\n",
    "Когда это событие является следующим в очереди, то определяется генератор, к которому оно принадлежит (опять же SimPy сопоставляет процессы с событиями \"под капотом\"), и к этому генератору применяется `next`.\n",
    "Никакой \"магии\" не происходит - только чистые Python-генераторы!\n",
    "```"
   ]
  }
 ],
 "metadata": {
  "kernelspec": {
   "display_name": ".venv",
   "language": "python",
   "name": "python3"
  },
  "language_info": {
   "codemirror_mode": {
    "name": "ipython",
    "version": 3
   },
   "file_extension": ".py",
   "mimetype": "text/x-python",
   "name": "python",
   "nbconvert_exporter": "python",
   "pygments_lexer": "ipython3",
   "version": "3.10.12"
  },
  "orig_nbformat": 4
 },
 "nbformat": 4,
 "nbformat_minor": 2
}
