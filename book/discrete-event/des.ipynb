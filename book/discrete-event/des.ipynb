{
 "cells": [
  {
   "cell_type": "markdown",
   "metadata": {},
   "source": [
    "# Дискретно-событийное моделирование\n",
    "\n",
    "_Дискретно-событийное моделирование (ДСМ)_ - это разновидность имитационного моделирования.\n",
    "Рассмотрим, как устроено ДСМ с использованием Python в контексте библиотеки [SimPy](https://simpy.readthedocs.io/en/latest/index.html), функциональности которой достаточно для создания сложных многоуровневых имитационных моделей со множеством агентов.\n",
    "\n",
    "Начнём с рассмотрения основ SimPy.\n",
    "Затем рассмотрим простую и показательную задачку о движении материальной точки (шарика) в ограниченном двумерном пространстве (ящике, коробке).\n",
    "Затем подробнее рассмотрим некоторые примеры из документации SimPy."
   ]
  },
  {
   "cell_type": "markdown",
   "metadata": {},
   "source": [
    "(basic_simpy)=\n",
    "## Основы SimPy\n",
    "\n",
    "Для начала импортируем библиотеку:"
   ]
  },
  {
   "cell_type": "code",
   "execution_count": 120,
   "metadata": {},
   "outputs": [],
   "source": [
    "import simpy as sim"
   ]
  },
  {
   "cell_type": "markdown",
   "metadata": {},
   "source": [
    "Подход ДСМ основан на понятии \"_событие_\".\n",
    "При наступлении события должны быть выполнены те или иные _действия_, которые определяются создателями модели (нами).\n",
    "Это так называемая модель \"_событие - действие_\".\n",
    "Чтобы её прояснить рассмотрим такой пример.\n",
    "\n",
    "Пусть в некоторой нашей имитационной модели $n$ событий следуют друг за другом через случайный промежуток времени $\\tau$. Пусть величина $\\tau$ распределена по экспоненциальному закону с плотностью вероятности\n",
    "\n",
    "$$\n",
    "\\rho(\\tau) =\n",
    "    \\cfrac{1}{\\tau_{\\rm mean}}\n",
    "    \\exp{\\left( -\\cfrac{\\tau}{\\tau_{\\rm mean}} \\right)},\n",
    "$$\n",
    "\n",
    "где $\\tau_{\\rm mean}$ - средняя величина времени между событиями.\n",
    "\n",
    "Тогда в коде это выражается следующим образом:"
   ]
  },
  {
   "cell_type": "code",
   "execution_count": 121,
   "metadata": {},
   "outputs": [
    {
     "name": "stdout",
     "output_type": "stream",
     "text": [
      "Событие 1 наступило в 0.9366925032480682\n",
      "Событие 2 наступило в 7.582409661592764\n",
      "Событие 3 наступило в 7.757931973981688\n",
      "Событие 4 наступило в 8.226352505480024\n",
      "Событие 5 наступило в 10.084292174730727\n"
     ]
    }
   ],
   "source": [
    "from numpy.random import default_rng\n",
    "\n",
    "def exp_time(env, tau_mean, n, seed=None):\n",
    "    \"\"\"Генерирует события через случайные\n",
    "    промежутки времени.\n",
    "\n",
    "    env - объект среды SimPy.\n",
    "    tau_mean - среднее время между событиями.\n",
    "    n - количество событий.\n",
    "    seed - затравка для генератора случайных чисел.\n",
    "    \"\"\"\n",
    "    rg = default_rng(seed)\n",
    "    for i in range(n):\n",
    "        tau = rg.exponential(tau_mean)\n",
    "        yield env.timeout(tau)\n",
    "        print(f\"Событие {i+1} наступило в {env.now}\")\n",
    "\n",
    "env = sim.Environment()\n",
    "events_gen = exp_time(env, tau_mean=3., n=5)\n",
    "env.process(events_gen)\n",
    "env.run()"
   ]
  },
  {
   "cell_type": "markdown",
   "metadata": {},
   "source": [
    "Что сделано:\n",
    "\n",
    "1. Для генерации случайных чисел импортировали функцию инициализации генератора по умолчанию.\n",
    "2. Описали генераторную функцию (см. раздел {ref}`about_generators`) `exp_time`.\n",
    "3. Инициализировали среду SimPy `sim.Environment` и сохранили в переменной `env`.\n",
    "   Именно в этот момент SimPy создаёт журнал событий, список процессов и т.д.\n",
    "4. Инициализировали, но не запустили (!), процесс методом `env.process`, передав ему _генератор событий_.\n",
    "5. Запустили ДСМ методом `env.run`.\n",
    "\n",
    "В генераторной функции `exp_time` при её вызове:\n",
    "\n",
    "1. Инициализируется генератор случайных чисел.\n",
    "2. Поток выполнения программы входит в цикл `for` по числу событий `n`.\n",
    "3. Генерируется величина $\\tau$.\n",
    "4. Оператор `yield` возвращает генератор событий типа `sim.Timeout`.\n",
    "   Поток выполнения возвращается в место вызова `exp_time`, в данном случае в строку `events_gen = ...`.\n",
    "\n",
    "При вызове функции `exp_time` создаётся генератор событий, сохраняемый в переменной `events_gen`.\n",
    "Далее `events_gen` передаётся в качестве аргумента методу `env.process`, регистрирующему SimPy-процесс.\n",
    "С этого момента `env` \"знает\" о существовании этого процесса.\n",
    "При вызове метода `env.run` SimPy \"под капотом\" запускает свой _основной цикл или цикл обновления_.\n",
    "Последовательность этого цикла в общих чертах следующая:\n",
    "\n",
    "1. Обходится список зарегистрированных генераторов событий - в нашем случае генератор всего один (результат вызова `exp_time`) и зарегистрирован он при вызове `env.process`.\n",
    "   С каждым таким генератором ассоциировано событие, время наступления которого в нашем случае известно, но в общем случае может быть и неизвестным (см. пример в {ref}`event_waiting`). В нашем случае событием является истечение времени ожидания `env.timeout`.\n",
    "2. Выбирается генератор с ближайшим событием (у нас он всего один).\n",
    "   При этом обновляется счётчик глобального времени `env.now` и выполняется ряд других действий \"под капотом\".\n",
    "   К этому генератору применяется функция `next` - **это и означает наступление события**.\n",
    "3. Поток управления входит в генераторную функцию (`exp_time`) - выполняется код, расположенный под `yield`, пока не будет достигнут очередной оператор `yield` или функция `exp_time` не завершится.\n",
    "   **Это соответствует выполнению действий в ответ на событие**.\n",
    "4. Цикл повторяется.\n",
    "\n",
    "Никакой магии, никаких особенностей - чистый Python.\n",
    "Таким образом SimPy реализует концепцию ДСМ \"событие - действие\".\n",
    "Далее рассмотрим более показательную задачу."
   ]
  },
  {
   "cell_type": "markdown",
   "metadata": {},
   "source": [
    "## Шарик в коробке\n",
    "\n",
    "Представьте прямоугольную коробку, внутри которой от стенки к стенке движется шарик.\n",
    "Когда он достигает границы области, то упруго от неё отскакивает.\n",
    "Пусть пространство будет ограничено прямоугольником шириной $w$ и высотой $h$.\n",
    "Шарик в начальный момент времени $t_0 = 0$ находится в случайной точке $(x_0, y_0)$ внутри прямоугольника и имеет случайную скорость $(v_x, v_y)$ постоянную по величине: $v = \\sqrt{v_x^2 + v_y^2} = \\mathrm{const}$.\n",
    "\n",
    "При абсолютно упругом ударе о вертикальные стенки отражается _x_-составляющая скорости $v_x' = -v_x$, при ударе о горизонтальные - _y_-составляющая: $v_y' = -v_y$.\n",
    "\n",
    "Мы хотим промоделировать движение шарика в коробке в течение заданного времени $T$.\n",
    "Как это сделать?"
   ]
  },
  {
   "cell_type": "markdown",
   "metadata": {},
   "source": [
    "Одно из решений, часто первым приходящим на ум, заключается в задании некоторого **постоянного** _малого_ шага по времени $\\Delta t$.\n",
    "Однако сразу возникает два вопроса:\n",
    "\n",
    "1. Как определить, какой шаг является _малым_, а какой - _большим_?\n",
    "2. Постоянная величина шага $\\Delta t$ приводит к проблеме _пересечения границ_, т.е. тело выходит за границы расчётной области и на деле ударяется не о стенку коробки, а о _что-то_, расположенное вне её.\n",
    "   Это кардинально меняет траекторию тела, по сути нарушая условия задачи.\n",
    "\n",
    "Шаг по времени в данной задаче зависит от размеров прямоугольника и скорости тела.\n",
    "Чем меньше область и больше скорость, тем меньше должен быть шаг $\\Delta t$.\n",
    "Скажем, при скорости 1 м/с и шаге по времени 0.1 с шарик выйдет за границу не более, чем на $1 \\cdot 0.5 = 0.1$ м.\n",
    "Если размеры прямоугольника составляют десятки и более метров, то погрешность в 0.1 м не велика.\n",
    "Однако тогда понадобится очень большое число промежуточных шагов, при которых никаких _событий_ (столкновений) в системе не происходит.\n",
    "**Компьютер тратит время впустую** (и мы вместе с ним).\n",
    "Более того, _методическая ошибка_ в расчёте столкновений всё же присутствует, сколь малой бы она ни была.\n",
    "Если за время моделирования шарик столкнётся со стенками 10 раз - мы получим одну величину ошибки $\\varepsilon_1$ в определении конечного положения тела.\n",
    "Если же столкновений будет 100000, то ошибка $\\varepsilon_2$ конечного положения будет много больше ошибки $\\varepsilon_1$.\n",
    "Следовательно, при итеративном подходе методическая **ошибка расчёта накапливается**.\n",
    "Ошибка накапливается также ввиду конечной точности представления вещественных чисел в компьютере.\n",
    "\n",
    "Рассмотренный подход называется _итеративным_.\n",
    "Каждая итерация представляет из себя следующую последовательность действий:\n",
    "\n",
    "1. $x_{i+1} = x_i + v_{x\\, i+1} \\Delta t_i$.\n",
    "2. $y_{i+1} = y_i + v_{y\\, i+1} \\Delta t_i$.\n",
    "3. $t_{i+1} = t_i + \\Delta t_i$.\n",
    "4. Проверка пересечения границ.\n",
    "   Если границы пересечены, то меняется знак соответствующей проекции скорости.\n",
    "   Например, при столкновении с правой или левой стенкой $v_{x\\, i+1} = -v_{xi}$.\n",
    "   Если столкновения нет, то проекции не изменяются: $v_{x\\, i+1} = v_{xi}$ и $v_{y\\, i+1} = v_{yi}$.\n",
    "5. Итерации повторяются, пока $t_i < T$.\n",
    "\n",
    "Проверка пересечения границ заключается в проверке условий\n",
    "$x \\notin (x_\\mathrm{lb}; x_\\mathrm{rb})$ и\n",
    "$y \\notin (y_\\mathrm{bb}; y_\\mathrm{tb})$,\n",
    "где\n",
    "$x_\\mathrm{lb}$ и $x_\\mathrm{rb}$ - прямые левой и правой границ соответственно;\n",
    "$y_\\mathrm{bb}$ и $y_\\mathrm{tb}$ - прямые нижней и верхней границ соответственно."
   ]
  },
  {
   "cell_type": "markdown",
   "metadata": {},
   "source": [
    "Если не спешить и обдумать задачу более основательно, то можно заметить, что по известной и постоянной скорости, начальному положению тела и при известных размерах пространства несложно _рассчитать_ промежуток времени $\\Delta t_i$, через который тело столкнётся с одной из границ.\n",
    "Действительно, если в момент времени $t_i$ проекции скорости тела $v_{xi} > 0$ и $v_{yi} > 0$, то шарик движется в направлении вправо вверх.\n",
    "Остаётся определить, какая из двух границ - правая или верхняя - будет достигнута быстрее.\n",
    "Если координата последнего столкновения шарика в момент времени $t_i$ есть $(x_i, y_i)$, то с правой границей он столкнётся через время $\\Delta t_{\\mathrm{rb} i} = (x_\\mathrm{rb} - x_i) / v_{xi}$, а с верхней - через $\\Delta t_{\\mathrm{tb} i} = (y_\\mathrm{tb} - y_i) / v_{yi}$.\n",
    "И тогда $t_{i+1} = t_i + \\min(\\Delta t_{\\mathrm{rb} i}, \\Delta t_{\\mathrm{tb} i})$.\n",
    "Аналогично рассчитывается время столкновения с любой границей в зависимости от комбинации знаков проекций скорости тела.\n",
    "\n",
    "```{note}\n",
    "Если какая-либо из проекций равна нулю, то достаточно рассмотреть лишь одну границу, в направлении которой движется тело.\n",
    "```\n",
    "\n",
    "Таким образом, мы можем рассчитать момент времени $t_{i+1}$ наступления следующего ($(i+1)$-го) _события_ \"столкновение со стенкой\".\n",
    "Зная $\\Delta t_i$ и закон движения тела, мы можем **точно рассчитать** точку столкновения с границей: $x_{i+1} = x_i + v_{xi} \\Delta t_i$ и $y_{i+1} = y_i + v_{yi}\\Delta t_i$, после чего изменить знак соответствующей проекции скорости: либо $v_{x\\, i+1} = -v_{xi}$, либо $v_{y\\, i+1} = -v_{yi}$.\n",
    "После этого рассчитывается время до следующего столкновения и т.д.\n",
    "\n",
    "При этом нам не нужно:\n",
    "\n",
    "* думать о выборе шага по времени - в реальных задачах от времени может зависеть большое число параметров, вследствие чего крайне затруднительно выбрать постоянный шаг по времени;\n",
    "* впустую тратить расчётное время компьютера - он обсчитает лишь моменты, в которых меняется _состояние системы_ (в данном случае, когда при столкновении меняется знак у одной из проекций скорости);\n",
    "* знать сколько раз за время моделирования $T$ шарик столкнётся со стенками.\n",
    "\n",
    "При применении ДСМ методическая расчётная ошибка равна нулю и не накапливается.\n",
    "Получается траектория движения шарика, точно совпадающая с теоретической.\n",
    "\n",
    "```{important}\n",
    "Состояние системы изменяется при наступлении какого-либо события.\n",
    "Между событиями состояние остаётся постоянным.\n",
    "Это одно из основных положений ДСМ.\n",
    "```"
   ]
  },
  {
   "cell_type": "markdown",
   "metadata": {},
   "source": [
    "Для сравнения результатов реализуем и итеративный, и дискретно-событийный подходы."
   ]
  },
  {
   "cell_type": "markdown",
   "metadata": {},
   "source": [
    "### Итеративный подход\n",
    "\n",
    "Напишем функцию итеративного решения задачи о шарике в коробке.\n",
    "Назовём её `iterative_solver`.\n",
    "Чтобы было легче воспринимать код, распределим его на функции."
   ]
  },
  {
   "cell_type": "code",
   "execution_count": 122,
   "metadata": {},
   "outputs": [],
   "source": [
    "import numpy as np\n",
    "\n",
    "\n",
    "def iterative_solver(bounds, xy, v_xy, t_until, t_step):\n",
    "    \"\"\"Итеративный решатель задачи о шарике в коробке.\n",
    "    \n",
    "    * `bounds` - кортеж из 4 чисел, описывающих соответственно\n",
    "      левую, правую, нижнюю и верхнюю границы прямоугольной области.\n",
    "    * `xy` - начальная координата шара `(x, y)`.\n",
    "    * `v_xy` - кортеж `(v_x, v_y)` со значениями проекций вектора\n",
    "       начальной скорости точки.\n",
    "    * `t_until` - время моделирования.\n",
    "    * `t_step` - постоянный шаг по времени.\n",
    "    \"\"\"\n",
    "    # Распакуем аргументы-кортежи в соответствующие переменные\n",
    "    x, y = xy\n",
    "    v_x, v_y = v_xy\n",
    "    # Инициализируем \"часы\"\n",
    "    t = 0\n",
    "    # и массив траекторных точек\n",
    "    # (именно эти три переменные формируют траекторию)\n",
    "    traj = [(t, x, y)]\n",
    "    # Выполняем итерации:\n",
    "    while t <= t_until:\n",
    "        # 1. Обновляем координаты и время\n",
    "        x += v_x * t_step\n",
    "        y += v_y * t_step\n",
    "        t += t_step\n",
    "        # 2. Проверяем условие столкновения\n",
    "        flag, (sv_x, sv_y) = collision(bounds, (x, y))\n",
    "        # 3. Инвертируем проекции скорости\n",
    "        #    (если было столкновение)\n",
    "        if flag:\n",
    "            # Чтобы не расходавать память\n",
    "            # на точки между столкновениями,\n",
    "            # будем запоминать только точки столкновений\n",
    "            traj.append((t, x, y))\n",
    "            # Инвертируем проекции скорости\n",
    "            v_x *= sv_x\n",
    "            v_y *= sv_y\n",
    "    # В завершение добавим последнюю точку траектории\n",
    "    traj.append((t, x, y))\n",
    "    # Возвращаем полученную траектории как массив NumPy\n",
    "    return np.array(traj)\n",
    "\n",
    "\n",
    "def collision(bounds, xy):\n",
    "    \"\"\"Условие столкновения шара с границами коробки.\n",
    "\n",
    "    * `bounds` - кортеж четырёх элементов,\n",
    "      хранящий координаты левой, правой, нижней и верхней границ\n",
    "      прямоугольной области.\n",
    "    * `xy` - текущая координата `(x, y)` шара.\n",
    "    \n",
    "    Возвращает кортеж из двух единичных значений, определяющих,\n",
    "    нужно ли инвертировать соответствующую проекцию скорости.\n",
    "    \"\"\"\n",
    "    x_lb, x_rb, y_bb, y_tb = bounds\n",
    "    x, y = xy\n",
    "    # Знак элемента signs показывает, нужно ли инвертировать\n",
    "    # соответствующую проекцию скорости\n",
    "    signs = [1, 1]\n",
    "    # Флаг, показывающий было ли столкновение\n",
    "    flag = False\n",
    "    if not x_lb < x < x_rb:\n",
    "        # Столкновение с одной из вертикальных стен,\n",
    "        # значит, нужно инвертировать v_x\n",
    "        signs[0] = -1\n",
    "        flag = True\n",
    "    if not y_bb < y < y_tb:\n",
    "        # Столкновение с одной из горизонтальных стен,\n",
    "        # значит, нужно инвертировать v_y\n",
    "        signs[1] = -1\n",
    "        flag = True\n",
    "    return flag, signs"
   ]
  },
  {
   "cell_type": "markdown",
   "metadata": {},
   "source": [
    "Функция `collision` проверяет условия столкновения, которые, напомним, имеют следующий вид:\n",
    "\n",
    "$$\n",
    "x_i \\notin (x_\\mathrm{lb}; x_\\mathrm{rb}), \\quad\n",
    "y_i \\notin (y_\\mathrm{bb}; y_\\mathrm{tb}).\n",
    "$$\n",
    "\n",
    "```{warning}\n",
    "Функция `collision` имеет один эффект, влияющий на траекторию шара, который мы не предусмотрели.\n",
    "Получится ли у вас его определить?\n",
    "```"
   ]
  },
  {
   "cell_type": "markdown",
   "metadata": {},
   "source": [
    "Опишем удобную для многоразового использования функцию визуализации траектории `plot_traj`:"
   ]
  },
  {
   "cell_type": "code",
   "execution_count": 123,
   "metadata": {},
   "outputs": [],
   "source": [
    "import matplotlib.pyplot as plt\n",
    "\n",
    "\n",
    "def plot_traj(traj, figax=None, **kw):\n",
    "    \"\"\"Строит траекторию тела.\n",
    "    \n",
    "    * `traj` - прямоугольная матрица, каждая строка\n",
    "      которой соответствует точке траектории. Точка траектории\n",
    "      описывается тремя величинами: временем столкновения\n",
    "      и x- и y-координатой точки в этот момент.\n",
    "    * `figax` - кортеж двух элементов: рисунка и оси графика.\n",
    "    \"\"\"\n",
    "    if figax is None:\n",
    "        fig, ax = plt.subplots()\n",
    "    else:\n",
    "        fig, ax = figax\n",
    "    # Линии траектории\n",
    "    ax.plot(traj[:, 1], traj[:, 2], **kw)\n",
    "    # Начальная и конечная точки\n",
    "    ax.plot(traj[0, 1], traj[0, 2],\n",
    "            ls=\"\", marker=\"o\", c=\"purple\")\n",
    "    ax.plot(traj[-1, 1], traj[-1, 2],\n",
    "            ls=\"\", marker=\"x\", c=\"purple\")\n",
    "    return fig, ax"
   ]
  },
  {
   "cell_type": "markdown",
   "metadata": {},
   "source": [
    "Посмотрим, что получилось.\n",
    "Пусть условия задачи таковы (единицы измерения нас не интересуют):\n",
    "\n",
    "* $x_\\mathrm{lb} = 0$, $x_\\mathrm{rb} = 1$, $y_\\mathrm{bb} = 0$ и $y_\\mathrm{tb} = 1$;\n",
    "* $x_0 = 2/3$ и $y_0 = 1/3$;\n",
    "* $v_{x0} = 0.3$ и $v_{y0} = 0.1$;\n",
    "* шаг по времени $\\Delta t = 0.5$;\n",
    "* время моделирования $T = 60$."
   ]
  },
  {
   "cell_type": "code",
   "execution_count": 124,
   "metadata": {},
   "outputs": [],
   "source": [
    "# Условия задачи\n",
    "bounds = 0, 1, 0, 1\n",
    "xy = 0.67, 0.33\n",
    "v = 0.3, 0.1\n",
    "dt = 0.5\n",
    "t_until = 60"
   ]
  },
  {
   "cell_type": "markdown",
   "metadata": {},
   "source": [
    "Моделируем и строим траекторию:"
   ]
  },
  {
   "cell_type": "code",
   "execution_count": 125,
   "metadata": {},
   "outputs": [
    {
     "data": {
      "image/png": "[encoded data removed]",
      "text/plain": [
       "<Figure size 640x480 with 1 Axes>"
      ]
     },
     "metadata": {},
     "output_type": "display_data"
    }
   ],
   "source": [
    "traj = iterative_solver(bounds, xy, v, t_until, dt)\n",
    "_, ax = plot_traj(traj)\n",
    "ax.axvline(bounds[0], color=\"k\")\n",
    "ax.axvline(bounds[1], color=\"k\")\n",
    "ax.axhline(bounds[2], color=\"k\")\n",
    "ax.axhline(bounds[3], color=\"k\")\n",
    "ax.set(xlabel=\"$x$, м\", ylabel=\"$y$, м\", aspect=\"equal\");"
   ]
  },
  {
   "cell_type": "markdown",
   "metadata": {},
   "source": [
    "Число столкновений:"
   ]
  },
  {
   "cell_type": "code",
   "execution_count": 126,
   "metadata": {},
   "outputs": [
    {
     "name": "stdout",
     "output_type": "stream",
     "text": [
      "Число столкновений: 21\n"
     ]
    }
   ],
   "source": [
    "print(\"Число столкновений:\", traj.shape[0] - 1)\n",
    "# Не учитывая последнюю (свободную) точку"
   ]
  },
  {
   "cell_type": "markdown",
   "metadata": {},
   "source": [
    "```{note}\n",
    "Кстати, о непредусмотренном эффекте функции `collision`.\n",
    "Этот эффект виден на получившемся графике.\n",
    "Постарайтесь его найти и объяснить.\n",
    "```"
   ]
  },
  {
   "cell_type": "markdown",
   "metadata": {},
   "source": [
    "Если уменьшить шаг по времени в 5 раз, то получим следующую картину:"
   ]
  },
  {
   "cell_type": "code",
   "execution_count": 127,
   "metadata": {},
   "outputs": [
    {
     "data": {
      "image/png": "[encoded data removed]",
      "text/plain": [
       "<Figure size 640x480 with 1 Axes>"
      ]
     },
     "metadata": {},
     "output_type": "display_data"
    }
   ],
   "source": [
    "traj_iterative = iterative_solver(\n",
    "    bounds, xy, v, t_until, t_step=dt/5\n",
    ")\n",
    "_, ax = plot_traj(traj_iterative)\n",
    "ax.axvline(bounds[0], color=\"k\")\n",
    "ax.axvline(bounds[1], color=\"k\")\n",
    "ax.axhline(bounds[2], color=\"k\")\n",
    "ax.axhline(bounds[3], color=\"k\")\n",
    "ax.set(xlabel=\"$x$\", ylabel=\"$y$\", aspect=\"equal\");"
   ]
  },
  {
   "cell_type": "code",
   "execution_count": 128,
   "metadata": {},
   "outputs": [
    {
     "name": "stdout",
     "output_type": "stream",
     "text": [
      "Число столкновений: 25\n"
     ]
    }
   ],
   "source": [
    "print(\"Число столкновений:\", traj_iterative.shape[0] - 1)"
   ]
  },
  {
   "cell_type": "markdown",
   "metadata": {},
   "source": [
    "Сравнив два рисунка, можно заметить, что хоть уменьшение шага и привело к более точной траектории тела, но пересечение границ всё равно присутствует.\n",
    "Также при различном временном шаге получены разные значения числа столкновений: 21 и 25 соответственно.\n",
    "\n",
    "```{note}\n",
    "Заметьте, что столкновение с горизонтальными границами происходит _почти_ на них.\n",
    "На самом деле при данном масштабе не видно, что выход за границу по вертикальной оси составляет 0.03 м.\n",
    "Можно и так подобрать параметры задачи (шаг по времени, скорость и начальную координату шара), что столкновение будет происходить точно на границах.\n",
    "Но это будет либо совпадением, либо подгонкой параметров, которую бывает невозможно произвести в сложных задачах.\n",
    "```\n",
    "\n",
    "Настало время решить эту задачу правильно."
   ]
  },
  {
   "cell_type": "markdown",
   "metadata": {},
   "source": [
    "### Дискретно-событийный подход\n",
    "\n",
    "Как отмечено выше, при дискретно-событийном подходе мы должны рассчитать момент наступления события."
   ]
  },
  {
   "cell_type": "code",
   "execution_count": 129,
   "metadata": {},
   "outputs": [],
   "source": [
    "def de_solver(bounds, xy, v_xy, t_until):\n",
    "    \"\"\"Решатель, рализующий подход ДСМ.\n",
    "    \n",
    "    * `bounds` - кортеж из 4 чисел, описывающих соответственно\n",
    "      левую, правую, нижнюю и верхнюю границы прямоугольной области.\n",
    "    * `xy` - начальная координата шара `(x, y)`.\n",
    "    * `v_xy` - кортеж `(v_x, v_y)` со значениями проекций вектора\n",
    "       начальной скорости точки.\n",
    "    * `t_until` - время моделирования.\n",
    "    \"\"\"\n",
    "    # Для удобства расчётов сделаем NumPy-массивы\n",
    "    xy, v_xy = np.array(xy), np.array(v_xy)\n",
    "    # Инициализируем SimPy-среду.\n",
    "    env = sim.Environment()\n",
    "    # Сохраним начальную точку траектории\n",
    "    traj = [(env.now, *xy)]\n",
    "    # Регистируем процесс motion\n",
    "    env.process(motion(env, bounds, xy, v_xy, traj))\n",
    "    # Запускаем моделирование в течение заданного времени\n",
    "    env.run(until=t_until)\n",
    "    # Сохраним точку траектории в конце моделирования\n",
    "    xy += v_xy * (t_until - traj[-1][0])\n",
    "    traj.append((env.now, *xy))\n",
    "    # Возвращаем траекторию в виде NumPy-массива\n",
    "    return np.array(traj)\n",
    "\n",
    "\n",
    "def motion(env, bounds, xy, v_xy, traj):\n",
    "    \"\"\"Генераторная функция для событий столкновения с границами.\n",
    "    \n",
    "    * `env` - объект среды SimPy.\n",
    "    * `bounds` - кортеж из 4 чисел, описывающих соответственно\n",
    "      левую, правую, нижнюю и верхнюю границы прямоугольной области.\n",
    "    * `xy` - координата последнего столкновения тела.\n",
    "    * `v_xy` - скорость тела после последнего столкновения.\n",
    "    * `traj` - прямоугольная матрица, каждая строка\n",
    "      которой соответствует точке траектории. Точка траектории\n",
    "      описывается тремя величинами: временем столкновения\n",
    "      и x- и y-координатой точки в этот момент.\n",
    "    \"\"\"\n",
    "    while True:\n",
    "        dt, signs = calc_delay(bounds, v_xy, xy)\n",
    "        yield env.timeout(dt)\n",
    "        xy += v_xy * dt\n",
    "        traj.append((env.now, *xy))\n",
    "        v_xy *= signs\n",
    "\n",
    "\n",
    "def calc_delay(bounds, v_xy, xy):\n",
    "    \"\"\"Рассчитать величину времени, через которое наступит\n",
    "    следующее событие, по заданным границам `bounds`,\n",
    "    скорости шара `v_xy` и координате его последнего\n",
    "    столкновения `xy`.\"\"\"\n",
    "    # Распакуем аргументы для удобства\n",
    "    x_lb, x_rb, y_bb, y_tb = bounds\n",
    "    x, y = xy\n",
    "    vx, vy = v_xy\n",
    "    # Вычисляем время (задержку):\n",
    "    dtx, dty = 0., 0.\n",
    "    # - в направлении оси Ox\n",
    "    if vx > 0:\n",
    "        dtx = (x_rb - x) / vx\n",
    "    elif vx < 0:\n",
    "        dtx = (x_lb - x) / vx\n",
    "    # - в направление оси Oy\n",
    "    if vy > 0:\n",
    "        dty = (y_tb - y) / vy\n",
    "    elif vy < 0:\n",
    "        dty = (y_bb - y) / vy\n",
    "    # Определяем, какую проекцию скорости инвертировать\n",
    "    signs = [1, 1]\n",
    "    signs[np.argmin((dtx, dty))] = -1\n",
    "    return min(dtx, dty), signs"
   ]
  },
  {
   "cell_type": "markdown",
   "metadata": {},
   "source": [
    "Сформированная программа с точки зрения ДСМ ничем не отличается от программы в примере из раздела {ref}`basic_simpy`.\n",
    "Разница лишь в том, что в данном случае время между событиями мы рассчитываем (в функции `calc_delay`), а не генерируем как случайное число.\n",
    "\n",
    "Промоделируем при тех же условиях:"
   ]
  },
  {
   "cell_type": "code",
   "execution_count": 130,
   "metadata": {},
   "outputs": [
    {
     "name": "stdout",
     "output_type": "stream",
     "text": [
      "Число столкновений: 25\n"
     ]
    },
    {
     "data": {
      "image/png": "[encoded data removed]",
      "text/plain": [
       "<Figure size 640x480 with 1 Axes>"
      ]
     },
     "metadata": {},
     "output_type": "display_data"
    }
   ],
   "source": [
    "# Заметьте, мы уже не задаём шаг по времени\n",
    "traj_des = de_solver(bounds, xy, v, t_until)\n",
    "_, ax = plot_traj(traj_des)\n",
    "ax.axvline(bounds[0], color=\"k\")\n",
    "ax.axvline(bounds[1], color=\"k\")\n",
    "ax.axhline(bounds[2], color=\"k\")\n",
    "ax.axhline(bounds[3], color=\"k\")\n",
    "ax.set(xlabel=\"$x$\", ylabel=\"$y$\", aspect=\"equal\");\n",
    "print(\"Число столкновений:\", traj_des.shape[0] - 1)"
   ]
  },
  {
   "cell_type": "markdown",
   "metadata": {},
   "source": [
    "Получили точное решение, которое заметно отличается от всех решений, полученных ранее - шарик оказался в том же самом месте, из которого начал своё движение."
   ]
  },
  {
   "cell_type": "markdown",
   "metadata": {},
   "source": [
    "Итак, приведём полученные результаты на одном графике:"
   ]
  },
  {
   "cell_type": "code",
   "execution_count": 131,
   "metadata": {},
   "outputs": [
    {
     "data": {
      "image/png": "[encoded data removed]",
      "text/plain": [
       "<Figure size 640x480 with 1 Axes>"
      ]
     },
     "metadata": {},
     "output_type": "display_data"
    }
   ],
   "source": [
    "fig, ax = plot_traj(traj_iterative, label=\"Итеративный метод\")\n",
    "plot_traj(traj_des, (fig, ax), label=\"ДСМ\")\n",
    "ax.legend(loc=\"upper right\")\n",
    "\n",
    "ax.axvline(bounds[0], color=\"k\")\n",
    "ax.axvline(bounds[1], color=\"k\")\n",
    "ax.axhline(bounds[2], color=\"k\")\n",
    "ax.axhline(bounds[3], color=\"k\")\n",
    "ax.set(xlabel=\"$x$\", ylabel=\"$y$\", aspect=\"equal\");"
   ]
  },
  {
   "cell_type": "markdown",
   "metadata": {},
   "source": [
    "Из полученного графика также отчётливо видно, как по мере увеличения числа событий, увеличивается ошибка итеративного метода.\n",
    "С течением времени полученная с его помощью траектория всё сильнее и сильнее отклоняется от теоретической (оранжевой).\n",
    "В данном случае относительная ошибка в определении конечного положения составляет примерно 40% (!).\n",
    "\n",
    "Изменим начальные условия и посмотрим на результат:"
   ]
  },
  {
   "cell_type": "code",
   "execution_count": 132,
   "metadata": {},
   "outputs": [
    {
     "name": "stdout",
     "output_type": "stream",
     "text": [
      "Число столкновений: 11\n"
     ]
    },
    {
     "data": {
      "image/png": "[encoded data removed]",
      "text/plain": [
       "<Figure size 640x480 with 1 Axes>"
      ]
     },
     "metadata": {},
     "output_type": "display_data"
    }
   ],
   "source": [
    "# Немного другие условия задачи\n",
    "bounds = 0, 2, 0, 1\n",
    "xy = 0.6, 0.2\n",
    "v = 0.3, -0.1\n",
    "t_until = 40    # ...равно периоду движения\n",
    "\n",
    "traj = de_solver(bounds, xy, v, t_until)\n",
    "\n",
    "# Показываем\n",
    "_, ax = plot_traj(traj)\n",
    "ax.axvline(bounds[0], color=\"k\")\n",
    "ax.axvline(bounds[1], color=\"k\")\n",
    "ax.axhline(bounds[2], color=\"k\")\n",
    "ax.axhline(bounds[3], color=\"k\")\n",
    "ax.set(xlabel=\"$x$\", ylabel=\"$y$\", aspect=\"equal\");\n",
    "print(\"Число столкновений:\", traj.shape[0] - 1)"
   ]
  },
  {
   "cell_type": "markdown",
   "metadata": {},
   "source": [
    "```{note}\n",
    "Интересно подумать, почему получается периодическое движение и как рассчитать его период?\n",
    "```\n",
    "\n",
    "Для дальнейшего изучения SimPy достаточно отличной [официальной документации](https://simpy.readthedocs.io/en/latest/index.html) с [примерами](https://simpy.readthedocs.io/en/latest/examples/index.html)"
   ]
  },
  {
   "cell_type": "markdown",
   "metadata": {},
   "source": [
    "## Примеры использования SimPy\n",
    "\n",
    "В данном разделе рассмотрены некоторые [примеры](https://simpy.readthedocs.io/en/latest/examples/index.html) из официальной документации SimPy с целью чуть лучше раскрыть принципы работы с данной библиотекой.\n",
    "\n",
    "Прежде необходимо подключить SimPy:\n",
    "\n",
    "```{code}\n",
    "import simpy as sim\n",
    "```"
   ]
  },
  {
   "cell_type": "markdown",
   "metadata": {},
   "source": [
    "### Разочарование клиента в банке\n",
    "\n",
    "Данный [пример](https://simpy.readthedocs.io/en/latest/examples/bank_renege.html) раскрывает такие возможности SimPy, как _ресурсы_ и _условные события_.\n",
    "\n",
    "Задача следующая.\n",
    "Есть банк, в который приходят клиенты.\n",
    "У банка есть несколько окон для обслуживания клиентов.\n",
    "Поток клиентов случаен.\n",
    "Каждый клиент имеет определённое терпение, которое может закончиться, и клиент в результате просто уйдёт из банка.\n",
    "Если же его очередь подойдёт быстрее, чем закончится терпение, то он подойдёт к окну и займёт его на некоторое время.\n",
    "Остальные клиенты всё так же продолжат ждать своей очереди, насколько хватит терпения.\n",
    "\n",
    "Нам точно понадобится рандом:"
   ]
  },
  {
   "cell_type": "code",
   "execution_count": 133,
   "metadata": {},
   "outputs": [],
   "source": [
    "import random as rand"
   ]
  },
  {
   "cell_type": "markdown",
   "metadata": {},
   "source": [
    "Также задаём основные параметры модели:"
   ]
  },
  {
   "cell_type": "code",
   "execution_count": 134,
   "metadata": {},
   "outputs": [],
   "source": [
    "RANDOM_SEED = 42\n",
    "NEW_CUSTOMERS = 5  # Общее число посетителей\n",
    "INTERVAL_CUSTOMERS = 10.0  # Среднее время появления нового посетителя\n",
    "MIN_PATIENCE = 1  # Минимальное\n",
    "MAX_PATIENCE = 3  # и максимальное время ожидания клиента"
   ]
  },
  {
   "cell_type": "markdown",
   "metadata": {},
   "source": [
    "Определим клиента как _функцию-процесс_ (в терминах SimPy) `customer`.\n",
    "По сути своей, это обычная генераторная функция."
   ]
  },
  {
   "cell_type": "code",
   "execution_count": 135,
   "metadata": {},
   "outputs": [],
   "source": [
    "def customer(env, name, counter, time_in_bank):\n",
    "    \"\"\"Посетитель приходит, обслуживается и уходит.\"\"\"\n",
    "    arrive = env.now\n",
    "    print(f\"{arrive:7.4f} {name}: Я пришёл!\")\n",
    "    # Клиент \"запрашивает\" обслуживание, т.е. ресурс в терминах SimPy.\n",
    "    # counter - это сотрудник банка (окно обслуживания).\n",
    "    with counter.request() as req:\n",
    "        # Каково же терпение!\n",
    "        patience = rand.uniform(MIN_PATIENCE, MAX_PATIENCE)\n",
    "        # Ожидание своей очереди, пока хватает терпения.\n",
    "        # Это и есть условное событие: либо пришла очередь,\n",
    "        # либо кончилось терпение. Оператор ИЛИ в yield-выражении\n",
    "        # обозначается вертикальной чертой \"|\", как побитовое ИЛИ.\n",
    "        results = yield req | env.timeout(patience)\n",
    "        # Отмечаем, сколько клиент прождал\n",
    "        wait = env.now - arrive\n",
    "        # В results у нас список НАСТУПИВШИХ событий.\n",
    "        # В данном случае могло наступить всего одно событие:\n",
    "        # либо req, либо истекло время ожидания (timeout).\n",
    "        if req in results:\n",
    "            # Освободился ресурс (окно) - настала очередь клиента\n",
    "            print(f\"{env.now:7.4f} {name}: Прождал {wait:6.3f}\")\n",
    "            # Теперь клиент на случайное время занимает окно.\n",
    "            # Всё это время ресурс req занят и не доступен\n",
    "            # другим посетителям.\n",
    "            tib = rand.expovariate(1.0 / time_in_bank)\n",
    "            yield env.timeout(tib)\n",
    "            print(f\"{env.now:7.4f} {name}: Довольный ухожу\")\n",
    "        else:\n",
    "            # Кончилось терпение!\n",
    "            print(f\"{env.now:7.4f} {name}: УХОЖУ после ожидания {wait:6.3f}!\")"
   ]
  },
  {
   "cell_type": "markdown",
   "metadata": {},
   "source": [
    "Теперь опишем генераторную функцию, ответственную за возникновение новых посетителей.\n",
    "Назовём её `source`.\n",
    "Она будет _процессом_ в терминах SimPy."
   ]
  },
  {
   "cell_type": "code",
   "execution_count": 136,
   "metadata": {},
   "outputs": [],
   "source": [
    "def source(env, number, interval, counter):\n",
    "    \"\"\"Случайным образом генерирует посетителей.\"\"\"\n",
    "    for i in range(number):\n",
    "        c = customer(\n",
    "            env,\n",
    "            f\"Посетитель с талончиком {i+1}\",\n",
    "            counter,\n",
    "            time_in_bank=12.0\n",
    "        )\n",
    "        env.process(c)\n",
    "        # Через сколько этот клиент нагрянет в банк?\n",
    "        t = rand.expovariate(1.0 / interval)\n",
    "        # Генерируем событие \"Новый посетитель\"\n",
    "        yield env.timeout(t)"
   ]
  },
  {
   "cell_type": "markdown",
   "metadata": {},
   "source": [
    "Теперь можно и моделировать:"
   ]
  },
  {
   "cell_type": "code",
   "execution_count": 137,
   "metadata": {},
   "outputs": [
    {
     "name": "stdout",
     "output_type": "stream",
     "text": [
      "Банковская идилия\n",
      " 0.0000 Посетитель с талончиком 1: Я пришёл!\n",
      " 0.0000 Посетитель с талончиком 1: Прождал  0.000\n",
      " 3.8595 Посетитель с талончиком 1: Довольный ухожу\n",
      "10.2006 Посетитель с талончиком 2: Я пришёл!\n",
      "10.2006 Посетитель с талончиком 2: Прождал  0.000\n",
      "12.7265 Посетитель с талончиком 3: Я пришёл!\n",
      "13.9003 Посетитель с талончиком 3: УХОЖУ после ожидания  1.174!\n",
      "23.7507 Посетитель с талончиком 2: Довольный ухожу\n",
      "34.9993 Посетитель с талончиком 4: Я пришёл!\n",
      "34.9993 Посетитель с талончиком 4: Прождал  0.000\n",
      "37.9599 Посетитель с талончиком 4: Довольный ухожу\n",
      "40.4798 Посетитель с талончиком 5: Я пришёл!\n",
      "40.4798 Посетитель с талончиком 5: Прождал  0.000\n",
      "43.1401 Посетитель с талончиком 5: Довольный ухожу\n"
     ]
    }
   ],
   "source": [
    "# Настраиваем и запускаем симуляцию\n",
    "print(\"Банковская идилия\")\n",
    "rand.seed(RANDOM_SEED)\n",
    "env = sim.Environment()\n",
    "# Запускаем процессы и прогонку (run) модели.\n",
    "# - Окно обслуживания у нас всего одно и оно является ресурсом\n",
    "#   в терминах SimPy.\n",
    "counter = sim.Resource(env, capacity=1)\n",
    "# - Инициализируем процесс появления клиентов, который, в свою очередь,\n",
    "#   генерирует посетителя, запускает его как процесс, а потом ждёт,\n",
    "#   прежде чем сгенерировать нового клиента.\n",
    "env.process(source(env, NEW_CUSTOMERS, INTERVAL_CUSTOMERS, counter))\n",
    "# - Так как всего будет NEW_CUSTOMERS посетителей, то симуляция\n",
    "#   сама собой завершится, когда уйдёт последний клиент.\n",
    "#   Поэтому нет нужды указывать run время моделирования until.\n",
    "env.run()"
   ]
  },
  {
   "cell_type": "markdown",
   "metadata": {},
   "source": [
    "Вот и результат.\n",
    "Не повезло лишь третьему талончику...\n",
    "Ну и банку тоже! Вдруг именно этим клиентом был Илон Маск?\n",
    "\n",
    "```{note}\n",
    "Кстати, сравните полученный результат с результатом официального примера.\n",
    "Абсолютно точное совпадение!\n",
    "Всё из-за того, что использовалась одна и та же затравка `SEED` для генератора псевдослучайных чисел.\n",
    "Ну и сам генератор был тем же самым - из стандартной библиотеки random.\n",
    "```\n",
    "\n",
    "Как видите, довольно просто и быстро можно смоделировать вполне реальную задачу из [теории массового обслуживания](https://ru.wikipedia.org/wiki/Теория_массового_обслуживания).\n",
    "Ведь никто не мешает учесть здесь финансовую сторону вопроса и прийти к оптимизационной задачи по типу: \"Сколько нужно обслуживающих окон, чтобы минимизировать потерю клиентов, т.е. максимизировать прибыль?\n",
    "Сколько нужно окон утром во вторник и вечером пятницы?\n",
    "Как при этом минимизировать затраты на новых сотрудников, но не ухудшить обслуживание?\n",
    "Поставить автоматы самообслуживания?\n",
    "Сколько их нужно?\n",
    "Когда и сколько денег в них загружать?\"\n",
    "Ну вы поняли..."
   ]
  },
  {
   "cell_type": "markdown",
   "metadata": {},
   "source": [
    "```{important}\n",
    "Создаётся впечатление, будто процессы `source` и `customer` выполняются параллельно.\n",
    "На самом деле это _не совсем_ так.\n",
    "\n",
    "С точки зрения операционной системы _поток выполнения_ нашей программы один, т.е. программа не \"выполняется на нескольких ядрах\".\n",
    "Выражаясь технически, параллелизма _на аппаратном уровне_ здесь нет.\n",
    "Но есть параллелизм на уровне программы.\n",
    "\n",
    "У нас может быть **любое** количество запущенных процессов, но каждый процесс - это генератор.\n",
    "```"
   ]
  },
  {
   "cell_type": "markdown",
   "metadata": {},
   "source": [
    "(event_waiting)=\n",
    "### Ожидание события\n",
    "\n",
    "..."
   ]
  }
 ],
 "metadata": {
  "kernelspec": {
   "display_name": ".venv",
   "language": "python",
   "name": "python3"
  },
  "language_info": {
   "codemirror_mode": {
    "name": "ipython",
    "version": 3
   },
   "file_extension": ".py",
   "mimetype": "text/x-python",
   "name": "python",
   "nbconvert_exporter": "python",
   "pygments_lexer": "ipython3",
   "version": "3.10.12"
  },
  "orig_nbformat": 4
 },
 "nbformat": 4,
 "nbformat_minor": 2
}
