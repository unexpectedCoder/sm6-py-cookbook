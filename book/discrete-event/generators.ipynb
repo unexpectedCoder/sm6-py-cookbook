{
 "cells": [
  {
   "cell_type": "markdown",
   "metadata": {},
   "source": [
    "(about_generators)=\n",
    "# Генераторы\n",
    "\n",
    "_Генератором_ в Python называется некоторый _итерируемый_ объект.\n",
    "Если это вам мало, о чём говорит, то стоит изучить тему {ref}`iterators`.\n",
    "\n",
    "В данном разделе коснёмся темы генераторов, так как они лежат в основе библиотеки дискретно-событийного моделирования [SimPy](https://simpy.readthedocs.io/en/latest/index.html), которую мы будем использовать в процессе обучения.\n",
    "Поэтому генераторы необходимо освоить, чтобы легко программировать имитационные модели любой сложности.\n",
    "Более того, поняв генераторы, вы легче поймёте асинхронное программирование, которое широко применяется в Web-разработке."
   ]
  },
  {
   "cell_type": "markdown",
   "metadata": {},
   "source": [
    "## Что такое генератор\n",
    "\n",
    "_Генератор_ - это разновидность _итератора_, который возвращается _генераторной функцией_.\n",
    "\n",
    "_Генераторная функция_ - это функция, в которой есть оператор `yield`, отвечающий за возвращение объекта генератора.\n",
    "Пример простейшей генераторной функции:"
   ]
  },
  {
   "cell_type": "code",
   "execution_count": 138,
   "metadata": {},
   "outputs": [
    {
     "data": {
      "text/plain": [
       "<generator object gen_func at 0x7fcce1767c30>"
      ]
     },
     "execution_count": 138,
     "metadata": {},
     "output_type": "execute_result"
    }
   ],
   "source": [
    "def gen_func():\n",
    "    yield\n",
    "\n",
    "g = gen_func()\n",
    "g"
   ]
  },
  {
   "cell_type": "markdown",
   "metadata": {},
   "source": [
    "Чтобы получить значение из генератора, необходимо знать, что генератор как вид итератора поддерживает протокол итерации:"
   ]
  },
  {
   "cell_type": "code",
   "execution_count": 139,
   "metadata": {},
   "outputs": [],
   "source": [
    "next(g)"
   ]
  },
  {
   "cell_type": "markdown",
   "metadata": {},
   "source": [
    "```{note}\n",
    "Кажется, что функция `next` ни к чему не привела, но это не так.\n",
    "Просто в данном случае `yield` не имеет возвращаемой величины.\n",
    "Вот, что будет, если к `yield` добавить возвращаемое значение:\n",
    "```"
   ]
  },
  {
   "cell_type": "code",
   "execution_count": 140,
   "metadata": {},
   "outputs": [
    {
     "data": {
      "text/plain": [
       "1"
      ]
     },
     "execution_count": 140,
     "metadata": {},
     "output_type": "execute_result"
    }
   ],
   "source": [
    "def gen_func():\n",
    "    # Хотим, чтобы генераторная функция давала\n",
    "    # генератор, выдающий одно целое число\n",
    "    yield 1\n",
    "\n",
    "g = gen_func()\n",
    "next(g)"
   ]
  },
  {
   "cell_type": "markdown",
   "metadata": {},
   "source": [
    "```{important}\n",
    "Генераторная функция возвращает итератор.\n",
    "```\n",
    "\n",
    "Как известно, когда итератор достигает своего конца, он инициирует исключение `StopIteration`.\n",
    "То же самое случится, если мы ещё раз применим `next` к генератору `g`:"
   ]
  },
  {
   "cell_type": "code",
   "execution_count": 141,
   "metadata": {},
   "outputs": [
    {
     "name": "stdout",
     "output_type": "stream",
     "text": [
      "\u001b[31mStopIteration\u001b[0m\n"
     ]
    }
   ],
   "source": [
    "# Для окраски ошибок и прочего в сочные цвета\n",
    "from termcolor import cprint\n",
    "\n",
    "\n",
    "try:\n",
    "    next(g)\n",
    "except Exception as ex:\n",
    "    cprint(ex.__class__.__name__, \"red\")"
   ]
  },
  {
   "cell_type": "markdown",
   "metadata": {},
   "source": [
    "Но раз генератор поддерживает протокол итератора, значит, он может использоваться в цикле `for`, который этот протокол реализует:"
   ]
  },
  {
   "cell_type": "code",
   "execution_count": 142,
   "metadata": {},
   "outputs": [
    {
     "name": "stdout",
     "output_type": "stream",
     "text": [
      "1\n"
     ]
    }
   ],
   "source": [
    "g = gen_func()\n",
    "for i in g:\n",
    "    print(i)"
   ]
  },
  {
   "cell_type": "markdown",
   "metadata": {},
   "source": [
    "Или проще:"
   ]
  },
  {
   "cell_type": "code",
   "execution_count": 143,
   "metadata": {},
   "outputs": [
    {
     "name": "stdout",
     "output_type": "stream",
     "text": [
      "1\n"
     ]
    }
   ],
   "source": [
    "for i in gen_func():\n",
    "    print(i)"
   ]
  },
  {
   "cell_type": "markdown",
   "metadata": {},
   "source": [
    "Таковы основы, однако созданный генератор имеет мало смысла.\n",
    "Создадим, например, генератор, возвращающий последовательно числа от 0 до заданного `n`:"
   ]
  },
  {
   "cell_type": "code",
   "execution_count": 144,
   "metadata": {},
   "outputs": [
    {
     "name": "stdout",
     "output_type": "stream",
     "text": [
      "0 1 2 3 4 "
     ]
    }
   ],
   "source": [
    "def first_n(n):\n",
    "    counter = 0\n",
    "    while counter < n:\n",
    "        # Генерируем значение\n",
    "        yield counter\n",
    "        # Увеличиваем счётчик (движемся по циклу)\n",
    "        counter += 1\n",
    "\n",
    "\n",
    "# Пример использования\n",
    "for i in first_n(5):\n",
    "    print(i, end=\" \")"
   ]
  },
  {
   "cell_type": "markdown",
   "metadata": {},
   "source": [
    "Кое-что напоминает?\n",
    "К примеру, это:"
   ]
  },
  {
   "cell_type": "code",
   "execution_count": 145,
   "metadata": {},
   "outputs": [
    {
     "name": "stdout",
     "output_type": "stream",
     "text": [
      "0 1 2 3 4 "
     ]
    }
   ],
   "source": [
    "for i in range(5):\n",
    "    print(i, end=\" \")"
   ]
  },
  {
   "cell_type": "markdown",
   "metadata": {},
   "source": [
    "Разберём по шагам, что происходило в цикле `for` для `first_n`:\n",
    "\n",
    "```{code}\n",
    "for i in first_n(5):\n",
    "    print(i, end=\" \")\n",
    "```\n",
    "\n",
    "1. Вызвана генераторная функция `first_n(5)`, вернувшая объект генератора:"
   ]
  },
  {
   "cell_type": "code",
   "execution_count": 146,
   "metadata": {},
   "outputs": [
    {
     "data": {
      "text/plain": [
       "<generator object first_n at 0x7fcce1788350>"
      ]
     },
     "execution_count": 146,
     "metadata": {},
     "output_type": "execute_result"
    }
   ],
   "source": [
    "g = first_n(5)\n",
    "g"
   ]
  },
  {
   "cell_type": "markdown",
   "metadata": {},
   "source": [
    "При этом внутри `first_n` инициализировани счётчик `counter = 0` и поток выполнения вошёл в цикл `while`.\n",
    "Дойдя до `yield`, поток выполнения вернулся в точку вызова `first_n`, т.е. в следующую за `g = first_n(...)` строку.\n",
    "\n",
    "1. К генератору применена функция `next`. Поток упраления переходит в функцию `first_n`, но не в начало, а сразу же к оператору `yield`, который генерирует текущее значение `counter`. Цикл в `first_n`, повторяясь, снова доходит до оператора `yield`. Поток управления возвращается в место вызова `next`. Результат сработавшего `yield` сохраняется в счётчике `i`:"
   ]
  },
  {
   "cell_type": "code",
   "execution_count": 147,
   "metadata": {},
   "outputs": [],
   "source": [
    "i = next(g)"
   ]
  },
  {
   "cell_type": "markdown",
   "metadata": {},
   "source": [
    "3. Вывод на экран значения `i`:"
   ]
  },
  {
   "cell_type": "code",
   "execution_count": 148,
   "metadata": {},
   "outputs": [
    {
     "name": "stdout",
     "output_type": "stream",
     "text": [
      "0\n"
     ]
    }
   ],
   "source": [
    "print(i)"
   ]
  },
  {
   "cell_type": "markdown",
   "metadata": {},
   "source": [
    "4. Цикл повторяется с п.2:"
   ]
  },
  {
   "cell_type": "code",
   "execution_count": 149,
   "metadata": {},
   "outputs": [
    {
     "name": "stdout",
     "output_type": "stream",
     "text": [
      "1\n",
      "2\n"
     ]
    }
   ],
   "source": [
    "# Итерация 2\n",
    "i = next(g)\n",
    "print(i)\n",
    "# 3...\n",
    "i = next(g)\n",
    "print(i)\n",
    "# И т.д., пока не закончатся значения в генераторе"
   ]
  },
  {
   "cell_type": "markdown",
   "metadata": {},
   "source": [
    "Когда генератор будет исчерпан - а это случится, когда в `first_n` завершится цикл `while` и в ней не останется активного оператора `yield`, - инициируется исключение `StopIteration`, говорящее о завершении протокола итератора:"
   ]
  },
  {
   "cell_type": "code",
   "execution_count": 150,
   "metadata": {},
   "outputs": [
    {
     "name": "stdout",
     "output_type": "stream",
     "text": [
      "3\n",
      "4\n",
      "\u001b[31mStopIteration\u001b[0m\n"
     ]
    }
   ],
   "source": [
    "# 3...\n",
    "i = next(g)\n",
    "print(i)\n",
    "# 4...\n",
    "i = next(g)\n",
    "print(i)\n",
    "# И... конец\n",
    "try:\n",
    "    next(g)\n",
    "except Exception as ex:\n",
    "    cprint(ex.__class__.__name__, \"red\")"
   ]
  },
  {
   "cell_type": "markdown",
   "metadata": {},
   "source": [
    "## Генераторное выражение\n",
    "\n",
    "Есть ещё один способ создания генератора - _генераторное выражение_:"
   ]
  },
  {
   "cell_type": "code",
   "execution_count": 151,
   "metadata": {},
   "outputs": [
    {
     "data": {
      "text/plain": [
       "<generator object <genexpr> at 0x7fcce1788740>"
      ]
     },
     "execution_count": 151,
     "metadata": {},
     "output_type": "execute_result"
    }
   ],
   "source": [
    "g = (i for i in range(5))\n",
    "g"
   ]
  },
  {
   "cell_type": "markdown",
   "metadata": {},
   "source": [
    "Как видите, это не кортеж и не множество, а именно генератор.\n",
    "Следовательно, никаких чисел от 0 до 5 в памяти компьютера нет.\n",
    "И всё также сработает протокол итерации для `g`:"
   ]
  },
  {
   "cell_type": "code",
   "execution_count": 152,
   "metadata": {},
   "outputs": [
    {
     "name": "stdout",
     "output_type": "stream",
     "text": [
      "0 1 2 3 4 "
     ]
    }
   ],
   "source": [
    "for i in g:\n",
    "    print(i, end=\" \")"
   ]
  },
  {
   "cell_type": "markdown",
   "metadata": {},
   "source": [
    "Однако, мы можем использовать генераторы для конструирования списков, кортежей и колекций других типов.\n",
    "Для этого достаточно передать генератор соответствующему конструктору:"
   ]
  },
  {
   "cell_type": "code",
   "execution_count": 153,
   "metadata": {},
   "outputs": [
    {
     "name": "stdout",
     "output_type": "stream",
     "text": [
      "a = [0, 1, 2, 3, 4]\n",
      "b = [0, 1, 2, 3, 4]\n",
      "c = (0, 1, 2, 3, 4)\n",
      "d = {0, 1, 2, 3, 4}\n"
     ]
    }
   ],
   "source": [
    "# Список из генератора так (через списковое выражение)...\n",
    "a = [i for i in range(5)]\n",
    "print(\"a =\", a)\n",
    "# или так (через конструктор)\n",
    "b = list(i for i in range(5))\n",
    "print(\"b =\", b)\n",
    "# Кортеж из генератора (только через конструктор)\n",
    "c = tuple(i for i in range(5))\n",
    "print(\"c =\", c)\n",
    "# Множество также только через конструктор\n",
    "d = set(i for i in range(5))\n",
    "print(\"d =\", d)"
   ]
  },
  {
   "cell_type": "markdown",
   "metadata": {},
   "source": [
    "## Примеры генераторов\n",
    "\n",
    "В данном разделе содержатся **примеры** использования генераторов.\n",
    "В реальном коде изобретать велосипед не стоит - стандартные генераторы и функции работы с ними гораздо надёжнее и быстрее собственного решения.\n",
    "\n",
    "### Собственная версия `range`\n",
    "\n",
    "В предыдущей главе {ref}`iterators` мы сделали собственную реализацию стандартного `range` через итерируемый класс.\n",
    "Здесь же реализуем ту же функциональность с помощью генератора:"
   ]
  },
  {
   "cell_type": "code",
   "execution_count": 154,
   "metadata": {},
   "outputs": [
    {
     "name": "stdout",
     "output_type": "stream",
     "text": [
      "range_gen: 3 5 7 9 \n",
      "range: 3 5 7 9 "
     ]
    }
   ],
   "source": [
    "# Генераторная функция, аналогичная range\n",
    "def range_gen(start=0, stop=None, step=1):\n",
    "    i = start\n",
    "    if stop is None:\n",
    "        stop= start\n",
    "        start = 0\n",
    "    while i < stop:\n",
    "        yield i\n",
    "        i += step\n",
    "\n",
    "# И пример его использования\n",
    "print(\"range_gen:\", end=\" \")\n",
    "for i in range_gen(3, 10, 2):\n",
    "    print(i, end=\" \")\n",
    "# Сравните со стандартным range\n",
    "print(\"\\nrange:\", end=\" \")\n",
    "for i in range(3, 10, 2):\n",
    "    print(i, end=\" \")"
   ]
  },
  {
   "cell_type": "markdown",
   "metadata": {},
   "source": [
    "На самом деле, кроме оператора `yield` существует ещё оператор (выражение) [`yield from`](https://docs-python.ru/tutorial/generatory-python/vyrazhenie-yield-from-expr/).\n",
    "Его предназначение - связать два генератора.\n",
    "Рассмотрим, что это значит на примере нашего `range_gen`:"
   ]
  },
  {
   "cell_type": "code",
   "execution_count": 155,
   "metadata": {},
   "outputs": [
    {
     "name": "stdout",
     "output_type": "stream",
     "text": [
      "3 5 7 9 "
     ]
    }
   ],
   "source": [
    "def range_gen(start=0, stop=None, step=1):\n",
    "    if stop is None:\n",
    "        stop= start\n",
    "        start = 0\n",
    "    # Наш генератор генерирует значения,\n",
    "    # генерируемые другим генератором -\n",
    "    # это так называемая композиция генераторов\n",
    "    yield from range(start, stop, step)\n",
    "\n",
    "\n",
    "# Использование\n",
    "for i in range_gen(3, 10, 2):\n",
    "    print(i, end=\" \")"
   ]
  },
  {
   "cell_type": "markdown",
   "metadata": {},
   "source": [
    "Сравните с предыдущей версией и вы заметите, что теперь в генераторной функции не нужен счётчик `i`, и что наш генератор берёт значения из стандартного `range`. Таким способом можно связать сколь-угодное число генераторов.\n",
    "\n",
    "```{important}\n",
    "Однако помните, `yield from` может запутать других и вас самих, если вы либо не хорошо понимаете предназначение данного выражения, либо если используете его неуместно.\n",
    "\n",
    "Связывание генераторов без серьёзной на то причины усложняет код.\n",
    "И тут полезно вспомнить [дзен Python](https://peps.python.org/pep-0020/): \"Чем проще - тем лучше\".\n",
    "```"
   ]
  },
  {
   "cell_type": "markdown",
   "metadata": {},
   "source": [
    "### Генератор бесконечной последовательности\n",
    "\n",
    "Одним из преимуществ генераторов является их _ленивость_ - новое значение генератор выдаёт тогда и только тогда, когда оно запрашивается.\n",
    "Генератор не создаёт никаких предварительных списков, что положительно сказывается на работе программы с оперативной памятью.\n",
    "Более того, лень генераторов позволяет реализовать **бесконечную последовательность**:"
   ]
  },
  {
   "cell_type": "code",
   "execution_count": 156,
   "metadata": {},
   "outputs": [
    {
     "name": "stdout",
     "output_type": "stream",
     "text": [
      "0 1 2 3 4 "
     ]
    }
   ],
   "source": [
    "def infinity():\n",
    "    i = 0\n",
    "    # Входим в бесконечный цикл\n",
    "    while True:\n",
    "        yield i\n",
    "        i += 1\n",
    "\n",
    "# Аналог бесконечного цикла 'while True',\n",
    "# только счётчик 'i' получается сам собой\n",
    "for i in infinity():\n",
    "    if i == 5:\n",
    "        # Условие выхода из цикла.\n",
    "        # Не будь этого условия, числа выводились бы бесконечно\n",
    "        break\n",
    "    print(i, end=\" \")"
   ]
  },
  {
   "cell_type": "markdown",
   "metadata": {},
   "source": [
    "Для прерывания цикла выше использовался оператор `break`.\n",
    "Однако у генераторов, как и у любого объекта в Python, есть [свои методы](https://realpython.com/introduction-to-python-generators/).\n",
    "Один из методов - `close` - предназначен для преждевременного закрытия генератора.\n",
    "При этом генератор инициирует исключение `StopIteration`, из-за чего цикл автоматически прервётся:"
   ]
  },
  {
   "cell_type": "code",
   "execution_count": 157,
   "metadata": {},
   "outputs": [
    {
     "name": "stdout",
     "output_type": "stream",
     "text": [
      "0\n",
      "1\n",
      "\u001b[31mStopIteration:\u001b[0m да, инициировано исключение\n"
     ]
    }
   ],
   "source": [
    "g = infinity()\n",
    "print(next(g))\n",
    "print(next(g))\n",
    "g.close()\n",
    "# С этого момента не стоит использовать генератор\n",
    "try:\n",
    "    print(next(g))\n",
    "except StopIteration:\n",
    "    cprint(\"StopIteration:\", \"red\", end=\" \")\n",
    "    print(\"да, инициировано исключение\")\n",
    "# Не будь try...except программа бы рухнула"
   ]
  },
  {
   "cell_type": "markdown",
   "metadata": {},
   "source": [
    "Это позволяет в нашем случае использовать `close` вместо `break` следующим образом:"
   ]
  },
  {
   "cell_type": "code",
   "execution_count": 158,
   "metadata": {},
   "outputs": [
    {
     "name": "stdout",
     "output_type": "stream",
     "text": [
      "0 1 2 3 4 5 "
     ]
    }
   ],
   "source": [
    "g = infinity()\n",
    "for i in g:\n",
    "    if i == 5:\n",
    "        # Завершение цикла\n",
    "        g.close()\n",
    "    print(i, end=\" \")"
   ]
  },
  {
   "cell_type": "markdown",
   "metadata": {},
   "source": [
    "### Собственная версия `zip`"
   ]
  },
  {
   "cell_type": "code",
   "execution_count": 159,
   "metadata": {},
   "outputs": [
    {
     "name": "stdout",
     "output_type": "stream",
     "text": [
      "zip_gen:\n",
      "1 -2 7\n",
      "2 -3 0\n",
      "zip:\n",
      "1 -2 7\n",
      "2 -3 0\n"
     ]
    }
   ],
   "source": [
    "# Наш zip тоже принимает произвольное число аргументов\n",
    "def zip_gen(*sequences):\n",
    "    try:\n",
    "        # Заодно применим наш бесконечный генератор\n",
    "        # так удобный здесь\n",
    "        for i in infinity():\n",
    "            # Генерируем кортеж из i-ых элементов sequences\n",
    "            yield tuple(s[i] for s in sequences)\n",
    "    # Условие выхода из бесконечного цикла - ошибка индексации.\n",
    "    # Передаваемые списки могут иметь различные длины.\n",
    "    except IndexError:\n",
    "        # Да, генеративная функция обычная Python-функция,\n",
    "        # поэтому можно вернуться из неё обычным return'ом.\n",
    "        # Для генератора return сродни StopIteration.\n",
    "        return\n",
    "\n",
    "a = [1, 2, 3, 4]\n",
    "b = [-2, -3]\n",
    "c = [7, 0, 11]\n",
    "# Наш zip\n",
    "print(\"zip_gen:\")\n",
    "for i, j, k in zip_gen(a, b, c):\n",
    "    print(i, j, k)\n",
    "# Стандартный zip\n",
    "print(\"zip:\")\n",
    "for i, j, k in zip(a, b, c):\n",
    "    print(i, j, k)"
   ]
  },
  {
   "cell_type": "markdown",
   "metadata": {},
   "source": [
    "```{note}\n",
    "Заметьте, мы не создали какие-либо дополнительные списки.\n",
    "```"
   ]
  },
  {
   "cell_type": "markdown",
   "metadata": {},
   "source": [
    "Таким образом, концепция генераторов в Python имеет широкие возможности.\n",
    "При этом их синтаксис и логика действия предельно просты.\n",
    "Представленной информации вполне достаточно, чтобы научиться работать с библиотекой SimPy."
   ]
  },
  {
   "cell_type": "markdown",
   "metadata": {},
   "source": [
    "## См. также\n",
    "\n",
    "1. [Обучающий материал](https://realpython.com/introduction-to-python-generators/), подробно описывающий генераторы Python. Рассмотрены различные примеры их использования, а также особенности, не освещённые в данном справочнике. Например, методы генератора `send`, `close`, `throw`.\n",
    "2. [Базовый материал](https://wiki.python.org/moin/Generators) по генераторам."
   ]
  }
 ],
 "metadata": {
  "kernelspec": {
   "display_name": ".venv",
   "language": "python",
   "name": "python3"
  },
  "language_info": {
   "codemirror_mode": {
    "name": "ipython",
    "version": 3
   },
   "file_extension": ".py",
   "mimetype": "text/x-python",
   "name": "python",
   "nbconvert_exporter": "python",
   "pygments_lexer": "ipython3",
   "version": "3.10.12"
  },
  "orig_nbformat": 4
 },
 "nbformat": 4,
 "nbformat_minor": 2
}
