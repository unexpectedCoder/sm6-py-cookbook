{
 "cells": [
  {
   "cell_type": "markdown",
   "metadata": {},
   "source": [
    "# Генераторы\n",
    "\n",
    "_Генератором_ в Python называется некоторый _итерируемый_ объект.\n",
    "Это мало о чём говорит.\n",
    "Рассмотрим этот вопрос подробно, так как генераторы лежат в основе такой библиотеки дискретно-событийного моделирования, как [SimPy](https://simpy.readthedocs.io/en/latest/index.html).\n",
    "Поэтому генераторы необходимо освоить, чтобы легко работать с дискретно-событийным программированием.\n",
    "Более того, поняв генераторы, вы легче поймёте асинхронное программирование, которое широко применяется в Web-разработке.\n",
    "\n",
    "Разбираться начнём с примеров генераторов стандартной библиотеки.\n",
    "Затем перейдём к созданию собственных генераторов."
   ]
  },
  {
   "cell_type": "markdown",
   "metadata": {},
   "source": [
    "## Что такое генератор\n",
    "\n",
    "_Генератор_ - это объект, возвращаемый _генераторной функцией_.\n",
    "\n",
    "_Генераторная функция_ - это функция, в которой есть оператор `yield`, который и отвечает за возвращение объекта генератора.\n",
    "Пример:"
   ]
  },
  {
   "cell_type": "code",
   "execution_count": 1,
   "metadata": {},
   "outputs": [
    {
     "data": {
      "text/plain": [
       "<generator object gen_func at 0x7fea9f399700>"
      ]
     },
     "execution_count": 1,
     "metadata": {},
     "output_type": "execute_result"
    }
   ],
   "source": [
    "def gen_func():\n",
    "    yield 1\n",
    "\n",
    "g = gen_func()\n",
    "g"
   ]
  },
  {
   "cell_type": "markdown",
   "metadata": {},
   "source": [
    "Чтобы получить значение из генератора, необходимо знать, что генератор поддерживает протокол итератора, т.е. к нему можно применить функцию `next`:"
   ]
  },
  {
   "cell_type": "code",
   "execution_count": 2,
   "metadata": {},
   "outputs": [
    {
     "data": {
      "text/plain": [
       "1"
      ]
     },
     "execution_count": 2,
     "metadata": {},
     "output_type": "execute_result"
    }
   ],
   "source": [
    "next(g)"
   ]
  },
  {
   "cell_type": "markdown",
   "metadata": {},
   "source": [
    "Как известно, когда итератор достигает своего конца, он инициирует исключение `StopIteration`.\n",
    "То же самое случится, если мы ещё раз применим `next` к генератору `g`:"
   ]
  },
  {
   "cell_type": "code",
   "execution_count": 3,
   "metadata": {},
   "outputs": [
    {
     "name": "stdout",
     "output_type": "stream",
     "text": [
      "\u001b[31mStopIteration:\u001b[0m генератор пуст\n"
     ]
    }
   ],
   "source": [
    "from termcolor import cprint\n",
    "\n",
    "try:\n",
    "    next(g)\n",
    "except StopIteration as ex:\n",
    "    cprint(\"StopIteration:\", \"red\", end=\" \")\n",
    "    print(\"генератор пуст\")"
   ]
  },
  {
   "cell_type": "markdown",
   "metadata": {},
   "source": [
    "Но раз генератор поддерживает протокол итератора, значит, он может использоваться в цикле `for`, который этот протокол реализует:"
   ]
  },
  {
   "cell_type": "code",
   "execution_count": 4,
   "metadata": {},
   "outputs": [
    {
     "name": "stdout",
     "output_type": "stream",
     "text": [
      "1\n"
     ]
    }
   ],
   "source": [
    "for i in gen_func():\n",
    "    print(i)"
   ]
  },
  {
   "cell_type": "markdown",
   "metadata": {},
   "source": [
    "Таковы основы, однако созданный генератор имеет мало смысла.\n",
    "Создадим, например, генератор, возвращающий последовательно числа от 0 до заданного `n`:"
   ]
  },
  {
   "cell_type": "code",
   "execution_count": 5,
   "metadata": {},
   "outputs": [],
   "source": [
    "def first_n(n):\n",
    "    counter = 0\n",
    "    while counter < n:\n",
    "        # Генерируем значение\n",
    "        yield counter\n",
    "        # Увеличиваем счётчик (движемся по циклу)\n",
    "        counter += 1"
   ]
  },
  {
   "cell_type": "markdown",
   "metadata": {},
   "source": [
    "Теперь выведем первые 5 неотрицательных чисел:"
   ]
  },
  {
   "cell_type": "code",
   "execution_count": 6,
   "metadata": {},
   "outputs": [
    {
     "name": "stdout",
     "output_type": "stream",
     "text": [
      "0 1 2 3 4 "
     ]
    }
   ],
   "source": [
    "for i in first_n(5):\n",
    "    print(i, end=\" \")"
   ]
  },
  {
   "cell_type": "markdown",
   "metadata": {},
   "source": [
    "Кое-что напоминает?\n",
    "К примеру, это:"
   ]
  },
  {
   "cell_type": "code",
   "execution_count": 7,
   "metadata": {},
   "outputs": [
    {
     "name": "stdout",
     "output_type": "stream",
     "text": [
      "0 1 2 3 4 "
     ]
    }
   ],
   "source": [
    "for i in range(5):\n",
    "    print(i, end=\" \")"
   ]
  },
  {
   "cell_type": "markdown",
   "metadata": {},
   "source": [
    "Разберём по шагам, что происходило в этом цикле:\n",
    "\n",
    "```{code}\n",
    "for i in first_n(5):\n",
    "    print(i, end=\" \")\n",
    "```\n",
    "\n",
    "1. Вызвана генеративная функция `first_n(5)`, вернувшая объект генератора:"
   ]
  },
  {
   "cell_type": "code",
   "execution_count": 8,
   "metadata": {},
   "outputs": [
    {
     "data": {
      "text/plain": [
       "<generator object first_n at 0x7fea9f39a030>"
      ]
     },
     "execution_count": 8,
     "metadata": {},
     "output_type": "execute_result"
    }
   ],
   "source": [
    "g = first_n(5)\n",
    "g"
   ]
  },
  {
   "cell_type": "markdown",
   "metadata": {},
   "source": [
    "При этом внутри `first_n` инициализировани счётчик `counter = 0` и цикл `while`.\n",
    "Дойдя до `yield`, поток выполнения вернулся в точку вызова `first_n`, т.е. в следующую за `g = first_n(...)` строку.\n",
    "\n",
    "2. К генератору применена функция `next`. Поток упраления переходит в функцию `first_n` к оператору `yield`, который генерирует текущее значение `counter`. Цикл в `first_n`, повторяясь, и снова доходит до оператора `yield`. Поток управления возвращается в место вызова `next`. Результат сработавшего `yield` сохраняется в счётчике `i`:"
   ]
  },
  {
   "cell_type": "code",
   "execution_count": 9,
   "metadata": {},
   "outputs": [],
   "source": [
    "i = next(g)"
   ]
  },
  {
   "cell_type": "markdown",
   "metadata": {},
   "source": [
    "3. Вывод на экран значения `i`:"
   ]
  },
  {
   "cell_type": "code",
   "execution_count": 10,
   "metadata": {},
   "outputs": [
    {
     "name": "stdout",
     "output_type": "stream",
     "text": [
      "0\n"
     ]
    }
   ],
   "source": [
    "print(i)"
   ]
  },
  {
   "cell_type": "markdown",
   "metadata": {},
   "source": [
    "4. Цикл повторяется с п.2:"
   ]
  },
  {
   "cell_type": "code",
   "execution_count": 11,
   "metadata": {},
   "outputs": [
    {
     "name": "stdout",
     "output_type": "stream",
     "text": [
      "1\n",
      "2\n"
     ]
    }
   ],
   "source": [
    "# Итерация 2\n",
    "i = next(g)\n",
    "print(i)\n",
    "# 3...\n",
    "i = next(g)\n",
    "print(i)\n",
    "# И т.д., пока не закончатся значения в генераторе"
   ]
  },
  {
   "cell_type": "markdown",
   "metadata": {},
   "source": [
    "Когда генератор будет исчерпан, инициируется исключение `StopIteration`, говорящее о завершении протокола итератора."
   ]
  },
  {
   "cell_type": "markdown",
   "metadata": {},
   "source": [
    "## Генераторное выражение\n",
    "\n",
    "Есть ещё один способ создания генератора - _генеративное (генераторное) выражение_:"
   ]
  },
  {
   "cell_type": "code",
   "execution_count": 12,
   "metadata": {},
   "outputs": [
    {
     "data": {
      "text/plain": [
       "<generator object <genexpr> at 0x7fea9f39a3b0>"
      ]
     },
     "execution_count": 12,
     "metadata": {},
     "output_type": "execute_result"
    }
   ],
   "source": [
    "g = (i for i in range(5))\n",
    "g"
   ]
  },
  {
   "cell_type": "markdown",
   "metadata": {},
   "source": [
    "Как видите, это не кортеж и не множество, а именно генератор.\n",
    "Следовательно, никакого множества чисел от 0 до 5 пока нет.\n",
    "Значит, и память компьютера ими не занята.\n",
    "Однако всё также сработает протокол итератора для `g`:"
   ]
  },
  {
   "cell_type": "code",
   "execution_count": 13,
   "metadata": {},
   "outputs": [
    {
     "name": "stdout",
     "output_type": "stream",
     "text": [
      "0 1 2 3 4 "
     ]
    }
   ],
   "source": [
    "for i in g:\n",
    "    print(i, end=\" \")"
   ]
  },
  {
   "cell_type": "markdown",
   "metadata": {},
   "source": [
    "Однако, мы можем использовать генераторы для конструирования списков, кортежей и колекций других типов.\n",
    "Для этого достаточно передать генератор соответствующему конструктору:"
   ]
  },
  {
   "cell_type": "code",
   "execution_count": 14,
   "metadata": {},
   "outputs": [
    {
     "name": "stdout",
     "output_type": "stream",
     "text": [
      "a = [0, 1, 2, 3, 4]\n",
      "b = [0, 1, 2, 3, 4]\n",
      "c = (0, 1, 2, 3, 4)\n",
      "d = {0, 1, 2, 3, 4}\n"
     ]
    }
   ],
   "source": [
    "# Список из генератора так (через списковое выражение)...\n",
    "a = [i for i in range(5)]\n",
    "print(\"a =\", a)\n",
    "# или так (через конструктор)\n",
    "b = list(i for i in range(5))\n",
    "print(\"b =\", b)\n",
    "# Кортеж из генератора (только через конструктор)\n",
    "c = tuple(i for i in range(5))\n",
    "print(\"c =\", c)\n",
    "# Множество также только через конструктор\n",
    "d = set(i for i in range(5))\n",
    "print(\"d =\", d)"
   ]
  },
  {
   "cell_type": "markdown",
   "metadata": {},
   "source": [
    "## Примеры генераторов\n",
    "\n",
    "В данном разделе содержатся **примеры** использования генераторов.\n",
    "В реальном коде изобретать велосипед не стоит - стандартные генераторы и функции работы с ними гораздо надёжнее и быстрее собственного решения.\n",
    "\n",
    "### Собственная версия `range`\n",
    "\n",
    "Мы почти сделали собственный `range`.\n",
    "Сделаем его окончательно:"
   ]
  },
  {
   "cell_type": "code",
   "execution_count": 15,
   "metadata": {},
   "outputs": [
    {
     "name": "stdout",
     "output_type": "stream",
     "text": [
      "range_gen: 3 5 7 9 \n",
      "range: 3 5 7 9 "
     ]
    }
   ],
   "source": [
    "def range_gen(start=0, stop=None, step=1):\n",
    "    i = start\n",
    "    if stop is None:\n",
    "        stop= start\n",
    "        start = 0\n",
    "    while i < stop:\n",
    "        yield i\n",
    "        i += step\n",
    "\n",
    "# И пример его использования\n",
    "print(\"range_gen:\", end=\" \")\n",
    "for i in range_gen(3, 10, 2):\n",
    "    print(i, end=\" \")\n",
    "# Сравните со стандартным range\n",
    "print(\"\\nrange:\", end=\" \")\n",
    "for i in range(3, 10, 2):\n",
    "    print(i, end=\" \")"
   ]
  },
  {
   "cell_type": "markdown",
   "metadata": {},
   "source": [
    "На самом деле, кроме оператора `yield` существует ещё оператор (выражение) [`yield from`](https://docs-python.ru/tutorial/generatory-python/vyrazhenie-yield-from-expr/).\n",
    "Его предназначение - связать два генератора.\n",
    "Рассмотрим, что это значит на примере нашего `range_gen`:"
   ]
  },
  {
   "cell_type": "code",
   "execution_count": 16,
   "metadata": {},
   "outputs": [],
   "source": [
    "def range_gen(start=0, stop=None, step=1):\n",
    "    if stop is None:\n",
    "        stop= start\n",
    "        start = 0\n",
    "    yield from range(start, stop, step)"
   ]
  },
  {
   "cell_type": "markdown",
   "metadata": {},
   "source": [
    "Сравните с предыдущей версией и вы заметите, что теперь не нужен счётчик `i` и что наш генератор берёт значения из стандартного `range`.\n",
    "Проверим работоспособность:"
   ]
  },
  {
   "cell_type": "code",
   "execution_count": 17,
   "metadata": {},
   "outputs": [
    {
     "name": "stdout",
     "output_type": "stream",
     "text": [
      "3 5 7 9 "
     ]
    }
   ],
   "source": [
    "for i in range_gen(3, 10, 2):\n",
    "    print(i, end=\" \")"
   ]
  },
  {
   "cell_type": "markdown",
   "metadata": {},
   "source": [
    "Таким способом можно связать сколь-угодное число генераторов.\n",
    "\n",
    "```{important}\n",
    "Однако помните, `yield from` может запутать других и вас самих, если вы либо не хорошо понимаете предназначение данного выражения, либо если используете его неуместно.\n",
    "\n",
    "Связывание генераторов без серьёзной на то причины усложняет код.\n",
    "И тут полезно вспомнить [дзен Python](https://peps.python.org/pep-0020/): \"Чем проще - тем лучше\".\n",
    "```"
   ]
  },
  {
   "cell_type": "markdown",
   "metadata": {},
   "source": [
    "### Генератор бесконечной последовательности\n",
    "\n",
    "Одним из преимуществ генераторов является их _ленивость_ - новое значение генератор выдаёт тогда и только тогда, когда оно запрашивается.\n",
    "Генератор не создаёт никаких предварительных списков, что положительно сказывается на работе программы с оперативной памятью.\n",
    "Более того, лень генераторов позволяет реализовать **бесконечную последовательность**:"
   ]
  },
  {
   "cell_type": "code",
   "execution_count": 18,
   "metadata": {},
   "outputs": [
    {
     "name": "stdout",
     "output_type": "stream",
     "text": [
      "0 1 2 3 4 "
     ]
    }
   ],
   "source": [
    "def infinity():\n",
    "    i = 0\n",
    "    # Входим в бесконечный цикл\n",
    "    while True:\n",
    "        yield i\n",
    "        i += 1\n",
    "\n",
    "# Аналог бесконечного цикла 'while True',\n",
    "# только счётчик 'i' получается сам собой\n",
    "for i in infinity():\n",
    "    if i == 5:\n",
    "        # Условие выхода из цикла.\n",
    "        # Не будь этого условия, числа выводились бы бесконечно\n",
    "        break\n",
    "    print(i, end=\" \")"
   ]
  },
  {
   "cell_type": "markdown",
   "metadata": {},
   "source": [
    "Как это всё работает?\n",
    "Рассмотрим на примере использования `infinity`:\n",
    "\n",
    "1. В самом начале цикла (вернее, при его инициализации) вызывается генеративная функция `infinity`. В результате её вызова создан генератор. При этом поток выполнения программы вошёл в функцию `infinity`, создал локальную переменную `i = 0`, вошёл в бесконечный цикл `while True` и... вернулся в вызывающую функцию (в данном случае в основной поток программы) с объектом генератора в руках.\n",
    "2. Цикл `for` начинаетотрабатывать протокол итератора. Применение `next` к генератору приводит к тому, что срабатывает `yield`, генерируя возвращаемое значение `i`, т.е. 0. Выполняется весь следующий код `infinity`: увеличивается значение `i += 1`, бесконечный цикл повторяется и вновь упирается в оператор `yield`... Поток выполнения `infinity` снова возвращает управление потоку-хозяину генератора (в данном случае основному потоку программы).\n",
    "3. Выполняется тело цикла `for`.\n",
    "4. Цикл `for` повторяется. При этом `i` уже равно 1. И так до бесконечности или пока цикл не будет прерван оператором `break`.\n",
    "\n",
    "Если бы наш генератор был бы конечным, то применение `next` после достижения последнего значения привело бы к исключению `StopIteration`, и цикл `for` закончился бы (штатно)."
   ]
  },
  {
   "cell_type": "markdown",
   "metadata": {},
   "source": [
    "Для прерывания цикла использовался оператор `break`.\n",
    "Однако у генераторов, как и у любого объекта в Python, есть [свои методы](https://realpython.com/introduction-to-python-generators/).\n",
    "Один из методов - `close` - предназначен для преждевременного закрытия генератора.\n",
    "При этом генератор инициирует исключение `StopIteration`, из-за чего цикл автоматически прервётся.\n",
    "Это позволяет в нашем случае использовать `close` вместо `break`:"
   ]
  },
  {
   "cell_type": "markdown",
   "metadata": {},
   "source": [
    "```{note}\n",
    "Обратите внимание на \"оператор моржа\" [`:=`](https://habr.com/ru/companies/skillfactory/articles/683418/).\n",
    "```\n",
    "\n",
    "```{attention}\n",
    "Если вы итерируете генератор вне цикла `for`, например, в цикле `while` или вручную и закрываете его методом `close`, то вам следует перехватывать исключение `StopIteration`, иначе выполнение программы завершится с этой ошибкой.\n",
    "Пример ниже.\n",
    "```"
   ]
  },
  {
   "cell_type": "code",
   "execution_count": 20,
   "metadata": {},
   "outputs": [
    {
     "name": "stdout",
     "output_type": "stream",
     "text": [
      "0\n",
      "1\n",
      "\u001b[31mStopIteration:\u001b[0m да, инициировано исключение\n"
     ]
    }
   ],
   "source": [
    "g = infinity()\n",
    "print(next(g))\n",
    "print(next(g))\n",
    "g.close()\n",
    "# С этого момента не стоит использовать генератор\n",
    "try:\n",
    "    print(next(g))\n",
    "except StopIteration:\n",
    "    cprint(\"StopIteration:\", \"red\", end=\" \")\n",
    "    print(\"да, инициировано исключение\")\n",
    "# Не будь try...except программа бы рухнула"
   ]
  },
  {
   "cell_type": "markdown",
   "metadata": {},
   "source": [
    "### Собственная версия `zip`"
   ]
  },
  {
   "cell_type": "code",
   "execution_count": 21,
   "metadata": {},
   "outputs": [
    {
     "name": "stdout",
     "output_type": "stream",
     "text": [
      "zip_gen:\n",
      "1 -2 7\n",
      "2 -3 0\n",
      "zip:\n",
      "1 -2 7\n",
      "2 -3 0\n"
     ]
    }
   ],
   "source": [
    "# Наш zip тоже принимает произвольное число аргументов\n",
    "def zip_gen(*sequences):\n",
    "    try:\n",
    "        # Заодно применим наш бесконечный генератор\n",
    "        # так удобный здесь\n",
    "        for i in infinity():\n",
    "            # Генерируем кортеж из i-ых элементов sequences\n",
    "            yield tuple(s[i] for s in sequences)\n",
    "    # Условие выхода из бесконечного цикла - ошибка индексации.\n",
    "    # Передаваемые списки могут иметь различные длины.\n",
    "    except IndexError:\n",
    "        # Да, генеративная функция обычная Python-функция,\n",
    "        # поэтому можно вернуться из неё обычным return'ом.\n",
    "        # Для генератора return сродни StopIteration.\n",
    "        return\n",
    "\n",
    "a = [1, 2, 3, 4]\n",
    "b = [-2, -3]\n",
    "c = [7, 0, 11]\n",
    "# Наш zip\n",
    "print(\"zip_gen:\")\n",
    "for i, j, k in zip_gen(a, b, c):\n",
    "    print(i, j, k)\n",
    "# Стандартный zip\n",
    "print(\"zip:\")\n",
    "for i, j, k in zip(a, b, c):\n",
    "    print(i, j, k)"
   ]
  },
  {
   "cell_type": "markdown",
   "metadata": {},
   "source": [
    "```{note}\n",
    "Заметьте, мы не создали какие-либо дополнительные списки.\n",
    "```"
   ]
  },
  {
   "cell_type": "markdown",
   "metadata": {},
   "source": [
    "Таким образом, концепция генераторов в Python имеет широкие возможности.\n",
    "При этом их синтаксис и логика действия предельно просты.\n",
    "Представленной информации вполне достаточно, чтобы научиться работать с библиотекой SimPy."
   ]
  },
  {
   "cell_type": "markdown",
   "metadata": {},
   "source": [
    "## См. также\n",
    "\n",
    "1. [Обучающий материал](https://realpython.com/introduction-to-python-generators/), подробно описывающий генераторы Python. Рассмотрены различные примеры их использования, а также особенности, не освещённые в данном справочнике. Например, методы генератора `send`, `close`, `throw`.\n",
    "2. [Базовый материал](https://wiki.python.org/moin/Generators) по генераторам."
   ]
  }
 ],
 "metadata": {
  "kernelspec": {
   "display_name": ".venv",
   "language": "python",
   "name": "python3"
  },
  "language_info": {
   "codemirror_mode": {
    "name": "ipython",
    "version": 3
   },
   "file_extension": ".py",
   "mimetype": "text/x-python",
   "name": "python",
   "nbconvert_exporter": "python",
   "pygments_lexer": "ipython3",
   "version": "3.10.12"
  },
  "orig_nbformat": 4
 },
 "nbformat": 4,
 "nbformat_minor": 2
}
