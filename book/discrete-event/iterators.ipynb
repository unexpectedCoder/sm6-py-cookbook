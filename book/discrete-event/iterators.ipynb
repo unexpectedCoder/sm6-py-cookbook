{
 "cells": [
  {
   "cell_type": "markdown",
   "metadata": {},
   "source": [
    "(iterators)=\n",
    "# Итераторы\n",
    "\n",
    "Язык Python является высокоуровневым языком программирования.\n",
    "В нём абсолютно всё является объектом.\n",
    "В связи с этим открывается ряд новых возможностей, среди которых несколько иной подход к реализации циклов.\n",
    "\n",
    "В отличие от других языков программирования в Python цикл `for` работает **только** с _итерируемыми_ сущностями.\n",
    "Он не работает, например, с целочисленными счётчиками напрямую, как это происходит в C++, к примеру.\n",
    "\n",
    "```{important}\n",
    "Концепция итератора - это одна из ключевых особенностей Python.\n",
    "```\n",
    "\n",
    "_Итерируемый_ объект - это любой объект, реализующий _протокол итератора_.\n",
    "Этот протокол лежит в основе любого _итерируемого_ типа: списка, кортежа, словаря, множества, очереди,стека, генератора и др.\n",
    "\n",
    "```{important}\n",
    "В Python вы встретите как итерируемые (`Iterable`), так и объекты типа `Sequence`.\n",
    "Тип `Sequence` является производным от `Iterable`, расширяя последний поддержкой индексации, т.е. к элементам объекта типа `Sequence` можно обращаться по индексу.\n",
    "Классический пример - массивы.\n",
    "В остальном же для `Sequence` справедливо всё то, что справедливо и для `Iterable`.\n",
    "Пример ниже.\n",
    "```"
   ]
  },
  {
   "cell_type": "code",
   "execution_count": 75,
   "metadata": {},
   "outputs": [
    {
     "name": "stdout",
     "output_type": "stream",
     "text": [
      "a_list[1] = 2\n"
     ]
    }
   ],
   "source": [
    "# Список поддерживает индексацию,\n",
    "# т.к. имеет тип Sequence\n",
    "a_list = [1, 2, 3, 4, 3, 1]\n",
    "print(\"a_list[1] =\", a_list[1])"
   ]
  },
  {
   "cell_type": "code",
   "execution_count": 76,
   "metadata": {},
   "outputs": [
    {
     "name": "stdout",
     "output_type": "stream",
     "text": [
      "\u001b[31mTypeError:\u001b[0m 'set' object is not subscriptable (множество не индексируется)\n"
     ]
    }
   ],
   "source": [
    "# Подключим функцию cprint для цветного вывода ошибок\n",
    "from termcolor import cprint\n",
    "\n",
    "# Но множество индексацию не поддерживает\n",
    "a_set = set(a_list)\n",
    "try:\n",
    "    print(a_set[1])\n",
    "except Exception as ex:\n",
    "    # Попытка обращения по индексу приводит к такому исключению\n",
    "    cprint(f\"{ex.__class__.__name__}:\", \"red\", end=\" \")\n",
    "    print(ex, \"(множество не индексируется)\")"
   ]
  },
  {
   "cell_type": "code",
   "execution_count": 77,
   "metadata": {},
   "outputs": [
    {
     "name": "stdout",
     "output_type": "stream",
     "text": [
      "Список:\n",
      "1 2 3 4 3 1 \n",
      "Множество:\n",
      "1 2 3 4 "
     ]
    }
   ],
   "source": [
    "# Однако и список, и множество могут использоваться в цикле for,\n",
    "# т.к. реализуют протокол итератора (унаследованы от Iterable)\n",
    "print(\"Список:\")\n",
    "for x in a_list:\n",
    "    print(x, end=\" \")\n",
    "print(\"\\nМножество:\")\n",
    "for s in a_set:\n",
    "    print(s, end=\" \")"
   ]
  },
  {
   "cell_type": "markdown",
   "metadata": {},
   "source": [
    "```{note}\n",
    "Заметьте, что `set` имеет исключительно уникальные элементы, поэтому последние два числа (3 и 1) из списка во множестве не присутствуют.\n",
    "```"
   ]
  },
  {
   "cell_type": "markdown",
   "metadata": {},
   "source": [
    "## Примеры стандартных функций, возвращающих итерируемый объект\n",
    "\n",
    "Одна из наиболее часто используемых функций, которая возвращает итерируемый объект - это `range`:"
   ]
  },
  {
   "cell_type": "code",
   "execution_count": 78,
   "metadata": {},
   "outputs": [
    {
     "name": "stdout",
     "output_type": "stream",
     "text": [
      "0 1 2 3 4 "
     ]
    }
   ],
   "source": [
    "for i in range(5):\n",
    "    print(i, end=\" \")"
   ]
  },
  {
   "cell_type": "markdown",
   "metadata": {},
   "source": [
    "```{important}\n",
    "Это принципиально иной подход к реализации цикла `for` в языке.\n",
    "Хоть `i` в данном случае похож на простой счётчик - это не так.\n",
    "`range` возвращает _итерируемый объект_.\n",
    "\n",
    "Ни с какими целыми числами цикл `for` в Python (напрямую) не работает, в отличие, например, от цикла `for` языка C++: `for (int i = 0; i < 5; ++i)`.\n",
    "Целое же значение _генерируется_ или получается при каждой итерации цикла при применении встроенной функции `next` к итерируемому объекту (подробности см. {ref}`iter_protocol`).\n",
    "```\n",
    "\n",
    "```{important}\n",
    "Главное преимущество такого подхода - гарантированное исключение ошибки выхода за границы итерируемой сущности (массива, списка и пр.), что является одной из серьёзнейших проблем в низкоуровневых языках.\n",
    "```"
   ]
  },
  {
   "cell_type": "markdown",
   "metadata": {},
   "source": [
    "С помощью `range` можно создать список, например, записав _списковое выражение_, по сути своей являющееся построением списка из генератора (см. раздел [о генераторах](generators)):"
   ]
  },
  {
   "cell_type": "code",
   "execution_count": 79,
   "metadata": {},
   "outputs": [
    {
     "name": "stdout",
     "output_type": "stream",
     "text": [
      "a = [0, 1, 4, 9, 16], b = [0, 1, 4, 9, 16]\n"
     ]
    }
   ],
   "source": [
    "# Либо так (это не путь Python)\n",
    "a = []\n",
    "for x in range(5):\n",
    "    a.append(x*x)\n",
    "# Либо списковым выражением (путь Python)\n",
    "b = [x*x for x in range(5)]\n",
    "print(f\"a = {a}, b = {b}\")"
   ]
  },
  {
   "cell_type": "markdown",
   "metadata": {},
   "source": [
    "```{note}\n",
    "Второй способ, к тому же, гораздо быстрее выполняется.\n",
    "```"
   ]
  },
  {
   "cell_type": "markdown",
   "metadata": {},
   "source": [
    "Ещё один пример - функция `enumerate`.\n",
    "Будучи применённой к переданному итерируемому объекту, она возвращает новую итерируемую сущность, которая при итерировании возвращает пару `(индекс, элемент)`.\n",
    "Для начала о том, **как делать не стоит**:"
   ]
  },
  {
   "cell_type": "code",
   "execution_count": 80,
   "metadata": {},
   "outputs": [
    {
     "name": "stdout",
     "output_type": "stream",
     "text": [
      "cubes[0] = 0; cubes[1] = 1; cubes[2] = 8; cubes[3] = 27; cubes[4] = 64; "
     ]
    }
   ],
   "source": [
    "# Пусть есть некоторый список\n",
    "cubes = [x**3 for x in range(5)]\n",
    "# Способ C++, но не Python\n",
    "for i in range(len(cubes)):\n",
    "    print(f\"cubes[{i}] = {cubes[i]}\", end=\"; \")"
   ]
  },
  {
   "cell_type": "markdown",
   "metadata": {},
   "source": [
    "А вот как делают в Python:"
   ]
  },
  {
   "cell_type": "code",
   "execution_count": 81,
   "metadata": {},
   "outputs": [
    {
     "name": "stdout",
     "output_type": "stream",
     "text": [
      "cubes[0] = 0; cubes[1] = 1; cubes[2] = 8; cubes[3] = 27; cubes[4] = 64; "
     ]
    }
   ],
   "source": [
    "for i, x in enumerate(cubes):\n",
    "    print(f\"cubes[{i}] = {x}\", end=\"; \")"
   ]
  },
  {
   "cell_type": "markdown",
   "metadata": {},
   "source": [
    "```{note}\n",
    "Обратите внимание, что `enumerate` возвращает кортеж из двух элементов.\n",
    "В данном случае этот кортеж сразу же распаковывался в цикле `for` в две переменные `i` и `x`.\n",
    "```"
   ]
  },
  {
   "cell_type": "markdown",
   "metadata": {},
   "source": [
    "Последний пример - функция `zip`, которая помогает в одном цикле обходить сразу несколько колекций.\n",
    "Допустим, есть три списка **произвольной длины**: `a`, `b` и `c`.\n",
    "Нам нужно вывести сумму соответствующих элементов.\n",
    "Вот способ низкоуровневых языков:"
   ]
  },
  {
   "cell_type": "code",
   "execution_count": 82,
   "metadata": {},
   "outputs": [
    {
     "name": "stdout",
     "output_type": "stream",
     "text": [
      "0\n",
      "-6\n"
     ]
    }
   ],
   "source": [
    "a = [1, 2]          # 2 элемента (самый короткий)\n",
    "b = [-3, -7, 4, 0]  # 4 элемента\n",
    "c = [2, -1, -4]     # 3 элемента\n",
    "for i in range(len(a)):\n",
    "    print(a[i] + b[i] + c[i])"
   ]
  },
  {
   "cell_type": "markdown",
   "metadata": {},
   "source": [
    "Но почему в `range` передана длина именно `a`, а не любого другого массива?\n",
    "В данном случае `a` оказался самым коротким из массивов.\n",
    "Другие массивы не обошлись полностью, но это не так страшно.\n",
    "\n",
    "```{important}\n",
    "Гораздо хуже было бы, окажись `a` самым длинным из всех.\n",
    "**Тогда индекс `i` вышел бы за границы остальных (коротких) массивов, а это привело бы к исключению и концу работы интерпретатора**.\n",
    "Вот пример, что будет, если в `range` передать длину большего списка `b`.\n",
    "```"
   ]
  },
  {
   "cell_type": "code",
   "execution_count": 83,
   "metadata": {},
   "outputs": [
    {
     "name": "stdout",
     "output_type": "stream",
     "text": [
      "0\n",
      "-6\n",
      "\u001b[31mIndexError:\u001b[0m list index out of range\n"
     ]
    }
   ],
   "source": [
    "try:\n",
    "    for i in range(len(b)):\n",
    "        print(a[i] + b[i] + c[i])\n",
    "except Exception as ex:\n",
    "    cprint(f\"{ex.__class__.__name__}:\", \"red\", end=\" \")\n",
    "    print(ex)"
   ]
  },
  {
   "cell_type": "markdown",
   "metadata": {},
   "source": [
    "Проверять равенство длин всех массивов перед циклом?\n",
    "Плохое решение.\n",
    "Почему?\n",
    "Функция `len` каждый раз пересчитывает длину, проходя массив полностью.\n",
    "Представьте, что наши три массива содержали бы по миллиону и более элементов, и вопрос отпадёт сам собой.\n",
    "\n",
    "Функция `zip` лишена указаных недостатков.\n",
    "Если переданные ей массивы имеют разную длину, то возвращать результат она будет до тех пор, пока не закончится самый короткий список (кортеж, массив и др.).\n",
    "Вот пример:"
   ]
  },
  {
   "cell_type": "code",
   "execution_count": 84,
   "metadata": {},
   "outputs": [
    {
     "name": "stdout",
     "output_type": "stream",
     "text": [
      "0\n",
      "-6\n"
     ]
    }
   ],
   "source": [
    "for ai, bi, ci in zip(a, b, c):\n",
    "    print(ai + bi + ci)"
   ]
  },
  {
   "cell_type": "markdown",
   "metadata": {},
   "source": [
    "Короткий список - `a` - имел длину 2, поэтому в результате вывелось 2 числа.\n",
    "При этом мы не задумывались, какой из массивов короткий, чья длина должна быть передана для обхода по индексу.\n",
    "\n",
    "```{note}\n",
    "Функция `zip` принимает неограниченное число аргументов.\n",
    "```\n",
    "\n",
    "Все рассмотренные функции возвращают итерируемые сущности,другими словами, объекты, реализующими протокол итератора.\n",
    "Так что же это за протокол такой?"
   ]
  },
  {
   "cell_type": "markdown",
   "metadata": {},
   "source": [
    "(iter_protocol)=\n",
    "## Протокол итератора\n",
    "\n",
    "Рассмотрим, как выполняется цикл `for`, шаг за шагом.\n",
    "В качестве примера возьмём следующий простой цикл:"
   ]
  },
  {
   "cell_type": "code",
   "execution_count": 85,
   "metadata": {},
   "outputs": [
    {
     "name": "stdout",
     "output_type": "stream",
     "text": [
      "0\n",
      "1\n",
      "2\n"
     ]
    }
   ],
   "source": [
    "for i in range(3):\n",
    "    print(i)"
   ]
  },
  {
   "cell_type": "markdown",
   "metadata": {},
   "source": [
    "Что скрыто от наших глаз:"
   ]
  },
  {
   "cell_type": "code",
   "execution_count": 86,
   "metadata": {},
   "outputs": [
    {
     "name": "stdout",
     "output_type": "stream",
     "text": [
      "0\n",
      "1\n",
      "2\n"
     ]
    }
   ],
   "source": [
    "# В начале инициализируется объект range\n",
    "r = range(3)\n",
    "# Затем инициализируется итератор по r,\n",
    "# в результате получается итерируемый объект\n",
    "r_iter = iter(r)\n",
    "# Теперь в каждом шаге цикла for к итератору\n",
    "# применяется стандартная функция next\n",
    "# - i = 0\n",
    "print(next(r_iter))\n",
    "# - i = 1\n",
    "print(next(r_iter))\n",
    "# - i = 2\n",
    "print(next(r_iter))"
   ]
  },
  {
   "cell_type": "markdown",
   "metadata": {},
   "source": [
    "Мы достигли конца - значения 2.\n",
    "Как цикл `for` понимает, что пора завершаться?\n",
    "Если ещё раз применить `next`, то мы получит исключение `StopIteration`, говорящее о достижении итератором конца итерируемого объекта:"
   ]
  },
  {
   "cell_type": "code",
   "execution_count": 87,
   "metadata": {},
   "outputs": [
    {
     "name": "stdout",
     "output_type": "stream",
     "text": [
      "\u001b[31mStopIteration\u001b[0m\n"
     ]
    }
   ],
   "source": [
    "try:\n",
    "    next(r_iter)\n",
    "except Exception as ex:\n",
    "    cprint(ex.__class__.__name__, \"red\")"
   ]
  },
  {
   "cell_type": "markdown",
   "metadata": {},
   "source": [
    "Именно так и работает цикл `for`:\n",
    "\n",
    "1. Получает итерируемый объект `a`.\n",
    "2. Преобразует его в итератор `a_iter = iter(a)`.\n",
    "3. Применяет к нему функцию `next(a_iter)` до тех пор, пока не инициируется исключение `StopIteration`.\n",
    "\n",
    "В нашем случае объект `a` имел тип `range`, т.е. был объектом данного класса.\n",
    "Внутри этого класса определён метод `__iter__` (или `__getitem__`, если необходимо поддерживать индексацию), который вызывается с помощью `iter(a)` и превращает объект `a` в итератор `a_iter`.\n",
    "Можно сказать, что `iter(a)` то же самое, что и `a.__iter__()`.\n",
    "\n",
    "Три приведённых выше пункта совместно с реализацией метода `__iter__` или `__getitem__` - это и есть _протокол итератора или протокол итерации_."
   ]
  },
  {
   "cell_type": "markdown",
   "metadata": {},
   "source": [
    "## Пример собственного итерируемого класса\n",
    "\n",
    "Создадим класс `Range`, предназначенный для той же задачи, что и стандартный `range`:"
   ]
  },
  {
   "cell_type": "code",
   "execution_count": 88,
   "metadata": {},
   "outputs": [],
   "source": [
    "class Range:\n",
    "    # Конструктор (инициализатор) объекта данного класса\n",
    "    def __init__(self, start, stop=None, step=1):\n",
    "        if stop is None:\n",
    "            stop = start\n",
    "            start = 0\n",
    "        # Внутри каждого объекта будет лежать\n",
    "        # соответствующий генератор, который\n",
    "        # в отличие от списка не требует выделения\n",
    "        # памяти под каждый элемент коллекции\n",
    "        self.values = range(start, stop, step)\n",
    "    \n",
    "    # Функция преобразования объекта данного класса\n",
    "    # в итератор\n",
    "    def __iter__(self):\n",
    "        return iter(self.values)"
   ]
  },
  {
   "cell_type": "markdown",
   "metadata": {},
   "source": [
    "```{note}\n",
    "О генераторах см. главу {ref}`about_generators`.\n",
    "```\n",
    "\n",
    "Работа с объектами нашего класса ничем не отличается от работы с `range`:"
   ]
  },
  {
   "cell_type": "code",
   "execution_count": 89,
   "metadata": {},
   "outputs": [
    {
     "name": "stdout",
     "output_type": "stream",
     "text": [
      "-3 -1 1 3 5 7 "
     ]
    }
   ],
   "source": [
    "for i in Range(-3, 8, 2):\n",
    "    print(i, end=\" \")"
   ]
  },
  {
   "cell_type": "markdown",
   "metadata": {},
   "source": [
    "Таким образом мы и реализовали протокол итерации."
   ]
  },
  {
   "cell_type": "markdown",
   "metadata": {},
   "source": [
    "## Упражнения\n",
    "\n",
    "1. Опишите стандартные `zip` и `enumerate` собственными классами по аналогии с классом `Range`, рализовав протокол итерации."
   ]
  },
  {
   "cell_type": "markdown",
   "metadata": {},
   "source": [
    "## См. также\n",
    "\n",
    "1. Более подробно и строго об итераторах и протоколе итерации рассказано [здесь](https://pyneng.readthedocs.io/ru/latest/book/23_oop_special_methods/iterable_iterator.html)."
   ]
  }
 ],
 "metadata": {
  "kernelspec": {
   "display_name": ".venv",
   "language": "python",
   "name": "python3"
  },
  "language_info": {
   "codemirror_mode": {
    "name": "ipython",
    "version": 3
   },
   "file_extension": ".py",
   "mimetype": "text/x-python",
   "name": "python",
   "nbconvert_exporter": "python",
   "pygments_lexer": "ipython3",
   "version": "3.10.12"
  },
  "orig_nbformat": 4
 },
 "nbformat": 4,
 "nbformat_minor": 2
}
