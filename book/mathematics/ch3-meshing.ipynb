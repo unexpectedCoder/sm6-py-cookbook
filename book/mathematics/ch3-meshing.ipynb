{
 "cells": [
  {
   "cell_type": "markdown",
   "metadata": {},
   "source": [
    "# Построение расчётных сеток\n",
    "\n",
    "Расчётные сетки используются для дискретизации пространства при решении задач в частных производных.\n",
    "В данной главе рассматривается создание сеток с помощью библиотеки NumPy, а именно с использованием функции [`meshgrid(...)`](https://numpy.org/doc/stable/reference/generated/numpy.meshgrid.html) и внутреннего экземпляра [`mgrid`](https://numpy.org/doc/stable/reference/generated/numpy.mgrid.html).\n",
    "\n",
    "Подключим NumPy:"
   ]
  },
  {
   "cell_type": "code",
   "execution_count": 1,
   "metadata": {},
   "outputs": [],
   "source": [
    "from termcolor import colored\n",
    "import numpy as np"
   ]
  },
  {
   "cell_type": "markdown",
   "metadata": {},
   "source": [
    "## Пример задачи и её \"плохое\" решение\n",
    "\n",
    "Пусть имеется прямоугольное поле в координатах $Oxy$ размера $w \\times h$ (ширина $\\times$ высота).\n",
    "Разобьём поле на $n_x$ и $n_y$ точек по соответствующим осям."
   ]
  },
  {
   "cell_type": "code",
   "execution_count": 2,
   "metadata": {},
   "outputs": [
    {
     "data": {
      "text/plain": [
       "(array([ 0.,  2.,  4.,  6.,  8., 10., 12., 14., 16., 18., 20.]),\n",
       " array([ 0.,  2.,  4.,  6.,  8., 10.]))"
      ]
     },
     "execution_count": 2,
     "metadata": {},
     "output_type": "execute_result"
    }
   ],
   "source": [
    "w, h = 20, 10\n",
    "n_x, n_y = 11, 6\n",
    "# Разбиваем оси\n",
    "x = np.linspace(0, w, n_x)\n",
    "y = np.linspace(0, h, n_y)\n",
    "x, y"
   ]
  },
  {
   "cell_type": "markdown",
   "metadata": {},
   "source": [
    "Массивы `x` и `y` имеют разный размер.\n",
    "Из-за этого становится проблемным их использование по правилам NumPy (подробнее см. [здесь](https://numpy.org/doc/stable/user/basics.broadcasting.html)).\n",
    "\n",
    "Допустим нам нужно посчитать на расчётной сетки некоторую функцию\n",
    "\n",
    "$$\n",
    "z(x, y) = \\sin{x} \\cos{y}.\n",
    "$$ (eqn:func)\n",
    "\n",
    "В программе опишем эту функцию так:"
   ]
  },
  {
   "cell_type": "code",
   "execution_count": 3,
   "metadata": {},
   "outputs": [],
   "source": [
    "def func(x, y):\n",
    "    return np.sin(x) * np.cos(y)"
   ]
  },
  {
   "cell_type": "markdown",
   "metadata": {},
   "source": [
    "Если сейчас вызвать эту функцию так `z(x, y)`, то получим ошибку:"
   ]
  },
  {
   "cell_type": "code",
   "execution_count": 4,
   "metadata": {},
   "outputs": [
    {
     "name": "stdout",
     "output_type": "stream",
     "text": [
      "\u001b[31mValueError:\u001b[0m operands could not be broadcast together with shapes (11,) (6,) \n"
     ]
    }
   ],
   "source": [
    "# Хранит красный текст ошибки\n",
    "value_err_text = colored(\"ValueError:\", \"red\")\n",
    "\n",
    "try:\n",
    "    func(x, y)\n",
    "except ValueError as ex:\n",
    "    print(value_err_text, ex)"
   ]
  },
  {
   "cell_type": "markdown",
   "metadata": {},
   "source": [
    "Ошибка связана с транслированием индексов ([broadcasting](https://numpy.org/doc/stable/user/basics.broadcasting.html)'ом) NumPy-массивов `x` и `y` - их размерности не совпадают и не могут транслироваться по принятым правилам.\n",
    "\n",
    "Можно запрограммировать \"велосипед\", суть которого заключается в использовании двух циклов для итерации по всем парам значений $(x_i, y_j)$:"
   ]
  },
  {
   "cell_type": "code",
   "execution_count": 5,
   "metadata": {},
   "outputs": [
    {
     "data": {
      "text/plain": [
       "array([ 0.        , -0.        , -0.        ,  0.        , -0.        ,\n",
       "       -0.        ,  0.90929743, -0.37840125, -0.59435646,  0.87308037,\n",
       "       -0.13230281, -0.76296558, -0.7568025 ,  0.31494096,  0.49467912,\n",
       "       -0.72665927,  0.11011479,  0.63501143, -0.2794155 ,  0.11627788,\n",
       "        0.18263816, -0.26828646,  0.04065496,  0.23444959,  0.98935825,\n",
       "       -0.4117183 , -0.64668771,  0.94995239, -0.14395166, -0.83014234,\n",
       "       -0.54402111,  0.22639266,  0.35559593, -0.52235291,  0.07915509,\n",
       "        0.45647263, -0.53657292,  0.22329312,  0.35072746, -0.51520137,\n",
       "        0.07807138,  0.45022306,  0.99060736, -0.41223812, -0.64750418,\n",
       "        0.95115175, -0.1441334 , -0.83119043, -0.28790332,  0.11981005,\n",
       "        0.18818617, -0.27643621,  0.04188994,  0.24157148, -0.75098725,\n",
       "        0.31252097,  0.49087802, -0.72107564,  0.10926867,  0.63013202,\n",
       "        0.91294525, -0.37991928, -0.59674084,  0.8765829 , -0.13283356,\n",
       "       -0.76602637])"
      ]
     },
     "execution_count": 5,
     "metadata": {},
     "output_type": "execute_result"
    }
   ],
   "source": [
    "z = []\n",
    "\n",
    "for xi in x:\n",
    "    for yj in y:\n",
    "        z.append(func(xi, yj))\n",
    "z = np.array(z)\n",
    "\n",
    "z"
   ]
  },
  {
   "cell_type": "markdown",
   "metadata": {},
   "source": [
    "Попробуем построить точечный график:"
   ]
  },
  {
   "cell_type": "code",
   "execution_count": 6,
   "metadata": {},
   "outputs": [
    {
     "name": "stdout",
     "output_type": "stream",
     "text": [
      "\u001b[31mValueError:\u001b[0m x and y must be the same size\n"
     ]
    }
   ],
   "source": [
    "import matplotlib.pyplot as plt\n",
    "\n",
    "try:\n",
    "    fig, ax = plt.subplots()\n",
    "    ax.scatter(x, y, z, cmap=\"coolwarm\")\n",
    "except ValueError as ex:\n",
    "    print(value_err_text, ex)\n",
    "    plt.close(fig)"
   ]
  },
  {
   "cell_type": "markdown",
   "metadata": {},
   "source": [
    "Разный размер `x` и `y` снова приводит к исключению.\n",
    "Более того, массив `z` имеет совсем другой размер:"
   ]
  },
  {
   "cell_type": "code",
   "execution_count": 7,
   "metadata": {},
   "outputs": [
    {
     "data": {
      "text/plain": [
       "(11, 6, 66)"
      ]
     },
     "execution_count": 7,
     "metadata": {},
     "output_type": "execute_result"
    }
   ],
   "source": [
    "x.size, y.size, z.size"
   ]
  },
  {
   "cell_type": "markdown",
   "metadata": {},
   "source": [
    "Чтобы построить график придётся снова записать двойной цикл, как при формировании `z`:"
   ]
  },
  {
   "cell_type": "code",
   "execution_count": 8,
   "metadata": {},
   "outputs": [
    {
     "data": {
      "image/png": "[encoded data removed]",
      "text/plain": [
       "<Figure size 640x480 with 1 Axes>"
      ]
     },
     "metadata": {},
     "output_type": "display_data"
    }
   ],
   "source": [
    "fig, ax = plt.subplots()\n",
    "\n",
    "for xi in x:\n",
    "    for yj in y:\n",
    "        ax.scatter(\n",
    "            xi, yj,\n",
    "            c=func(xi, yj), cmap='coolwarm'\n",
    "        )"
   ]
  },
  {
   "cell_type": "markdown",
   "metadata": {},
   "source": [
    "Все точки имеют одинаковый (синий) цвет, соответствующий минимальному значению функцию, но функция {eq}`eqn:func` является тригонометрической и периодической - в массиве `z` лежат различные значения, следовательно, и цвета точек должны быть различными. Это обусловлено тем, что `ax.scatter(...)` вызывается как бы _атомарно_, т.е. с единицами данных, а не с целыми массивами данных.\n",
    "\n",
    "Конечно, можно добиться правильного решения, усложняя код, на самом деле наполняя его \"костылями\" и \"велосипедами\".\n",
    "Правильнее, быстрее и полезнее использовать готовые решения NumPy (или др. библиотек обработки данных)."
   ]
  },
  {
   "cell_type": "markdown",
   "metadata": {},
   "source": [
    "## Использование `numpy.meshgrid`"
   ]
  },
  {
   "cell_type": "markdown",
   "metadata": {},
   "source": [
    "### Регулярная сетка\n",
    "\n",
    "Создадим _регулярную_ сетку, т.е. сетку, имеющую постоянные шаги по обоим направлениям:"
   ]
  },
  {
   "cell_type": "code",
   "execution_count": 9,
   "metadata": {},
   "outputs": [],
   "source": [
    "X, Y = np.meshgrid(x, y)"
   ]
  },
  {
   "cell_type": "markdown",
   "metadata": {},
   "source": [
    "Получили двумерные массивы `X` и `Y` одинакового размера:"
   ]
  },
  {
   "cell_type": "code",
   "execution_count": 10,
   "metadata": {},
   "outputs": [
    {
     "data": {
      "text/plain": [
       "((6, 11), (6, 11))"
      ]
     },
     "execution_count": 10,
     "metadata": {},
     "output_type": "execute_result"
    }
   ],
   "source": [
    "X.shape, Y.shape"
   ]
  },
  {
   "cell_type": "markdown",
   "metadata": {},
   "source": [
    "Выглядят они так:"
   ]
  },
  {
   "cell_type": "code",
   "execution_count": 11,
   "metadata": {},
   "outputs": [
    {
     "data": {
      "text/plain": [
       "(array([[ 0.,  2.,  4.,  6.,  8., 10., 12., 14., 16., 18., 20.],\n",
       "        [ 0.,  2.,  4.,  6.,  8., 10., 12., 14., 16., 18., 20.],\n",
       "        [ 0.,  2.,  4.,  6.,  8., 10., 12., 14., 16., 18., 20.],\n",
       "        [ 0.,  2.,  4.,  6.,  8., 10., 12., 14., 16., 18., 20.],\n",
       "        [ 0.,  2.,  4.,  6.,  8., 10., 12., 14., 16., 18., 20.],\n",
       "        [ 0.,  2.,  4.,  6.,  8., 10., 12., 14., 16., 18., 20.]]),\n",
       " array([[ 0.,  0.,  0.,  0.,  0.,  0.,  0.,  0.,  0.,  0.,  0.],\n",
       "        [ 2.,  2.,  2.,  2.,  2.,  2.,  2.,  2.,  2.,  2.,  2.],\n",
       "        [ 4.,  4.,  4.,  4.,  4.,  4.,  4.,  4.,  4.,  4.,  4.],\n",
       "        [ 6.,  6.,  6.,  6.,  6.,  6.,  6.,  6.,  6.,  6.,  6.],\n",
       "        [ 8.,  8.,  8.,  8.,  8.,  8.,  8.,  8.,  8.,  8.,  8.],\n",
       "        [10., 10., 10., 10., 10., 10., 10., 10., 10., 10., 10.]]))"
      ]
     },
     "execution_count": 11,
     "metadata": {},
     "output_type": "execute_result"
    }
   ],
   "source": [
    "X, Y"
   ]
  },
  {
   "cell_type": "markdown",
   "metadata": {},
   "source": [
    "Теперь нет никаких проблем напрямую вызвать `func` с аргументами `X` и `Y`:"
   ]
  },
  {
   "cell_type": "code",
   "execution_count": 12,
   "metadata": {},
   "outputs": [
    {
     "data": {
      "text/plain": [
       "array([[ 0.        ,  0.90929743, -0.7568025 , -0.2794155 ,  0.98935825,\n",
       "        -0.54402111, -0.53657292,  0.99060736, -0.28790332, -0.75098725,\n",
       "         0.91294525],\n",
       "       [-0.        , -0.37840125,  0.31494096,  0.11627788, -0.4117183 ,\n",
       "         0.22639266,  0.22329312, -0.41223812,  0.11981005,  0.31252097,\n",
       "        -0.37991928],\n",
       "       [-0.        , -0.59435646,  0.49467912,  0.18263816, -0.64668771,\n",
       "         0.35559593,  0.35072746, -0.64750418,  0.18818617,  0.49087802,\n",
       "        -0.59674084],\n",
       "       [ 0.        ,  0.87308037, -0.72665927, -0.26828646,  0.94995239,\n",
       "        -0.52235291, -0.51520137,  0.95115175, -0.27643621, -0.72107564,\n",
       "         0.8765829 ],\n",
       "       [-0.        , -0.13230281,  0.11011479,  0.04065496, -0.14395166,\n",
       "         0.07915509,  0.07807138, -0.1441334 ,  0.04188994,  0.10926867,\n",
       "        -0.13283356],\n",
       "       [-0.        , -0.76296558,  0.63501143,  0.23444959, -0.83014234,\n",
       "         0.45647263,  0.45022306, -0.83119043,  0.24157148,  0.63013202,\n",
       "        -0.76602637]])"
      ]
     },
     "execution_count": 12,
     "metadata": {},
     "output_type": "execute_result"
    }
   ],
   "source": [
    "Z = func(X, Y)\n",
    "Z"
   ]
  },
  {
   "cell_type": "markdown",
   "metadata": {},
   "source": [
    "Размер `Z` тот же:"
   ]
  },
  {
   "cell_type": "code",
   "execution_count": 13,
   "metadata": {},
   "outputs": [
    {
     "data": {
      "text/plain": [
       "(6, 11)"
      ]
     },
     "execution_count": 13,
     "metadata": {},
     "output_type": "execute_result"
    }
   ],
   "source": [
    "Z.shape"
   ]
  },
  {
   "cell_type": "markdown",
   "metadata": {},
   "source": [
    "И так же легко правильно построить график:"
   ]
  },
  {
   "cell_type": "code",
   "execution_count": 14,
   "metadata": {},
   "outputs": [
    {
     "data": {
      "image/png": "[encoded data removed]",
      "text/plain": [
       "<Figure size 640x480 with 2 Axes>"
      ]
     },
     "metadata": {},
     "output_type": "display_data"
    }
   ],
   "source": [
    "fig, ax = plt.subplots()\n",
    "img = ax.scatter(X, Y, c=Z, cmap=\"coolwarm\")\n",
    "fig.colorbar(img, ax=ax, label=\"$z$\", shrink=0.5)\n",
    "ax.set(xlabel=\"$x$\", ylabel=\"$y$\", aspect=\"equal\");"
   ]
  },
  {
   "cell_type": "markdown",
   "metadata": {},
   "source": [
    "Или заполненный контурный график (и более плотная сетка):"
   ]
  },
  {
   "cell_type": "code",
   "execution_count": 15,
   "metadata": {},
   "outputs": [
    {
     "data": {
      "image/png": "[encoded data removed]",
      "text/plain": [
       "<Figure size 640x480 with 2 Axes>"
      ]
     },
     "metadata": {},
     "output_type": "display_data"
    }
   ],
   "source": [
    "# Больше точек\n",
    "x, y = np.linspace(0, w, 300), np.linspace(0, h, 200)\n",
    "# Сетка\n",
    "X, Y = np.meshgrid(x, y)\n",
    "Z = func(X, Y)\n",
    "\n",
    "fig, ax = plt.subplots()\n",
    "img = ax.contourf(X, Y, Z, cmap=\"coolwarm\")\n",
    "fig.colorbar(img, ax=ax, label=\"$z$\", shrink=0.5)\n",
    "ax.set(xlabel=\"$x$\", ylabel=\"$y$\", aspect=\"equal\");"
   ]
  },
  {
   "cell_type": "markdown",
   "metadata": {},
   "source": [
    "### Неравномерная сетка\n",
    "\n",
    "Разобьём оси в геометрической прогрессии:"
   ]
  },
  {
   "cell_type": "code",
   "execution_count": 16,
   "metadata": {},
   "outputs": [
    {
     "data": {
      "text/plain": [
       "(array([[ 1,  2,  4,  8, 16, 32],\n",
       "        [ 1,  2,  4,  8, 16, 32],\n",
       "        [ 1,  2,  4,  8, 16, 32],\n",
       "        [ 1,  2,  4,  8, 16, 32]]),\n",
       " array([[ 1,  1,  1,  1,  1,  1],\n",
       "        [ 3,  3,  3,  3,  3,  3],\n",
       "        [ 9,  9,  9,  9,  9,  9],\n",
       "        [27, 27, 27, 27, 27, 27]]))"
      ]
     },
     "execution_count": 16,
     "metadata": {},
     "output_type": "execute_result"
    }
   ],
   "source": [
    "xg = np.array([\n",
    "    2**i for i in range(6)\n",
    "])\n",
    "yg = np.array([\n",
    "    3**i for i in range(4)\n",
    "])\n",
    "X, Y = np.meshgrid(xg, yg)\n",
    "X, Y"
   ]
  },
  {
   "cell_type": "markdown",
   "metadata": {},
   "source": [
    "Построим точечный график:"
   ]
  },
  {
   "cell_type": "code",
   "execution_count": 17,
   "metadata": {},
   "outputs": [
    {
     "data": {
      "image/png": "[encoded data removed]",
      "text/plain": [
       "<Figure size 640x480 with 2 Axes>"
      ]
     },
     "metadata": {},
     "output_type": "display_data"
    }
   ],
   "source": [
    "Z = func(X, Y)\n",
    "\n",
    "fig, ax = plt.subplots()\n",
    "img = plt.scatter(X, Y, c=Z, cmap=\"coolwarm\")\n",
    "fig.colorbar(img, ax=ax, label=\"$z$\")\n",
    "ax.set(xlabel=\"$x$\", ylabel=\"$y$\");"
   ]
  },
  {
   "cell_type": "markdown",
   "metadata": {},
   "source": [
    "## Использование `numpy.mgrid`\n",
    "\n",
    "Создать равномерную сетку можно и так:"
   ]
  },
  {
   "cell_type": "code",
   "execution_count": 18,
   "metadata": {},
   "outputs": [
    {
     "data": {
      "text/plain": [
       "(array([[0., 0., 0., 0.],\n",
       "        [2., 2., 2., 2.],\n",
       "        [4., 4., 4., 4.],\n",
       "        [6., 6., 6., 6.],\n",
       "        [8., 8., 8., 8.]]),\n",
       " array([[0. , 1.5, 3. , 4.5],\n",
       "        [0. , 1.5, 3. , 4.5],\n",
       "        [0. , 1.5, 3. , 4.5],\n",
       "        [0. , 1.5, 3. , 4.5],\n",
       "        [0. , 1.5, 3. , 4.5]]))"
      ]
     },
     "execution_count": 18,
     "metadata": {},
     "output_type": "execute_result"
    }
   ],
   "source": [
    "# Сетка размером 20 на 10\n",
    "# с шагом 2 по каждому направлению:\n",
    "# синтаксис похож на синтаксис среза,\n",
    "# только шаг может быть действительным числом\n",
    "X, Y = np.mgrid[0:10:2, 0:6:1.5]\n",
    "X, Y"
   ]
  },
  {
   "cell_type": "markdown",
   "metadata": {},
   "source": [
    "Полученные массивы по сути своей ничем не отличаются от созданных с помощью `meshgrid`.\n",
    "\n",
    "Однако крайние значения 10 и 5 интервалов в массивы не вошли.\n",
    "Можно это исправить двумя способами:\n",
    "\n",
    "* увеличив правую границу интервала на величину шага или меньше:"
   ]
  },
  {
   "cell_type": "code",
   "execution_count": 19,
   "metadata": {},
   "outputs": [
    {
     "data": {
      "text/plain": [
       "(array([[ 0.,  0.,  0.,  0.,  0.],\n",
       "        [ 2.,  2.,  2.,  2.,  2.],\n",
       "        [ 4.,  4.,  4.,  4.,  4.],\n",
       "        [ 6.,  6.,  6.,  6.,  6.],\n",
       "        [ 8.,  8.,  8.,  8.,  8.],\n",
       "        [10., 10., 10., 10., 10.]]),\n",
       " array([[0. , 1.5, 3. , 4.5, 6. ],\n",
       "        [0. , 1.5, 3. , 4.5, 6. ],\n",
       "        [0. , 1.5, 3. , 4.5, 6. ],\n",
       "        [0. , 1.5, 3. , 4.5, 6. ],\n",
       "        [0. , 1.5, 3. , 4.5, 6. ],\n",
       "        [0. , 1.5, 3. , 4.5, 6. ]]))"
      ]
     },
     "execution_count": 19,
     "metadata": {},
     "output_type": "execute_result"
    }
   ],
   "source": [
    "# 12 вместо 10, 7 вместо 6\n",
    "X, Y = np.mgrid[0:12:2, 0:7:1.5]\n",
    "X, Y"
   ]
  },
  {
   "cell_type": "markdown",
   "metadata": {},
   "source": [
    "* передав в третьей позиции коплексное число - оно будет интерпретировано как число точек разбиения по аналогии с `numpy.linspace`:"
   ]
  },
  {
   "cell_type": "code",
   "execution_count": 20,
   "metadata": {},
   "outputs": [
    {
     "data": {
      "text/plain": [
       "(array([[ 0.,  0.,  0.,  0.,  0.],\n",
       "        [ 2.,  2.,  2.,  2.,  2.],\n",
       "        [ 4.,  4.,  4.,  4.,  4.],\n",
       "        [ 6.,  6.,  6.,  6.,  6.],\n",
       "        [ 8.,  8.,  8.,  8.,  8.],\n",
       "        [10., 10., 10., 10., 10.]]),\n",
       " array([[0. , 1.5, 3. , 4.5, 6. ],\n",
       "        [0. , 1.5, 3. , 4.5, 6. ],\n",
       "        [0. , 1.5, 3. , 4.5, 6. ],\n",
       "        [0. , 1.5, 3. , 4.5, 6. ],\n",
       "        [0. , 1.5, 3. , 4.5, 6. ],\n",
       "        [0. , 1.5, 3. , 4.5, 6. ]]))"
      ]
     },
     "execution_count": 20,
     "metadata": {},
     "output_type": "execute_result"
    }
   ],
   "source": [
    "X, Y = np.mgrid[0:10:6j, 0:6:5j]\n",
    "X, Y"
   ]
  },
  {
   "cell_type": "markdown",
   "metadata": {},
   "source": [
    "```{note}\n",
    "Используя `mgrid` невозможно построить сетки с переменным шагом.\n",
    "```"
   ]
  },
  {
   "cell_type": "markdown",
   "metadata": {},
   "source": [
    "## Заключение\n",
    "\n",
    "1. Универсальным инструментом построения прямоугольных сеток служит функция `numpy.meshgrid(...)`.\n",
    "2. С помощью `numpy.mgrid` можно строить регулярные сетки. Данный способ привносит некоторый \"синтаксический сахар\" - не нужно создавать предварительные массивы, как в случае с `meshgrid(...)`."
   ]
  },
  {
   "cell_type": "markdown",
   "metadata": {},
   "source": [
    "## См. также\n",
    "\n",
    "1. Для построения сложных расчётных сеток в Python (для методов конечных элементов) существуют такие библиотеки, как [PyMesh](https://pymesh.readthedocs.io/en/latest/), [scikit-fem](https://pypi.org/project/scikit-fem/) и др."
   ]
  }
 ],
 "metadata": {
  "kernelspec": {
   "display_name": ".venv",
   "language": "python",
   "name": "python3"
  },
  "language_info": {
   "codemirror_mode": {
    "name": "ipython",
    "version": 3
   },
   "file_extension": ".py",
   "mimetype": "text/x-python",
   "name": "python",
   "nbconvert_exporter": "python",
   "pygments_lexer": "ipython3",
   "version": "3.10.6"
  },
  "orig_nbformat": 4
 },
 "nbformat": 4,
 "nbformat_minor": 2
}
